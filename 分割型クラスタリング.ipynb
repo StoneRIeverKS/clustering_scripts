{
 "cells": [
  {
   "cell_type": "markdown",
   "metadata": {},
   "source": [
    "# 前準備"
   ]
  },
  {
   "cell_type": "markdown",
   "metadata": {
    "ExecuteTime": {
     "end_time": "2022-04-07T13:01:04.455699Z",
     "start_time": "2022-04-07T13:01:04.442404Z"
    }
   },
   "source": [
    "## import"
   ]
  },
  {
   "cell_type": "code",
   "execution_count": 3,
   "metadata": {
    "ExecuteTime": {
     "end_time": "2022-04-07T13:01:33.068934Z",
     "start_time": "2022-04-07T13:01:33.050228Z"
    }
   },
   "outputs": [],
   "source": [
    "# 必要なライブラリーのインストール\n",
    "import numpy as np\n",
    "import pandas as pd\n",
    "\n",
    "# 可視化\n",
    "import matplotlib as mpl\n",
    "import matplotlib.pyplot as plt\n",
    "import seaborn as sns\n",
    "from IPython.display import display\n",
    "%matplotlib inline\n",
    "sns.set_style('whitegrid')\n",
    "\n",
    "# 正規化のためのクラス\n",
    "from sklearn.preprocessing import StandardScaler\n",
    "\n",
    "from scipy.cluster.hierarchy import linkage, dendrogram, fcluster\n",
    "\n",
    "## データ取得用\n",
    "\n",
    "import urllib"
   ]
  },
  {
   "cell_type": "code",
   "execution_count": 4,
   "metadata": {
    "ExecuteTime": {
     "end_time": "2022-04-07T13:01:37.914957Z",
     "start_time": "2022-04-07T13:01:36.468288Z"
    },
    "scrolled": true
   },
   "outputs": [
    {
     "data": {
      "text/html": [
       "<div>\n",
       "<style scoped>\n",
       "    .dataframe tbody tr th:only-of-type {\n",
       "        vertical-align: middle;\n",
       "    }\n",
       "\n",
       "    .dataframe tbody tr th {\n",
       "        vertical-align: top;\n",
       "    }\n",
       "\n",
       "    .dataframe thead th {\n",
       "        text-align: right;\n",
       "    }\n",
       "</style>\n",
       "<table border=\"1\" class=\"dataframe\">\n",
       "  <thead>\n",
       "    <tr style=\"text-align: right;\">\n",
       "      <th></th>\n",
       "      <th>Japanese</th>\n",
       "      <th>Math</th>\n",
       "      <th>English</th>\n",
       "    </tr>\n",
       "    <tr>\n",
       "      <th>Student</th>\n",
       "      <th></th>\n",
       "      <th></th>\n",
       "      <th></th>\n",
       "    </tr>\n",
       "  </thead>\n",
       "  <tbody>\n",
       "    <tr>\n",
       "      <th>0</th>\n",
       "      <td>80</td>\n",
       "      <td>85</td>\n",
       "      <td>100</td>\n",
       "    </tr>\n",
       "    <tr>\n",
       "      <th>1</th>\n",
       "      <td>96</td>\n",
       "      <td>100</td>\n",
       "      <td>100</td>\n",
       "    </tr>\n",
       "    <tr>\n",
       "      <th>2</th>\n",
       "      <td>54</td>\n",
       "      <td>83</td>\n",
       "      <td>98</td>\n",
       "    </tr>\n",
       "    <tr>\n",
       "      <th>3</th>\n",
       "      <td>80</td>\n",
       "      <td>98</td>\n",
       "      <td>98</td>\n",
       "    </tr>\n",
       "    <tr>\n",
       "      <th>4</th>\n",
       "      <td>90</td>\n",
       "      <td>92</td>\n",
       "      <td>91</td>\n",
       "    </tr>\n",
       "  </tbody>\n",
       "</table>\n",
       "</div>"
      ],
      "text/plain": [
       "         Japanese  Math  English\n",
       "Student                         \n",
       "0              80    85      100\n",
       "1              96   100      100\n",
       "2              54    83       98\n",
       "3              80    98       98\n",
       "4              90    92       91"
      ]
     },
     "metadata": {},
     "output_type": "display_data"
    },
    {
     "name": "stdout",
     "output_type": "stream",
     "text": [
      "(37, 3)\n"
     ]
    },
    {
     "data": {
      "image/png": "[encoded data removed]",
      "text/plain": [
       "<Figure size 540x540 with 12 Axes>"
      ]
     },
     "metadata": {},
     "output_type": "display_data"
    }
   ],
   "source": [
    "# ウェブ上のリソースを指定する\n",
    "url = 'https://raw.githubusercontent.com/maskot1977/ipython_notebook/master/toydata/SchoolScore.txt'\n",
    "# 指定したURLからリソースをダウンロードし、名前をつける。\n",
    "urllib.request.urlretrieve(url, 'SchoolScore.txt')\n",
    "\n",
    "df = pd.read_csv(\"SchoolScore.txt\", sep='\\t', na_values=\".\", index_col=[\"Student\"]) # データの読み込み\n",
    "\n",
    "# 確認\n",
    "display(df.head(5))\n",
    "print(df.shape)\n",
    "\n",
    "pg = sns.pairplot(df)"
   ]
  },
  {
   "cell_type": "markdown",
   "metadata": {},
   "source": [
    "# 分割型クラスタリングを実装\n",
    "下記論文の手法を実装\n",
    "- Macnaughton Smith, P., Williams, W., Dale, M. and Mockett, L. (1965). Dissimilarity analysis: anew technique of hierarchical subdivision, Nature 202:1034-1035."
   ]
  },
  {
   "cell_type": "code",
   "execution_count": 6,
   "metadata": {
    "ExecuteTime": {
     "end_time": "2022-04-07T13:25:45.393198Z",
     "start_time": "2022-04-07T13:25:45.359536Z"
    }
   },
   "outputs": [],
   "source": [
    "class MacnaughtonClustering:\n",
    "    # 初期化関数\n",
    "    def __init__(self, df):\n",
    "        self.df = df\n",
    "        \n",
    "        # クラス内で必要なlibraryのimport\n",
    "        import numpy as np\n",
    "        \n",
    "    # 距離行列を作成する関数\n",
    "    def makeDistanceMatrix(self):\n",
    "        # 各データの組み合わせを作成\n",
    "        combination_df = self.df-self.df[:, np.newaxis]\n",
    "        \n",
    "        # 組み合わせごとに距離を計算\n",
    "        d_matrix = np.array([[np.linalg.norm(combination_df[i, j]) for i in range(0, len(self.df))] for j in range(0, len(self.df))])\n",
    "        \n",
    "        # 出力\n",
    "        self.d_matrix = d_matrix \n",
    "        return(d_matrix)\n",
    "    \n",
    "    # クラスタ分割を制御・実行する関数\n",
    "    def doClustering(self):\n",
    "        \n",
    "        # クラスタを分割する関数\n",
    "        def doClusteringCore(target):\n",
    "            G1 = target.copy() # 移動元\n",
    "            G2 = [] # 移動先\n",
    "\n",
    "            # 移動すべき1個目の点を決める\n",
    "            tmp_d_matrix = self.d_matrix[np.ix_(G1, G1)]\n",
    "            maxi = np.argmax(\n",
    "                np.apply_along_axis(\n",
    "                    np.mean,\n",
    "                    axis = 0,\n",
    "                    arr = tmp_d_matrix)\n",
    "            )\n",
    "            \n",
    "            # cluster1のmiをcluster2に移動するメソッド\n",
    "            def move(cluster1, cluster2, mi):\n",
    "                trans_data = cluster1[mi]\n",
    "                cluster1.remove(trans_data)\n",
    "                cluster2.append(trans_data)\n",
    "\n",
    "            # 点の移動\n",
    "            move(cluster1 = G1, cluster2 = G2, mi = maxi)\n",
    "    \n",
    "            while True:\n",
    "                # 2個目以降の移動すべき点を決める\n",
    "                ## G1の各点の他の点との平均距離\n",
    "                tmp_d_matrix = self.d_matrix[np.ix_(G1, G1)]\n",
    "                G1_mean = np.apply_along_axis(\n",
    "                    sum,\n",
    "                    axis = 0,\n",
    "                    arr = tmp_d_matrix\n",
    "                )/(len(G1)-1)\n",
    "\n",
    "                ## G1の各点とG2の各点の平均距離\n",
    "                tmp_d_matrix = self.d_matrix[np.ix_(G1, G2)]\n",
    "                d_g1tog2 = np.apply_along_axis(\n",
    "                    np.mean,\n",
    "                    axis = 1,\n",
    "                    arr = tmp_d_matrix\n",
    "                )\n",
    "\n",
    "                ## 「G1の各点の他の点との平均距離」-「G1の各点とG2の各点の平均距離」\n",
    "                criterion = G1_mean-d_g1tog2\n",
    "\n",
    "                ## 判定条件の作成\n",
    "                cond = (criterion <= 0)\n",
    "                tf = all(cond)\n",
    "                \n",
    "                # 判定がTrueの場合、while文から抜け出し、分割終了\n",
    "                # 判定がFalseの場合、点を移動させ分割続行\n",
    "                if tf:\n",
    "                    break\n",
    "                else:\n",
    "                    maxi = np.argmax(criterion)\n",
    "                    move(cluster1 = G1, cluster2 = G2, mi = maxi)\n",
    "                    \n",
    "            cluster_diff = np.sum(self.d_matrix[np.ix_(G1, G2)])/(len(G1)*len(G2))\n",
    "            \n",
    "            # 出力\n",
    "            return([G1, G2, cluster_diff])\n",
    "        \n",
    "        # クラスタリング結果を格納するDataFrame定義\n",
    "        tmp0_result_DF = pd.DataFrame(columns=[\"tmp_cluster_no\", \"cluster\", \"diff\", \"children\"])\n",
    "\n",
    "        # 0行目は元のクラスタのインデックスを格納\n",
    "        tmp0_result_DF.loc[0] = [0, list(range(0, len(self.df))), np.nan, np.nan]\n",
    "\n",
    "        # パラメータ設定\n",
    "        count = 0 # 分割回数\n",
    "        next_clustering = 0 # 次に分割するクラスタのインデックス\n",
    "        clustering_done = [] # 既に分割したクラスタ\n",
    "\n",
    "        # 分割前後の処理を実行する関数\n",
    "        def clusterSupoort(rdf, nc, cd):\n",
    "            clustered_1 = max(rdf.index)+1\n",
    "            clustered_2 = max(rdf.index)+2\n",
    "\n",
    "            # 分割\n",
    "            if len(rdf.iloc[nc][\"cluster\"]) >= 3: # クラスタ数が3以上のとき、通常の分割\n",
    "                cluster1, cluster2, diff = doClusteringCore(target = rdf.iloc[nc][\"cluster\"])\n",
    "            else : # クラスタ数が2のときは、一つずつに分割\n",
    "                cluster1 = [rdf.iloc[nc][\"cluster\"][0]]\n",
    "                cluster2 = [rdf.iloc[nc][\"cluster\"][1]]\n",
    "                diff = self.d_matrix[np.ix_(cluster1, cluster2)][0, 0]\n",
    "                \n",
    "            rdf.loc[nc] = [nc, rdf.loc[nc][\"cluster\"], diff, [clustered_1, clustered_2]]\n",
    "            rdf.loc[clustered_1] = [clustered_1, cluster1, np.nan, np.nan]\n",
    "            rdf.loc[clustered_2] = [clustered_2, cluster2, np.nan, np.nan]\n",
    "            cd.append(nc)\n",
    "\n",
    "        # クラスタに含まれる要素の個数で分割の方法を変える\n",
    "        while (count < len(self.df)-1):    \n",
    "            if len(tmp0_result_DF.iloc[next_clustering][\"cluster\"]) >= 2:\n",
    "                clusterSupoort(rdf = tmp0_result_DF, nc = next_clustering, cd = clustering_done)\n",
    "                count += 1\n",
    "            else:\n",
    "                clustering_done.append(next_clustering)\n",
    "        \n",
    "            next_clustering = min([i for i in tmp0_result_DF.index if i not in clustering_done])\n",
    "        \n",
    "        # dendrogramに読み込める形に変更する\n",
    "        tmp0_result_DF[\"group_n\"] = [len(l) for l in tmp0_result_DF[\"cluster\"]]\n",
    "        \n",
    "        ## 要素が2個以上のクラスタに対する処理\n",
    "        tmp1_result_DF = (\n",
    "            tmp0_result_DF[tmp0_result_DF[\"group_n\"] >= 2]\n",
    "            .sort_values(\"diff\", ascending=False)\n",
    "        )\n",
    "        cluster_n = len(self.df)\n",
    "        tmp_cluster_no_list = list(range(cluster_n, 2*cluster_n-1))\n",
    "        tmp_cluster_no_list.reverse()\n",
    "        tmp1_result_DF[\"cluster_no\"] = tmp_cluster_no_list\n",
    "        \n",
    "        ## 要素が1個のクラスタに対する処理\n",
    "        tmp2_result_DF = (\n",
    "            tmp0_result_DF[tmp0_result_DF[\"group_n\"] == 1]\n",
    "        )\n",
    "        tmp_cluster_no_list = [l[0] for l in tmp2_result_DF[\"cluster\"]]\n",
    "        tmp2_result_DF[\"cluster_no\"] = tmp_cluster_no_list\n",
    "        \n",
    "        ## 要素が2個以上と1個のクラスタに対するresult_DFをunion\n",
    "        tmp3_result_DF = (\n",
    "            tmp1_result_DF\n",
    "            .append(\n",
    "                other = tmp2_result_DF,\n",
    "                ignore_index = True\n",
    "            )\n",
    "        )\n",
    "        \n",
    "        ## childrenから新規に振ったcluster番号を用いてクラスターを表現\n",
    "        cluster_list = []\n",
    "        for c in tmp3_result_DF[\"children\"]:\n",
    "            if isinstance(c, list):\n",
    "                tmp_series = tmp3_result_DF.loc[tmp3_result_DF[\"tmp_cluster_no\"] == c[0], \"cluster_no\"]\n",
    "                c0 = tmp_series.iloc[-1]\n",
    "                tmp_series = tmp3_result_DF.loc[tmp3_result_DF[\"tmp_cluster_no\"] == c[1], \"cluster_no\"]\n",
    "                c1 = tmp_series.iloc[-1]\n",
    "                \n",
    "                cluster_list.append([c0, c1])\n",
    "            else:\n",
    "                cluster_list.append(np.isnan)\n",
    "        \n",
    "        tmp3_result_DF[\"cluster_list\"] = cluster_list\n",
    "        \n",
    "        ## 必要なカラムだけ抜き出し、少し処理\n",
    "        tmp_linkage_Z = (\n",
    "            tmp3_result_DF[1<tmp3_result_DF[\"group_n\"]]\n",
    "            .sort_values(\"cluster_no\", ascending=True)\n",
    "        )\n",
    "        \n",
    "        tmp_Z = []\n",
    "        for i in tmp_linkage_Z[[\"cluster_list\", \"diff\", \"group_n\"]].itertuples():\n",
    "            i0, i1 = i.cluster_list\n",
    "            d = i.diff\n",
    "            n = i.group_n\n",
    "            tmp_Z.append([i0, i1, d, n])\n",
    "            \n",
    "        Z = np.array(tmp_Z)\n",
    "        \n",
    "        return(Z)"
   ]
  },
  {
   "cell_type": "markdown",
   "metadata": {},
   "source": [
    "## テスト用データ作成"
   ]
  },
  {
   "cell_type": "code",
   "execution_count": 7,
   "metadata": {
    "ExecuteTime": {
     "end_time": "2022-04-07T13:26:21.135959Z",
     "start_time": "2022-04-07T13:26:21.120447Z"
    }
   },
   "outputs": [],
   "source": [
    "# テスト用データ作成\n",
    "test_data = np.array([\n",
    "    [1, 1],\n",
    "    [2, 2],\n",
    "    [3, 3],\n",
    "    [4, 4],\n",
    "    [5, 5],\n",
    "    [6, 6],\n",
    "    [7, 7],\n",
    "    [9, 9]\n",
    "])"
   ]
  },
  {
   "cell_type": "code",
   "execution_count": 9,
   "metadata": {
    "ExecuteTime": {
     "end_time": "2022-04-07T13:26:47.882600Z",
     "start_time": "2022-04-07T13:26:47.759514Z"
    }
   },
   "outputs": [
    {
     "name": "stdout",
     "output_type": "stream",
     "text": [
      "[[ 0.          1.41421356  2.82842712  4.24264069  5.65685425  7.07106781\n",
      "   8.48528137 11.3137085 ]\n",
      " [ 1.41421356  0.          1.41421356  2.82842712  4.24264069  5.65685425\n",
      "   7.07106781  9.89949494]\n",
      " [ 2.82842712  1.41421356  0.          1.41421356  2.82842712  4.24264069\n",
      "   5.65685425  8.48528137]\n",
      " [ 4.24264069  2.82842712  1.41421356  0.          1.41421356  2.82842712\n",
      "   4.24264069  7.07106781]\n",
      " [ 5.65685425  4.24264069  2.82842712  1.41421356  0.          1.41421356\n",
      "   2.82842712  5.65685425]\n",
      " [ 7.07106781  5.65685425  4.24264069  2.82842712  1.41421356  0.\n",
      "   1.41421356  4.24264069]\n",
      " [ 8.48528137  7.07106781  5.65685425  4.24264069  2.82842712  1.41421356\n",
      "   0.          2.82842712]\n",
      " [11.3137085   9.89949494  8.48528137  7.07106781  5.65685425  4.24264069\n",
      "   2.82842712  0.        ]]\n"
     ]
    },
    {
     "name": "stderr",
     "output_type": "stream",
     "text": [
      "C:\\ProgramData\\Anaconda3\\lib\\site-packages\\pandas\\core\\internals\\blocks.py:849: VisibleDeprecationWarning: Creating an ndarray from ragged nested sequences (which is a list-or-tuple of lists-or-tuples-or ndarrays with different lengths or shapes) is deprecated. If you meant to do this, you must specify 'dtype=object' when creating the ndarray\n",
      "  arr_value = np.array(value)\n",
      "<ipython-input-6-1fe58bd914ad>:142: SettingWithCopyWarning: \n",
      "A value is trying to be set on a copy of a slice from a DataFrame.\n",
      "Try using .loc[row_indexer,col_indexer] = value instead\n",
      "\n",
      "See the caveats in the documentation: https://pandas.pydata.org/pandas-docs/stable/user_guide/indexing.html#returning-a-view-versus-a-copy\n",
      "  tmp2_result_DF[\"cluster_no\"] = tmp_cluster_no_list\n"
     ]
    }
   ],
   "source": [
    "# 動かしてみる\n",
    "test_class = MacnaughtonClustering(df = test_data)\n",
    "print(test_class.makeDistanceMatrix())\n",
    "result = test_class.doClustering()"
   ]
  },
  {
   "cell_type": "code",
   "execution_count": 10,
   "metadata": {
    "ExecuteTime": {
     "end_time": "2022-04-07T13:26:53.026521Z",
     "start_time": "2022-04-07T13:26:52.791268Z"
    }
   },
   "outputs": [
    {
     "data": {
      "text/plain": [
       "{'icoord': [[5.0, 5.0, 15.0, 15.0],\n",
       "  [25.0, 25.0, 35.0, 35.0],\n",
       "  [10.0, 10.0, 30.0, 30.0],\n",
       "  [45.0, 45.0, 55.0, 55.0],\n",
       "  [50.0, 50.0, 65.0, 65.0],\n",
       "  [57.5, 57.5, 75.0, 75.0],\n",
       "  [20.0, 20.0, 66.25, 66.25]],\n",
       " 'dcoord': [[0.0, 1.4142135623730951, 1.4142135623730951, 0.0],\n",
       "  [0.0, 1.4142135623730951, 1.4142135623730951, 0.0],\n",
       "  [1.4142135623730951,\n",
       "   2.8284271247461903,\n",
       "   2.8284271247461903,\n",
       "   1.4142135623730951],\n",
       "  [0.0, 1.4142135623730951, 1.4142135623730951, 0.0],\n",
       "  [1.4142135623730951, 2.121320343559643, 2.121320343559643, 0.0],\n",
       "  [2.121320343559643, 4.242640687119285, 4.242640687119285, 0.0],\n",
       "  [2.8284271247461903,\n",
       "   6.0104076400856545,\n",
       "   6.0104076400856545,\n",
       "   4.242640687119285]],\n",
       " 'ivl': ['2', '3', '0', '1', '5', '4', '6', '7'],\n",
       " 'leaves': [2, 3, 0, 1, 5, 4, 6, 7],\n",
       " 'color_list': ['C1', 'C1', 'C1', 'C2', 'C2', 'C0', 'C0']}"
      ]
     },
     "execution_count": 10,
     "metadata": {},
     "output_type": "execute_result"
    },
    {
     "data": {
      "image/png": "[encoded data removed]",
      "text/plain": [
       "<Figure size 432x288 with 1 Axes>"
      ]
     },
     "metadata": {},
     "output_type": "display_data"
    }
   ],
   "source": [
    "# デンドログラム作成\n",
    "dendrogram(result)"
   ]
  }
 ],
 "metadata": {
  "kernelspec": {
   "display_name": "Python 3",
   "language": "python",
   "name": "python3"
  },
  "language_info": {
   "codemirror_mode": {
    "name": "ipython",
    "version": 3
   },
   "file_extension": ".py",
   "mimetype": "text/x-python",
   "name": "python",
   "nbconvert_exporter": "python",
   "pygments_lexer": "ipython3",
   "version": "3.8.5"
  },
  "toc": {
   "base_numbering": 1,
   "nav_menu": {},
   "number_sections": true,
   "sideBar": true,
   "skip_h1_title": false,
   "title_cell": "Table of Contents",
   "title_sidebar": "Contents",
   "toc_cell": false,
   "toc_position": {},
   "toc_section_display": true,
   "toc_window_display": false
  }
 },
 "nbformat": 4,
 "nbformat_minor": 4
}
