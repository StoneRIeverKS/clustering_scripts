{
 "cells": [
  {
   "cell_type": "markdown",
   "metadata": {},
   "source": [
    "階層型クラスタリングのシミュレーション\n",
    "下記手法を実装\n",
    "- 凝集型クラスタリング\n",
    "    - 単連結型\n",
    "    - 群平均型\n",
    "    - 完全連結型\n",
    "    - ウォード法\n",
    "- 分割型クラスタリング\n",
    "    - Macnaughton Smith(1965)の手法"
   ]
  },
  {
   "cell_type": "markdown",
   "metadata": {},
   "source": [
    "# 前準備"
   ]
  },
  {
   "cell_type": "markdown",
   "metadata": {},
   "source": [
    "## import"
   ]
  },
  {
   "cell_type": "code",
   "execution_count": 10,
   "metadata": {
    "ExecuteTime": {
     "end_time": "2022-03-02T15:35:29.359356Z",
     "start_time": "2022-03-02T15:35:29.339635Z"
    }
   },
   "outputs": [],
   "source": [
    "# 必要なライブラリーのインストール\n",
    "import numpy as np\n",
    "import pandas as pd\n",
    "\n",
    "# 可視化\n",
    "import matplotlib as mpl\n",
    "import matplotlib.pyplot as plt\n",
    "import seaborn as sns\n",
    "from IPython.display import display\n",
    "%matplotlib inline\n",
    "sns.set_style('whitegrid')\n",
    "\n",
    "# 正規化のためのクラス\n",
    "from sklearn.preprocessing import StandardScaler\n",
    "\n",
    "from scipy.cluster.hierarchy import linkage, dendrogram, fcluster"
   ]
  },
  {
   "cell_type": "markdown",
   "metadata": {},
   "source": [
    "## データ取得"
   ]
  },
  {
   "cell_type": "code",
   "execution_count": 11,
   "metadata": {
    "ExecuteTime": {
     "end_time": "2022-03-02T15:35:29.422544Z",
     "start_time": "2022-03-02T15:35:29.361577Z"
    }
   },
   "outputs": [
    {
     "data": {
      "text/plain": [
       "('SchoolScore.txt', <http.client.HTTPMessage at 0x1f18382cb50>)"
      ]
     },
     "execution_count": 11,
     "metadata": {},
     "output_type": "execute_result"
    }
   ],
   "source": [
    "import urllib\n",
    "# ウェブ上のリソースを指定する\n",
    "url = 'https://raw.githubusercontent.com/maskot1977/ipython_notebook/master/toydata/SchoolScore.txt'\n",
    "# 指定したURLからリソースをダウンロードし、名前をつける。\n",
    "urllib.request.urlretrieve(url, 'SchoolScore.txt')"
   ]
  },
  {
   "cell_type": "code",
   "execution_count": 12,
   "metadata": {
    "ExecuteTime": {
     "end_time": "2022-03-02T15:35:29.453022Z",
     "start_time": "2022-03-02T15:35:29.424497Z"
    }
   },
   "outputs": [],
   "source": [
    "df = pd.read_csv(\"SchoolScore.txt\", sep='\\t', na_values=\".\", index_col=[\"Student\"]) # データの読み込み"
   ]
  },
  {
   "cell_type": "code",
   "execution_count": 13,
   "metadata": {
    "ExecuteTime": {
     "end_time": "2022-03-02T15:35:29.484002Z",
     "start_time": "2022-03-02T15:35:29.456012Z"
    }
   },
   "outputs": [
    {
     "data": {
      "text/html": [
       "<div>\n",
       "<style scoped>\n",
       "    .dataframe tbody tr th:only-of-type {\n",
       "        vertical-align: middle;\n",
       "    }\n",
       "\n",
       "    .dataframe tbody tr th {\n",
       "        vertical-align: top;\n",
       "    }\n",
       "\n",
       "    .dataframe thead th {\n",
       "        text-align: right;\n",
       "    }\n",
       "</style>\n",
       "<table border=\"1\" class=\"dataframe\">\n",
       "  <thead>\n",
       "    <tr style=\"text-align: right;\">\n",
       "      <th></th>\n",
       "      <th>Japanese</th>\n",
       "      <th>Math</th>\n",
       "      <th>English</th>\n",
       "    </tr>\n",
       "    <tr>\n",
       "      <th>Student</th>\n",
       "      <th></th>\n",
       "      <th></th>\n",
       "      <th></th>\n",
       "    </tr>\n",
       "  </thead>\n",
       "  <tbody>\n",
       "    <tr>\n",
       "      <th>0</th>\n",
       "      <td>80</td>\n",
       "      <td>85</td>\n",
       "      <td>100</td>\n",
       "    </tr>\n",
       "    <tr>\n",
       "      <th>1</th>\n",
       "      <td>96</td>\n",
       "      <td>100</td>\n",
       "      <td>100</td>\n",
       "    </tr>\n",
       "    <tr>\n",
       "      <th>2</th>\n",
       "      <td>54</td>\n",
       "      <td>83</td>\n",
       "      <td>98</td>\n",
       "    </tr>\n",
       "    <tr>\n",
       "      <th>3</th>\n",
       "      <td>80</td>\n",
       "      <td>98</td>\n",
       "      <td>98</td>\n",
       "    </tr>\n",
       "    <tr>\n",
       "      <th>4</th>\n",
       "      <td>90</td>\n",
       "      <td>92</td>\n",
       "      <td>91</td>\n",
       "    </tr>\n",
       "  </tbody>\n",
       "</table>\n",
       "</div>"
      ],
      "text/plain": [
       "         Japanese  Math  English\n",
       "Student                         \n",
       "0              80    85      100\n",
       "1              96   100      100\n",
       "2              54    83       98\n",
       "3              80    98       98\n",
       "4              90    92       91"
      ]
     },
     "metadata": {},
     "output_type": "display_data"
    },
    {
     "name": "stdout",
     "output_type": "stream",
     "text": [
      "(37, 3)\n"
     ]
    }
   ],
   "source": [
    "# 確認\n",
    "display(df.head(5))\n",
    "print(df.shape)"
   ]
  },
  {
   "cell_type": "code",
   "execution_count": 14,
   "metadata": {
    "ExecuteTime": {
     "end_time": "2022-03-02T15:35:31.290992Z",
     "start_time": "2022-03-02T15:35:29.486113Z"
    }
   },
   "outputs": [
    {
     "data": {
      "image/png": "[encoded data removed]",
      "text/plain": [
       "<Figure size 540x540 with 12 Axes>"
      ]
     },
     "metadata": {},
     "output_type": "display_data"
    }
   ],
   "source": [
    "pg = sns.pairplot(df)"
   ]
  },
  {
   "cell_type": "markdown",
   "metadata": {},
   "source": [
    "# 凝集型クラスタリング"
   ]
  },
  {
   "cell_type": "markdown",
   "metadata": {},
   "source": [
    "## 単連結型"
   ]
  },
  {
   "cell_type": "code",
   "execution_count": 15,
   "metadata": {
    "ExecuteTime": {
     "end_time": "2022-03-02T15:35:31.306515Z",
     "start_time": "2022-03-02T15:35:31.295279Z"
    }
   },
   "outputs": [],
   "source": [
    "Z_single = linkage(df, method=\"single\")"
   ]
  },
  {
   "cell_type": "code",
   "execution_count": 16,
   "metadata": {
    "ExecuteTime": {
     "end_time": "2022-03-02T15:35:31.885248Z",
     "start_time": "2022-03-02T15:35:31.309173Z"
    }
   },
   "outputs": [
    {
     "data": {
      "text/plain": [
       "{'icoord': [[45.0, 45.0, 55.0, 55.0],\n",
       "  [35.0, 35.0, 50.0, 50.0],\n",
       "  [25.0, 25.0, 42.5, 42.5],\n",
       "  [15.0, 15.0, 33.75, 33.75],\n",
       "  [5.0, 5.0, 24.375, 24.375],\n",
       "  [85.0, 85.0, 95.0, 95.0],\n",
       "  [135.0, 135.0, 145.0, 145.0],\n",
       "  [125.0, 125.0, 140.0, 140.0],\n",
       "  [115.0, 115.0, 132.5, 132.5],\n",
       "  [165.0, 165.0, 175.0, 175.0],\n",
       "  [155.0, 155.0, 170.0, 170.0],\n",
       "  [195.0, 195.0, 205.0, 205.0],\n",
       "  [185.0, 185.0, 200.0, 200.0],\n",
       "  [215.0, 215.0, 225.0, 225.0],\n",
       "  [265.0, 265.0, 275.0, 275.0],\n",
       "  [255.0, 255.0, 270.0, 270.0],\n",
       "  [245.0, 245.0, 262.5, 262.5],\n",
       "  [235.0, 235.0, 253.75, 253.75],\n",
       "  [220.0, 220.0, 244.375, 244.375],\n",
       "  [285.0, 285.0, 295.0, 295.0],\n",
       "  [232.1875, 232.1875, 290.0, 290.0],\n",
       "  [305.0, 305.0, 315.0, 315.0],\n",
       "  [335.0, 335.0, 345.0, 345.0],\n",
       "  [325.0, 325.0, 340.0, 340.0],\n",
       "  [310.0, 310.0, 332.5, 332.5],\n",
       "  [261.09375, 261.09375, 321.25, 321.25],\n",
       "  [192.5, 192.5, 291.171875, 291.171875],\n",
       "  [162.5, 162.5, 241.8359375, 241.8359375],\n",
       "  [123.75, 123.75, 202.16796875, 202.16796875],\n",
       "  [105.0, 105.0, 162.958984375, 162.958984375],\n",
       "  [90.0, 90.0, 133.9794921875, 133.9794921875],\n",
       "  [75.0, 75.0, 111.98974609375, 111.98974609375],\n",
       "  [355.0, 355.0, 365.0, 365.0],\n",
       "  [93.494873046875, 93.494873046875, 360.0, 360.0],\n",
       "  [65.0, 65.0, 226.7474365234375, 226.7474365234375],\n",
       "  [14.6875, 14.6875, 145.87371826171875, 145.87371826171875]],\n",
       " 'dcoord': [[0.0, 5.916079783099616, 5.916079783099616, 0.0],\n",
       "  [0.0, 8.602325267042627, 8.602325267042627, 5.916079783099616],\n",
       "  [0.0, 11.045361017187261, 11.045361017187261, 8.602325267042627],\n",
       "  [0.0, 12.409673645990857, 12.409673645990857, 11.045361017187261],\n",
       "  [0.0, 13.92838827718412, 13.92838827718412, 12.409673645990857],\n",
       "  [0.0, 10.246950765959598, 10.246950765959598, 0.0],\n",
       "  [0.0, 3.605551275463989, 3.605551275463989, 0.0],\n",
       "  [0.0, 9.0, 9.0, 3.605551275463989],\n",
       "  [0.0, 9.433981132056603, 9.433981132056603, 9.0],\n",
       "  [0.0, 6.4031242374328485, 6.4031242374328485, 0.0],\n",
       "  [0.0, 8.774964387392123, 8.774964387392123, 6.4031242374328485],\n",
       "  [0.0, 3.0, 3.0, 0.0],\n",
       "  [0.0, 8.602325267042627, 8.602325267042627, 3.0],\n",
       "  [0.0, 5.656854249492381, 5.656854249492381, 0.0],\n",
       "  [0.0, 2.23606797749979, 2.23606797749979, 0.0],\n",
       "  [0.0, 3.4641016151377544, 3.4641016151377544, 2.23606797749979],\n",
       "  [0.0, 3.605551275463989, 3.605551275463989, 3.4641016151377544],\n",
       "  [0.0, 6.082762530298219, 6.082762530298219, 3.605551275463989],\n",
       "  [5.656854249492381, 6.6332495807108, 6.6332495807108, 6.082762530298219],\n",
       "  [0.0, 7.211102550927978, 7.211102550927978, 0.0],\n",
       "  [6.6332495807108, 7.280109889280518, 7.280109889280518, 7.211102550927978],\n",
       "  [0.0, 2.449489742783178, 2.449489742783178, 0.0],\n",
       "  [0.0, 7.483314773547883, 7.483314773547883, 0.0],\n",
       "  [0.0, 7.874007874011811, 7.874007874011811, 7.483314773547883],\n",
       "  [2.449489742783178, 8.54400374531753, 8.54400374531753, 7.874007874011811],\n",
       "  [7.280109889280518, 8.660254037844387, 8.660254037844387, 8.54400374531753],\n",
       "  [8.602325267042627, 9.0, 9.0, 8.660254037844387],\n",
       "  [8.774964387392123, 9.695359714832659, 9.695359714832659, 9.0],\n",
       "  [9.433981132056603, 10.04987562112089, 10.04987562112089, 9.695359714832659],\n",
       "  [0.0, 10.344080432788601, 10.344080432788601, 10.04987562112089],\n",
       "  [10.246950765959598,\n",
       "   12.041594578792296,\n",
       "   12.041594578792296,\n",
       "   10.344080432788601],\n",
       "  [0.0, 12.409673645990857, 12.409673645990857, 12.041594578792296],\n",
       "  [0.0, 13.341664064126334, 13.341664064126334, 0.0],\n",
       "  [12.409673645990857,\n",
       "   16.911534525287763,\n",
       "   16.911534525287763,\n",
       "   13.341664064126334],\n",
       "  [0.0, 19.313207915827967, 19.313207915827967, 16.911534525287763],\n",
       "  [13.92838827718412,\n",
       "   19.313207915827967,\n",
       "   19.313207915827967,\n",
       "   19.313207915827967]],\n",
       " 'ivl': [18,\n",
       "  34,\n",
       "  2,\n",
       "  21,\n",
       "  15,\n",
       "  27,\n",
       "  19,\n",
       "  0,\n",
       "  16,\n",
       "  22,\n",
       "  32,\n",
       "  23,\n",
       "  29,\n",
       "  9,\n",
       "  13,\n",
       "  30,\n",
       "  5,\n",
       "  28,\n",
       "  26,\n",
       "  3,\n",
       "  6,\n",
       "  1,\n",
       "  10,\n",
       "  11,\n",
       "  17,\n",
       "  14,\n",
       "  4,\n",
       "  7,\n",
       "  24,\n",
       "  25,\n",
       "  12,\n",
       "  31,\n",
       "  8,\n",
       "  20,\n",
       "  35,\n",
       "  33,\n",
       "  36],\n",
       " 'leaves': [18,\n",
       "  34,\n",
       "  2,\n",
       "  21,\n",
       "  15,\n",
       "  27,\n",
       "  19,\n",
       "  0,\n",
       "  16,\n",
       "  22,\n",
       "  32,\n",
       "  23,\n",
       "  29,\n",
       "  9,\n",
       "  13,\n",
       "  30,\n",
       "  5,\n",
       "  28,\n",
       "  26,\n",
       "  3,\n",
       "  6,\n",
       "  1,\n",
       "  10,\n",
       "  11,\n",
       "  17,\n",
       "  14,\n",
       "  4,\n",
       "  7,\n",
       "  24,\n",
       "  25,\n",
       "  12,\n",
       "  31,\n",
       "  8,\n",
       "  20,\n",
       "  35,\n",
       "  33,\n",
       "  36],\n",
       " 'color_list': ['C1',\n",
       "  'C1',\n",
       "  'C1',\n",
       "  'C1',\n",
       "  'C0',\n",
       "  'C2',\n",
       "  'C2',\n",
       "  'C2',\n",
       "  'C2',\n",
       "  'C2',\n",
       "  'C2',\n",
       "  'C2',\n",
       "  'C2',\n",
       "  'C2',\n",
       "  'C2',\n",
       "  'C2',\n",
       "  'C2',\n",
       "  'C2',\n",
       "  'C2',\n",
       "  'C2',\n",
       "  'C2',\n",
       "  'C2',\n",
       "  'C2',\n",
       "  'C2',\n",
       "  'C2',\n",
       "  'C2',\n",
       "  'C2',\n",
       "  'C2',\n",
       "  'C2',\n",
       "  'C2',\n",
       "  'C2',\n",
       "  'C2',\n",
       "  'C3',\n",
       "  'C0',\n",
       "  'C0',\n",
       "  'C0']}"
      ]
     },
     "execution_count": 16,
     "metadata": {},
     "output_type": "execute_result"
    },
    {
     "data": {
      "image/png": "[encoded data removed]",
      "text/plain": [
       "<Figure size 432x288 with 1 Axes>"
      ]
     },
     "metadata": {},
     "output_type": "display_data"
    }
   ],
   "source": [
    "dendrogram(Z_single, labels=df.index)"
   ]
  },
  {
   "cell_type": "markdown",
   "metadata": {},
   "source": [
    "## 群平均型"
   ]
  },
  {
   "cell_type": "code",
   "execution_count": 17,
   "metadata": {
    "ExecuteTime": {
     "end_time": "2022-03-02T15:35:31.900843Z",
     "start_time": "2022-03-02T15:35:31.888530Z"
    }
   },
   "outputs": [],
   "source": [
    "Z_ave = linkage(df, method=\"average\")"
   ]
  },
  {
   "cell_type": "code",
   "execution_count": 18,
   "metadata": {
    "ExecuteTime": {
     "end_time": "2022-03-02T15:35:32.414724Z",
     "start_time": "2022-03-02T15:35:31.906138Z"
    }
   },
   "outputs": [
    {
     "data": {
      "text/plain": [
       "{'icoord': [[5.0, 5.0, 15.0, 15.0],\n",
       "  [35.0, 35.0, 45.0, 45.0],\n",
       "  [25.0, 25.0, 40.0, 40.0],\n",
       "  [75.0, 75.0, 85.0, 85.0],\n",
       "  [65.0, 65.0, 80.0, 80.0],\n",
       "  [55.0, 55.0, 72.5, 72.5],\n",
       "  [95.0, 95.0, 105.0, 105.0],\n",
       "  [63.75, 63.75, 100.0, 100.0],\n",
       "  [32.5, 32.5, 81.875, 81.875],\n",
       "  [135.0, 135.0, 145.0, 145.0],\n",
       "  [125.0, 125.0, 140.0, 140.0],\n",
       "  [115.0, 115.0, 132.5, 132.5],\n",
       "  [57.1875, 57.1875, 123.75, 123.75],\n",
       "  [155.0, 155.0, 165.0, 165.0],\n",
       "  [185.0, 185.0, 195.0, 195.0],\n",
       "  [175.0, 175.0, 190.0, 190.0],\n",
       "  [205.0, 205.0, 215.0, 215.0],\n",
       "  [225.0, 225.0, 235.0, 235.0],\n",
       "  [210.0, 210.0, 230.0, 230.0],\n",
       "  [182.5, 182.5, 220.0, 220.0],\n",
       "  [255.0, 255.0, 265.0, 265.0],\n",
       "  [285.0, 285.0, 295.0, 295.0],\n",
       "  [275.0, 275.0, 290.0, 290.0],\n",
       "  [260.0, 260.0, 282.5, 282.5],\n",
       "  [245.0, 245.0, 271.25, 271.25],\n",
       "  [201.25, 201.25, 258.125, 258.125],\n",
       "  [160.0, 160.0, 229.6875, 229.6875],\n",
       "  [90.46875, 90.46875, 194.84375, 194.84375],\n",
       "  [335.0, 335.0, 345.0, 345.0],\n",
       "  [325.0, 325.0, 340.0, 340.0],\n",
       "  [315.0, 315.0, 332.5, 332.5],\n",
       "  [355.0, 355.0, 365.0, 365.0],\n",
       "  [323.75, 323.75, 360.0, 360.0],\n",
       "  [305.0, 305.0, 341.875, 341.875],\n",
       "  [142.65625, 142.65625, 323.4375, 323.4375],\n",
       "  [10.0, 10.0, 233.046875, 233.046875]],\n",
       " 'dcoord': [[0.0, 13.341664064126334, 13.341664064126334, 0.0],\n",
       "  [0.0, 7.211102550927978, 7.211102550927978, 0.0],\n",
       "  [0.0, 7.671183818789533, 7.671183818789533, 7.211102550927978],\n",
       "  [0.0, 2.23606797749979, 2.23606797749979, 0.0],\n",
       "  [0.0, 3.5348264453008715, 3.5348264453008715, 2.23606797749979],\n",
       "  [0.0, 5.207988554436431, 5.207988554436431, 3.5348264453008715],\n",
       "  [0.0, 5.656854249492381, 5.656854249492381, 0.0],\n",
       "  [5.207988554436431, 10.18720138300819, 10.18720138300819, 5.656854249492381],\n",
       "  [7.671183818789533,\n",
       "   12.523759380098966,\n",
       "   12.523759380098966,\n",
       "   10.18720138300819],\n",
       "  [0.0, 3.0, 3.0, 0.0],\n",
       "  [0.0, 9.473202849915614, 9.473202849915614, 3.0],\n",
       "  [0.0, 15.246227329998783, 15.246227329998783, 9.473202849915614],\n",
       "  [12.523759380098966,\n",
       "   17.097634560674123,\n",
       "   17.097634560674123,\n",
       "   15.246227329998783],\n",
       "  [0.0, 10.246950765959598, 10.246950765959598, 0.0],\n",
       "  [0.0, 6.4031242374328485, 6.4031242374328485, 0.0],\n",
       "  [0.0, 10.13204484023409, 10.13204484023409, 6.4031242374328485],\n",
       "  [0.0, 3.605551275463989, 3.605551275463989, 0.0],\n",
       "  [0.0, 9.433981132056603, 9.433981132056603, 0.0],\n",
       "  [3.605551275463989,\n",
       "   11.629213973004674,\n",
       "   11.629213973004674,\n",
       "   9.433981132056603],\n",
       "  [10.13204484023409,\n",
       "   12.999913580000623,\n",
       "   12.999913580000623,\n",
       "   11.629213973004674],\n",
       "  [0.0, 2.449489742783178, 2.449489742783178, 0.0],\n",
       "  [0.0, 7.483314773547883, 7.483314773547883, 0.0],\n",
       "  [0.0, 10.300964967684834, 10.300964967684834, 7.483314773547883],\n",
       "  [2.449489742783178,\n",
       "   14.25634405375523,\n",
       "   14.25634405375523,\n",
       "   10.300964967684834],\n",
       "  [0.0, 17.22124730431867, 17.22124730431867, 14.25634405375523],\n",
       "  [12.999913580000623,\n",
       "   21.310517795664577,\n",
       "   21.310517795664577,\n",
       "   17.22124730431867],\n",
       "  [10.246950765959598,\n",
       "   24.503186893066815,\n",
       "   24.503186893066815,\n",
       "   21.310517795664577],\n",
       "  [17.097634560674123,\n",
       "   25.964321441800603,\n",
       "   25.964321441800603,\n",
       "   24.503186893066815],\n",
       "  [0.0, 5.916079783099616, 5.916079783099616, 0.0],\n",
       "  [0.0, 9.891332577270788, 9.891332577270788, 5.916079783099616],\n",
       "  [0.0, 13.066102485051056, 13.066102485051056, 9.891332577270788],\n",
       "  [0.0, 13.92838827718412, 13.92838827718412, 0.0],\n",
       "  [13.066102485051056,\n",
       "   20.93831373526346,\n",
       "   20.93831373526346,\n",
       "   13.92838827718412],\n",
       "  [0.0, 29.95641541038312, 29.95641541038312, 20.93831373526346],\n",
       "  [25.964321441800603,\n",
       "   38.782367758807744,\n",
       "   38.782367758807744,\n",
       "   29.95641541038312],\n",
       "  [13.341664064126334,\n",
       "   44.03095019625791,\n",
       "   44.03095019625791,\n",
       "   38.782367758807744]],\n",
       " 'ivl': [33,\n",
       "  36,\n",
       "  11,\n",
       "  24,\n",
       "  25,\n",
       "  17,\n",
       "  14,\n",
       "  4,\n",
       "  7,\n",
       "  1,\n",
       "  10,\n",
       "  0,\n",
       "  26,\n",
       "  3,\n",
       "  6,\n",
       "  16,\n",
       "  22,\n",
       "  30,\n",
       "  5,\n",
       "  28,\n",
       "  9,\n",
       "  13,\n",
       "  23,\n",
       "  29,\n",
       "  32,\n",
       "  12,\n",
       "  31,\n",
       "  8,\n",
       "  20,\n",
       "  35,\n",
       "  19,\n",
       "  2,\n",
       "  21,\n",
       "  15,\n",
       "  27,\n",
       "  18,\n",
       "  34],\n",
       " 'leaves': [33,\n",
       "  36,\n",
       "  11,\n",
       "  24,\n",
       "  25,\n",
       "  17,\n",
       "  14,\n",
       "  4,\n",
       "  7,\n",
       "  1,\n",
       "  10,\n",
       "  0,\n",
       "  26,\n",
       "  3,\n",
       "  6,\n",
       "  16,\n",
       "  22,\n",
       "  30,\n",
       "  5,\n",
       "  28,\n",
       "  9,\n",
       "  13,\n",
       "  23,\n",
       "  29,\n",
       "  32,\n",
       "  12,\n",
       "  31,\n",
       "  8,\n",
       "  20,\n",
       "  35,\n",
       "  19,\n",
       "  2,\n",
       "  21,\n",
       "  15,\n",
       "  27,\n",
       "  18,\n",
       "  34],\n",
       " 'color_list': ['C1',\n",
       "  'C2',\n",
       "  'C2',\n",
       "  'C2',\n",
       "  'C2',\n",
       "  'C2',\n",
       "  'C2',\n",
       "  'C2',\n",
       "  'C2',\n",
       "  'C2',\n",
       "  'C2',\n",
       "  'C2',\n",
       "  'C2',\n",
       "  'C2',\n",
       "  'C2',\n",
       "  'C2',\n",
       "  'C2',\n",
       "  'C2',\n",
       "  'C2',\n",
       "  'C2',\n",
       "  'C2',\n",
       "  'C2',\n",
       "  'C2',\n",
       "  'C2',\n",
       "  'C2',\n",
       "  'C2',\n",
       "  'C2',\n",
       "  'C2',\n",
       "  'C3',\n",
       "  'C3',\n",
       "  'C3',\n",
       "  'C3',\n",
       "  'C3',\n",
       "  'C3',\n",
       "  'C0',\n",
       "  'C0']}"
      ]
     },
     "execution_count": 18,
     "metadata": {},
     "output_type": "execute_result"
    },
    {
     "data": {
      "image/png": "[encoded data removed]",
      "text/plain": [
       "<Figure size 432x288 with 1 Axes>"
      ]
     },
     "metadata": {},
     "output_type": "display_data"
    }
   ],
   "source": [
    "dendrogram(Z_ave, labels=df.index)"
   ]
  },
  {
   "cell_type": "markdown",
   "metadata": {},
   "source": [
    "## 完全連結型"
   ]
  },
  {
   "cell_type": "code",
   "execution_count": 19,
   "metadata": {
    "ExecuteTime": {
     "end_time": "2022-03-02T15:35:32.429978Z",
     "start_time": "2022-03-02T15:35:32.420703Z"
    }
   },
   "outputs": [],
   "source": [
    "Z_com = linkage(df, method=\"complete\")"
   ]
  },
  {
   "cell_type": "code",
   "execution_count": 20,
   "metadata": {
    "ExecuteTime": {
     "end_time": "2022-03-02T15:35:33.005741Z",
     "start_time": "2022-03-02T15:35:32.437733Z"
    }
   },
   "outputs": [
    {
     "data": {
      "text/plain": [
       "{'icoord': [[5.0, 5.0, 15.0, 15.0],\n",
       "  [45.0, 45.0, 55.0, 55.0],\n",
       "  [35.0, 35.0, 50.0, 50.0],\n",
       "  [25.0, 25.0, 42.5, 42.5],\n",
       "  [10.0, 10.0, 33.75, 33.75],\n",
       "  [65.0, 65.0, 75.0, 75.0],\n",
       "  [85.0, 85.0, 95.0, 95.0],\n",
       "  [115.0, 115.0, 125.0, 125.0],\n",
       "  [105.0, 105.0, 120.0, 120.0],\n",
       "  [90.0, 90.0, 112.5, 112.5],\n",
       "  [135.0, 135.0, 145.0, 145.0],\n",
       "  [155.0, 155.0, 165.0, 165.0],\n",
       "  [175.0, 175.0, 185.0, 185.0],\n",
       "  [160.0, 160.0, 180.0, 180.0],\n",
       "  [140.0, 140.0, 170.0, 170.0],\n",
       "  [215.0, 215.0, 225.0, 225.0],\n",
       "  [205.0, 205.0, 220.0, 220.0],\n",
       "  [195.0, 195.0, 212.5, 212.5],\n",
       "  [155.0, 155.0, 203.75, 203.75],\n",
       "  [101.25, 101.25, 179.375, 179.375],\n",
       "  [245.0, 245.0, 255.0, 255.0],\n",
       "  [235.0, 235.0, 250.0, 250.0],\n",
       "  [275.0, 275.0, 285.0, 285.0],\n",
       "  [265.0, 265.0, 280.0, 280.0],\n",
       "  [295.0, 295.0, 305.0, 305.0],\n",
       "  [315.0, 315.0, 325.0, 325.0],\n",
       "  [300.0, 300.0, 320.0, 320.0],\n",
       "  [272.5, 272.5, 310.0, 310.0],\n",
       "  [355.0, 355.0, 365.0, 365.0],\n",
       "  [345.0, 345.0, 360.0, 360.0],\n",
       "  [335.0, 335.0, 352.5, 352.5],\n",
       "  [291.25, 291.25, 343.75, 343.75],\n",
       "  [242.5, 242.5, 317.5, 317.5],\n",
       "  [140.3125, 140.3125, 280.0, 280.0],\n",
       "  [70.0, 70.0, 210.15625, 210.15625],\n",
       "  [21.875, 21.875, 140.078125, 140.078125]],\n",
       " 'dcoord': [[0.0, 13.92838827718412, 13.92838827718412, 0.0],\n",
       "  [0.0, 5.916079783099616, 5.916079783099616, 0.0],\n",
       "  [0.0, 11.180339887498949, 11.180339887498949, 5.916079783099616],\n",
       "  [0.0, 15.0, 15.0, 11.180339887498949],\n",
       "  [13.92838827718412, 28.722813232690143, 28.722813232690143, 15.0],\n",
       "  [0.0, 13.341664064126334, 13.341664064126334, 0.0],\n",
       "  [0.0, 2.449489742783178, 2.449489742783178, 0.0],\n",
       "  [0.0, 7.211102550927978, 7.211102550927978, 0.0],\n",
       "  [0.0, 8.06225774829855, 8.06225774829855, 7.211102550927978],\n",
       "  [2.449489742783178, 16.30950643030009, 16.30950643030009, 8.06225774829855],\n",
       "  [0.0, 5.656854249492381, 5.656854249492381, 0.0],\n",
       "  [0.0, 2.23606797749979, 2.23606797749979, 0.0],\n",
       "  [0.0, 3.605551275463989, 3.605551275463989, 0.0],\n",
       "  [2.23606797749979, 6.6332495807108, 6.6332495807108, 3.605551275463989],\n",
       "  [5.656854249492381, 13.856406460551018, 13.856406460551018, 6.6332495807108],\n",
       "  [0.0, 3.0, 3.0, 0.0],\n",
       "  [0.0, 10.344080432788601, 10.344080432788601, 3.0],\n",
       "  [0.0, 17.029386365926403, 17.029386365926403, 10.344080432788601],\n",
       "  [13.856406460551018,\n",
       "   23.895606290697042,\n",
       "   23.895606290697042,\n",
       "   17.029386365926403],\n",
       "  [16.30950643030009,\n",
       "   32.01562118716424,\n",
       "   32.01562118716424,\n",
       "   23.895606290697042],\n",
       "  [0.0, 10.246950765959598, 10.246950765959598, 0.0],\n",
       "  [0.0, 26.076809620810597, 26.076809620810597, 10.246950765959598],\n",
       "  [0.0, 6.4031242374328485, 6.4031242374328485, 0.0],\n",
       "  [0.0, 11.489125293076057, 11.489125293076057, 6.4031242374328485],\n",
       "  [0.0, 3.605551275463989, 3.605551275463989, 0.0],\n",
       "  [0.0, 9.433981132056603, 9.433981132056603, 0.0],\n",
       "  [3.605551275463989,\n",
       "   13.076696830622021,\n",
       "   13.076696830622021,\n",
       "   9.433981132056603],\n",
       "  [11.489125293076057,\n",
       "   15.524174696260024,\n",
       "   15.524174696260024,\n",
       "   13.076696830622021],\n",
       "  [0.0, 7.483314773547883, 7.483314773547883, 0.0],\n",
       "  [0.0, 12.727922061357855, 12.727922061357855, 7.483314773547883],\n",
       "  [0.0, 16.64331697709324, 16.64331697709324, 12.727922061357855],\n",
       "  [15.524174696260024,\n",
       "   29.427877939124322,\n",
       "   29.427877939124322,\n",
       "   16.64331697709324],\n",
       "  [26.076809620810597, 40.3732584763727, 40.3732584763727, 29.427877939124322],\n",
       "  [32.01562118716424,\n",
       "   43.289721643826724,\n",
       "   43.289721643826724,\n",
       "   40.3732584763727],\n",
       "  [13.341664064126334,\n",
       "   58.82176467941097,\n",
       "   58.82176467941097,\n",
       "   43.289721643826724],\n",
       "  [28.722813232690143,\n",
       "   76.16429609731846,\n",
       "   76.16429609731846,\n",
       "   58.82176467941097]],\n",
       " 'ivl': [18,\n",
       "  34,\n",
       "  2,\n",
       "  21,\n",
       "  15,\n",
       "  27,\n",
       "  33,\n",
       "  36,\n",
       "  12,\n",
       "  31,\n",
       "  11,\n",
       "  24,\n",
       "  25,\n",
       "  1,\n",
       "  10,\n",
       "  4,\n",
       "  7,\n",
       "  14,\n",
       "  17,\n",
       "  0,\n",
       "  26,\n",
       "  3,\n",
       "  6,\n",
       "  19,\n",
       "  16,\n",
       "  22,\n",
       "  30,\n",
       "  5,\n",
       "  28,\n",
       "  9,\n",
       "  13,\n",
       "  23,\n",
       "  29,\n",
       "  32,\n",
       "  8,\n",
       "  20,\n",
       "  35],\n",
       " 'leaves': [18,\n",
       "  34,\n",
       "  2,\n",
       "  21,\n",
       "  15,\n",
       "  27,\n",
       "  33,\n",
       "  36,\n",
       "  12,\n",
       "  31,\n",
       "  11,\n",
       "  24,\n",
       "  25,\n",
       "  1,\n",
       "  10,\n",
       "  4,\n",
       "  7,\n",
       "  14,\n",
       "  17,\n",
       "  0,\n",
       "  26,\n",
       "  3,\n",
       "  6,\n",
       "  19,\n",
       "  16,\n",
       "  22,\n",
       "  30,\n",
       "  5,\n",
       "  28,\n",
       "  9,\n",
       "  13,\n",
       "  23,\n",
       "  29,\n",
       "  32,\n",
       "  8,\n",
       "  20,\n",
       "  35],\n",
       " 'color_list': ['C1',\n",
       "  'C1',\n",
       "  'C1',\n",
       "  'C1',\n",
       "  'C1',\n",
       "  'C2',\n",
       "  'C3',\n",
       "  'C3',\n",
       "  'C3',\n",
       "  'C3',\n",
       "  'C3',\n",
       "  'C3',\n",
       "  'C3',\n",
       "  'C3',\n",
       "  'C3',\n",
       "  'C3',\n",
       "  'C3',\n",
       "  'C3',\n",
       "  'C3',\n",
       "  'C3',\n",
       "  'C3',\n",
       "  'C3',\n",
       "  'C3',\n",
       "  'C3',\n",
       "  'C3',\n",
       "  'C3',\n",
       "  'C3',\n",
       "  'C3',\n",
       "  'C3',\n",
       "  'C3',\n",
       "  'C3',\n",
       "  'C3',\n",
       "  'C3',\n",
       "  'C3',\n",
       "  'C0',\n",
       "  'C0']}"
      ]
     },
     "execution_count": 20,
     "metadata": {},
     "output_type": "execute_result"
    },
    {
     "data": {
      "image/png": "[encoded data removed]",
      "text/plain": [
       "<Figure size 432x288 with 1 Axes>"
      ]
     },
     "metadata": {},
     "output_type": "display_data"
    }
   ],
   "source": [
    "dendrogram(Z_com, labels=df.index)"
   ]
  },
  {
   "cell_type": "markdown",
   "metadata": {},
   "source": [
    "## ウォード法"
   ]
  },
  {
   "cell_type": "code",
   "execution_count": 21,
   "metadata": {
    "ExecuteTime": {
     "end_time": "2022-03-02T15:35:33.021641Z",
     "start_time": "2022-03-02T15:35:33.006733Z"
    }
   },
   "outputs": [],
   "source": [
    "Z_ward = linkage(df, method=\"ward\")"
   ]
  },
  {
   "cell_type": "code",
   "execution_count": 22,
   "metadata": {
    "ExecuteTime": {
     "end_time": "2022-03-02T15:35:33.549195Z",
     "start_time": "2022-03-02T15:35:33.024114Z"
    }
   },
   "outputs": [
    {
     "data": {
      "text/plain": [
       "{'icoord': [[25.0, 25.0, 35.0, 35.0],\n",
       "  [15.0, 15.0, 30.0, 30.0],\n",
       "  [5.0, 5.0, 22.5, 22.5],\n",
       "  [55.0, 55.0, 65.0, 65.0],\n",
       "  [45.0, 45.0, 60.0, 60.0],\n",
       "  [13.75, 13.75, 52.5, 52.5],\n",
       "  [75.0, 75.0, 85.0, 85.0],\n",
       "  [95.0, 95.0, 105.0, 105.0],\n",
       "  [115.0, 115.0, 125.0, 125.0],\n",
       "  [100.0, 100.0, 120.0, 120.0],\n",
       "  [80.0, 80.0, 110.0, 110.0],\n",
       "  [155.0, 155.0, 165.0, 165.0],\n",
       "  [145.0, 145.0, 160.0, 160.0],\n",
       "  [135.0, 135.0, 152.5, 152.5],\n",
       "  [95.0, 95.0, 143.75, 143.75],\n",
       "  [175.0, 175.0, 185.0, 185.0],\n",
       "  [205.0, 205.0, 215.0, 215.0],\n",
       "  [195.0, 195.0, 210.0, 210.0],\n",
       "  [225.0, 225.0, 235.0, 235.0],\n",
       "  [245.0, 245.0, 255.0, 255.0],\n",
       "  [230.0, 230.0, 250.0, 250.0],\n",
       "  [202.5, 202.5, 240.0, 240.0],\n",
       "  [265.0, 265.0, 275.0, 275.0],\n",
       "  [295.0, 295.0, 305.0, 305.0],\n",
       "  [285.0, 285.0, 300.0, 300.0],\n",
       "  [270.0, 270.0, 292.5, 292.5],\n",
       "  [315.0, 315.0, 325.0, 325.0],\n",
       "  [355.0, 355.0, 365.0, 365.0],\n",
       "  [345.0, 345.0, 360.0, 360.0],\n",
       "  [335.0, 335.0, 352.5, 352.5],\n",
       "  [320.0, 320.0, 343.75, 343.75],\n",
       "  [281.25, 281.25, 331.875, 331.875],\n",
       "  [221.25, 221.25, 306.5625, 306.5625],\n",
       "  [180.0, 180.0, 263.90625, 263.90625],\n",
       "  [119.375, 119.375, 221.953125, 221.953125],\n",
       "  [33.125, 33.125, 170.6640625, 170.6640625]],\n",
       " 'dcoord': [[0.0, 5.916079783099616, 5.916079783099616, 0.0],\n",
       "  [0.0, 11.0, 11.0, 5.916079783099616],\n",
       "  [0.0, 14.866068747318504, 14.866068747318504, 11.0],\n",
       "  [0.0, 13.92838827718412, 13.92838827718412, 0.0],\n",
       "  [0.0, 28.437065014988217, 28.437065014988217, 13.92838827718412],\n",
       "  [14.866068747318504,\n",
       "   39.15962449355446,\n",
       "   39.15962449355446,\n",
       "   28.437065014988217],\n",
       "  [0.0, 5.656854249492381, 5.656854249492381, 0.0],\n",
       "  [0.0, 2.23606797749979, 2.23606797749979, 0.0],\n",
       "  [0.0, 3.605551275463989, 3.605551275463989, 0.0],\n",
       "  [2.23606797749979, 6.324555320336758, 6.324555320336758, 3.605551275463989],\n",
       "  [5.656854249492381,\n",
       "   15.853495934125485,\n",
       "   15.853495934125485,\n",
       "   6.324555320336758],\n",
       "  [0.0, 3.0, 3.0, 0.0],\n",
       "  [0.0, 10.847426730181988, 10.847426730181988, 3.0],\n",
       "  [0.0, 17.911821050170563, 17.911821050170563, 10.847426730181988],\n",
       "  [15.853495934125485,\n",
       "   26.71641193473904,\n",
       "   26.71641193473904,\n",
       "   17.911821050170563],\n",
       "  [0.0, 13.341664064126334, 13.341664064126334, 0.0],\n",
       "  [0.0, 6.4031242374328485, 6.4031242374328485, 0.0],\n",
       "  [0.0, 11.210114480533493, 11.210114480533493, 6.4031242374328485],\n",
       "  [0.0, 3.605551275463989, 3.605551275463989, 0.0],\n",
       "  [0.0, 9.433981132056603, 9.433981132056603, 0.0],\n",
       "  [3.605551275463989, 15.0, 15.0, 9.433981132056603],\n",
       "  [11.210114480533493, 18.838916155255905, 18.838916155255905, 15.0],\n",
       "  [0.0, 2.449489742783178, 2.449489742783178, 0.0],\n",
       "  [0.0, 7.211102550927978, 7.211102550927978, 0.0],\n",
       "  [0.0, 7.831560082980487, 7.831560082980487, 7.211102550927978],\n",
       "  [2.449489742783178,\n",
       "   19.200694431886223,\n",
       "   19.200694431886223,\n",
       "   7.831560082980487],\n",
       "  [0.0, 10.246950765959598, 10.246950765959598, 0.0],\n",
       "  [0.0, 7.483314773547883, 7.483314773547883, 0.0],\n",
       "  [0.0, 11.430952132988164, 11.430952132988164, 7.483314773547883],\n",
       "  [0.0, 16.936154620613657, 16.936154620613657, 11.430952132988164],\n",
       "  [10.246950765959598,\n",
       "   32.15846182059501,\n",
       "   32.15846182059501,\n",
       "   16.936154620613657],\n",
       "  [19.200694431886223,\n",
       "   38.01514849571833,\n",
       "   38.01514849571833,\n",
       "   32.15846182059501],\n",
       "  [18.838916155255905,\n",
       "   52.08379307156402,\n",
       "   52.08379307156402,\n",
       "   38.01514849571833],\n",
       "  [13.341664064126334,\n",
       "   59.04480408036671,\n",
       "   59.04480408036671,\n",
       "   52.08379307156402],\n",
       "  [26.71641193473904, 86.59291733931437, 86.59291733931437, 59.04480408036671],\n",
       "  [39.15962449355446,\n",
       "   116.78085053966275,\n",
       "   116.78085053966275,\n",
       "   86.59291733931437]],\n",
       " 'ivl': [2,\n",
       "  21,\n",
       "  15,\n",
       "  27,\n",
       "  19,\n",
       "  18,\n",
       "  34,\n",
       "  1,\n",
       "  10,\n",
       "  4,\n",
       "  7,\n",
       "  14,\n",
       "  17,\n",
       "  0,\n",
       "  26,\n",
       "  3,\n",
       "  6,\n",
       "  33,\n",
       "  36,\n",
       "  30,\n",
       "  5,\n",
       "  28,\n",
       "  9,\n",
       "  13,\n",
       "  23,\n",
       "  29,\n",
       "  12,\n",
       "  31,\n",
       "  11,\n",
       "  24,\n",
       "  25,\n",
       "  16,\n",
       "  22,\n",
       "  32,\n",
       "  8,\n",
       "  20,\n",
       "  35],\n",
       " 'leaves': [2,\n",
       "  21,\n",
       "  15,\n",
       "  27,\n",
       "  19,\n",
       "  18,\n",
       "  34,\n",
       "  1,\n",
       "  10,\n",
       "  4,\n",
       "  7,\n",
       "  14,\n",
       "  17,\n",
       "  0,\n",
       "  26,\n",
       "  3,\n",
       "  6,\n",
       "  33,\n",
       "  36,\n",
       "  30,\n",
       "  5,\n",
       "  28,\n",
       "  9,\n",
       "  13,\n",
       "  23,\n",
       "  29,\n",
       "  12,\n",
       "  31,\n",
       "  11,\n",
       "  24,\n",
       "  25,\n",
       "  16,\n",
       "  22,\n",
       "  32,\n",
       "  8,\n",
       "  20,\n",
       "  35],\n",
       " 'color_list': ['C1',\n",
       "  'C1',\n",
       "  'C1',\n",
       "  'C1',\n",
       "  'C1',\n",
       "  'C1',\n",
       "  'C2',\n",
       "  'C2',\n",
       "  'C2',\n",
       "  'C2',\n",
       "  'C2',\n",
       "  'C2',\n",
       "  'C2',\n",
       "  'C2',\n",
       "  'C2',\n",
       "  'C3',\n",
       "  'C3',\n",
       "  'C3',\n",
       "  'C3',\n",
       "  'C3',\n",
       "  'C3',\n",
       "  'C3',\n",
       "  'C3',\n",
       "  'C3',\n",
       "  'C3',\n",
       "  'C3',\n",
       "  'C3',\n",
       "  'C3',\n",
       "  'C3',\n",
       "  'C3',\n",
       "  'C3',\n",
       "  'C3',\n",
       "  'C3',\n",
       "  'C3',\n",
       "  'C0',\n",
       "  'C0']}"
      ]
     },
     "execution_count": 22,
     "metadata": {},
     "output_type": "execute_result"
    },
    {
     "data": {
      "image/png": "[encoded data removed]",
      "text/plain": [
       "<Figure size 432x288 with 1 Axes>"
      ]
     },
     "metadata": {},
     "output_type": "display_data"
    }
   ],
   "source": [
    "dendrogram(Z_ward, labels=df.index)"
   ]
  },
  {
   "cell_type": "markdown",
   "metadata": {},
   "source": [
    "## 評価"
   ]
  },
  {
   "cell_type": "markdown",
   "metadata": {},
   "source": [
    "### コンパクト性の評価\n",
    "【評価方法】\n",
    "横軸：併合の回数×縦軸：各クラスタの最大半径の平均\n",
    "完全連結型は単連結型よりもコンパクトになりやすい。そのため、折れ線グラフを描いたときに、完全連結型の線は単連結型の線よりも下に来ると考えられる"
   ]
  },
  {
   "cell_type": "code",
   "execution_count": 76,
   "metadata": {
    "ExecuteTime": {
     "end_time": "2022-03-02T16:11:37.112296Z",
     "start_time": "2022-03-02T16:11:37.104306Z"
    }
   },
   "outputs": [],
   "source": [
    "# クラスタの最大半径の平均を出す関数\n",
    "def ave_maxd(d, Z, D):\n",
    "    \"\"\"\n",
    "    d : float, デンドログラムの高さ\n",
    "    Z : np.array(併合の回数×4), クラスタリング結果\n",
    "    D : np.array(サンプルサイズ×サンプルサイズ), 距離行列\n",
    "    \"\"\"\n",
    "    \n",
    "    # クラスタリング結果\n",
    "    cluster_result = fcluster(Z, t=d , criterion=\"distance\")\n",
    "    \n",
    "    # 各クラスタ内の最大半径を計算\n",
    "    d_max_list = []\n",
    "    for i in range(1, max(cluster_result)+1):\n",
    "        cluster_i = np.where(cluster_result == i)\n",
    "        d_max = D[np.ix_(cluster_i[0], cluster_i[0])].max()\n",
    "        d_max_list.append(d_max)\n",
    "        \n",
    "    # クラスタの最大半径の平均を返す\n",
    "    return [np.mean(d_max_list), np.max(d_max_list)]"
   ]
  },
  {
   "cell_type": "code",
   "execution_count": 77,
   "metadata": {
    "ExecuteTime": {
     "end_time": "2022-03-02T16:11:39.138424Z",
     "start_time": "2022-03-02T16:11:39.078236Z"
    }
   },
   "outputs": [
    {
     "data": {
      "text/plain": [
       "[[0.0,\n",
       "  0.06211299937499416,\n",
       "  0.1338730777223705,\n",
       "  0.22604581530244022,\n",
       "  0.27439518237112626,\n",
       "  0.27439518237112626,\n",
       "  0.5060738902889667,\n",
       "  0.7115048282816782,\n",
       "  0.9400422286741366,\n",
       "  1.1230224599011118,\n",
       "  1.4017686338764437,\n",
       "  1.3550250576665634,\n",
       "  1.697670162010345,\n",
       "  1.7249678930533507,\n",
       "  2.125328008992535,\n",
       "  2.4603250679381032,\n",
       "  2.7719571416550224,\n",
       "  2.7719571416550224,\n",
       "  3.7273389743128105,\n",
       "  3.915654445638071,\n",
       "  4.445163592772265,\n",
       "  4.445163592772265,\n",
       "  4.992525513032232,\n",
       "  5.468773233936724,\n",
       "  5.005669229387544,\n",
       "  4.47213595499958,\n",
       "  5.81023474781405,\n",
       "  6.471701229728526,\n",
       "  7.6151858233095915,\n",
       "  7.2862152054783405,\n",
       "  7.2862152054783405,\n",
       "  11.11295879514662,\n",
       "  16.00388336700121,\n",
       "  21.3385497351608,\n",
       "  28.87596933330128,\n",
       "  28.87596933330128],\n",
       " [0.0,\n",
       "  2.23606797749979,\n",
       "  2.449489742783178,\n",
       "  3.0,\n",
       "  3.605551275463989,\n",
       "  3.605551275463989,\n",
       "  6.6332495807108,\n",
       "  6.6332495807108,\n",
       "  6.6332495807108,\n",
       "  10.816653826391969,\n",
       "  10.816653826391969,\n",
       "  13.856406460551018,\n",
       "  13.856406460551018,\n",
       "  20.024984394500787,\n",
       "  20.024984394500787,\n",
       "  20.024984394500787,\n",
       "  20.024984394500787,\n",
       "  20.024984394500787,\n",
       "  20.024984394500787,\n",
       "  38.948684188300895,\n",
       "  38.948684188300895,\n",
       "  38.948684188300895,\n",
       "  40.8166632639171,\n",
       "  40.8166632639171,\n",
       "  40.8166632639171,\n",
       "  42.485291572496,\n",
       "  42.485291572496,\n",
       "  43.289721643826724,\n",
       "  43.289721643826724,\n",
       "  43.289721643826724,\n",
       "  43.289721643826724,\n",
       "  43.289721643826724,\n",
       "  43.289721643826724,\n",
       "  43.289721643826724,\n",
       "  57.905094767213704,\n",
       "  57.905094767213704]]"
      ]
     },
     "execution_count": 77,
     "metadata": {},
     "output_type": "execute_result"
    }
   ],
   "source": [
    "# 距離行列の作成\n",
    "df_nparray = np.array(df)\n",
    "combination_df = df_nparray-df_nparray[:, np.newaxis]\n",
    "d_matrix = np.array([[np.linalg.norm(combination_df[i, j]) for i in range(0, len(df_nparray))] for j in range(0, len(df_nparray))])\n",
    "\n",
    "# 最大半径のリストを作成\n",
    "def get_max_d_list(Z, D):\n",
    "    \"\"\"\n",
    "    Z : np.array(併合の回数×4), クラスタリング結果\n",
    "    D : np.array(サンプルサイズ×サンプルサイズ), 距離行列\n",
    "    \"\"\"\n",
    "    d_max_mean_list = []\n",
    "    d_max_max_list = []\n",
    "    for z in Z:\n",
    "        tmp_d = z[2]-10**(-3)\n",
    "        d_max_mean, d_max_max = ave_maxd(d=tmp_d, Z=Z, D=D)\n",
    "        d_max_mean_list.append(d_max_mean)\n",
    "        d_max_max_list.append(d_max_max)\n",
    "    \n",
    "    return [d_max_mean_list, d_max_max_list]\n",
    "\n",
    "get_max_d_list(Z=Z_single, D=d_matrix)"
   ]
  },
  {
   "cell_type": "code",
   "execution_count": null,
   "metadata": {},
   "outputs": [],
   "source": []
  },
  {
   "cell_type": "code",
   "execution_count": null,
   "metadata": {},
   "outputs": [],
   "source": [
    "# 全データの最大半径\n",
    "all_data_d_max = d_matrix.max()\n",
    "\n",
    "# 単連結\n",
    "d_max_mean_list_single, d_max_max_list_single = get_max_d_list(Z=Z_single, D=d_matrix)\n",
    "d_max_mean_list_single.append(all_data_d_max)\n",
    "\n",
    "# 群平均\n",
    "d_max_mean_list_ave = get_max_d_list(Z=Z_ave, D=d_matrix)\n",
    "d_max_mean_list_ave.append(all_data_d_max)\n",
    "# 完全連結\n",
    "d_max_mean_list_com = get_max_d_list(Z=Z_com, D=d_matrix)\n",
    "d_max_mean_list_com.append(all_data_d_max)\n",
    "# ウォード法\n",
    "d_max_mean_list_ward = get_max_d_list(Z=Z_ward, D=d_matrix)\n",
    "d_max_mean_list_ward.append(all_data_d_max)"
   ]
  },
  {
   "cell_type": "code",
   "execution_count": 61,
   "metadata": {
    "ExecuteTime": {
     "end_time": "2022-03-02T16:00:02.192980Z",
     "start_time": "2022-03-02T16:00:01.952195Z"
    }
   },
   "outputs": [
    {
     "data": {
      "text/plain": [
       "<matplotlib.legend.Legend at 0x1f183b96970>"
      ]
     },
     "execution_count": 61,
     "metadata": {},
     "output_type": "execute_result"
    },
    {
     "data": {
      "image/png": "[encoded data removed]",
      "text/plain": [
       "<Figure size 432x288 with 1 Axes>"
      ]
     },
     "metadata": {},
     "output_type": "display_data"
    }
   ],
   "source": [
    "# 作図\n",
    "## 単連結型\n",
    "p1 = plt.plot(range(1, len(d_max_mean_list_single)+1), d_max_mean_list_single)\n",
    "## 群平均型\n",
    "p2 = plt.plot(range(1, len(d_max_mean_list_ave)+1), d_max_mean_list_ave)\n",
    "## 完全連結型\n",
    "p3 = plt.plot(range(1, len(d_max_mean_list_com)+1), d_max_mean_list_com)\n",
    "## ウォード法\n",
    "p4 = plt.plot(range(1, len(d_max_mean_list_ward)+1), d_max_mean_list_ward)\n",
    "\n",
    "plt.legend((p1[0], p2[0], p3[0], p4[0]), (\"single\", \"ave\", \"com\", \"ward\"))"
   ]
  },
  {
   "cell_type": "markdown",
   "metadata": {},
   "source": [
    "## おまけ\n",
    "scipy.cluster.hierarchyのdendrogram関数によって書かれるdendrogramの縦軸が、クラスタリングをする際の基準値になっている。そのため、手法間の比較をしにくい。ここでは、各郡の重心間の距離でdendrogramを書き直し、適切な比較をできるようにする。"
   ]
  },
  {
   "cell_type": "code",
   "execution_count": 24,
   "metadata": {
    "ExecuteTime": {
     "end_time": "2022-03-02T15:35:33.580758Z",
     "start_time": "2022-03-02T15:35:33.571661Z"
    }
   },
   "outputs": [],
   "source": [
    "# 各群の重心を求める関数\n",
    "def get_cg_point(data):\n",
    "    return(data.mean(axis=0))"
   ]
  },
  {
   "cell_type": "code",
   "execution_count": 25,
   "metadata": {
    "ExecuteTime": {
     "end_time": "2022-03-02T15:35:33.596420Z",
     "start_time": "2022-03-02T15:35:33.589354Z"
    }
   },
   "outputs": [],
   "source": [
    "# linkageの出力のZ-arrayに載っているクラスタを元のクラスタ番号に戻す関数\n",
    "def z2index(Z, r, E_in, n): \n",
    "    \"\"\"\n",
    "    Z:linkageの出力\n",
    "    r：Z内のクラスタ番号。元に戻したいクラスタ\n",
    "    E_in:ｒより小さいインデックスのクラスタ\n",
    "    n:クラスタ分析するデータのサンプルサイズ\n",
    "    \"\"\"\n",
    "    \n",
    "    # rを構成するクラスタを取り出す\n",
    "    i = r-n\n",
    "    cluss1,cluss2 = Z[i, 0:2] # cluss1, cluss2がrを構成するクラスタ\n",
    "    \n",
    "    # E_inから元のクラスタを取り出し、rのクラスタとする\n",
    "    cluss1_indexes = np.array(E_in[int(cluss1)])\n",
    "    cluss2_indexes = np.array(E_in[int(cluss2)])\n",
    "    new_list = np.concatenate([cluss1_indexes, cluss2_indexes]).flatten().tolist()\n",
    "    E_in.append(new_list)  # E_inはクラスタ番号が小さい順に作っていくことが前提\n",
    "    \n",
    "    return E_in"
   ]
  },
  {
   "cell_type": "code",
   "execution_count": 27,
   "metadata": {
    "ExecuteTime": {
     "end_time": "2022-03-02T15:35:33.657660Z",
     "start_time": "2022-03-02T15:35:33.644174Z"
    }
   },
   "outputs": [],
   "source": [
    "# linkageの出力であるZ-arrayの距離が何を表しているか考える\n",
    "## 併合に使う距離である説（つまり、各クラスタ間の距離のmin）\n",
    "# クラスタ番号と要素の組み合わせを表すリストの初期化\n",
    "E_ele_list = range(0, len(df))\n",
    "E = [[e] for e in E_ele_list]\n",
    "\n",
    "for r in range(len(df), int(Z_single[:, 0:2].max()+1)):\n",
    "    E = z2index(\n",
    "            Z = Z_single,\n",
    "            r = r, \n",
    "            E_in = E,\n",
    "            n = len(df)\n",
    "        )"
   ]
  },
  {
   "cell_type": "code",
   "execution_count": 28,
   "metadata": {
    "ExecuteTime": {
     "end_time": "2022-03-02T15:35:33.673499Z",
     "start_time": "2022-03-02T15:35:33.660193Z"
    }
   },
   "outputs": [
    {
     "name": "stdout",
     "output_type": "stream",
     "text": [
      "最短距離 8.660254037844387\n",
      "重心間の距離 20.578509706205526\n"
     ]
    }
   ],
   "source": [
    "# 2つのクラスタの中でデータ間の最短距離をいくつか抽出してみる\n",
    "# [49.        , 52.        ,  8.66025404, 14.        ]\n",
    "# クラスタ番号49, 52に含まれるデータの最短距離\n",
    "print(\"最短距離\", d_matrix[np.ix_(E[49], E[52])].min())\n",
    "# クラスタ番号49, 52に含まれる重心間の距離\n",
    "g1 = get_cg_point(df.iloc[E[49]])\n",
    "g2 = get_cg_point(df.iloc[E[52]])\n",
    "g1g2_dis = np.sqrt(np.sum((g1-g2)**2))\n",
    "print(\"重心間の距離\", g1g2_dis)\n",
    "# →やはり、各クラスタ間の最短距離だった"
   ]
  },
  {
   "cell_type": "code",
   "execution_count": 29,
   "metadata": {
    "ExecuteTime": {
     "end_time": "2022-03-02T15:35:33.765829Z",
     "start_time": "2022-03-02T15:35:33.676511Z"
    }
   },
   "outputs": [],
   "source": [
    "# クラスタの重心間の距離でデンドログラムを書き直す\n",
    "tmp_Z_single_2 = np.empty((1, 4))\n",
    "\n",
    "# 冪等性保証のための処理\n",
    "tmp_Z = Z_single.copy()\n",
    "\n",
    "for z in tmp_Z:\n",
    "    # 1個目のクラスタに含まれる要素\n",
    "    clusetr1_ele = E[int(z[0])]\n",
    "    # 1個目のクラスタの重心\n",
    "    g1 = get_cg_point(df.iloc[clusetr1_ele])\n",
    "    \n",
    "    # 2個目のクラスタに含まれる要素\n",
    "    clusetr2_ele = E[int(z[1])]\n",
    "    # 2個目のクラスタの重心\n",
    "    g2 = get_cg_point(df.iloc[clusetr2_ele])\n",
    "    \n",
    "    # 重心間の距離を計算\n",
    "    g1g2_dis = np.sqrt(np.sum((g1-g2)**2))\n",
    "    \n",
    "    # zの距離を重心間の距離に置き換える\n",
    "    z[2] = g1g2_dis\n",
    "    \n",
    "    tmp_Z_single_2 = np.vstack((tmp_Z_single_2, z))\n",
    "    \n",
    "Z_single_2 = tmp_Z_single_2[1:len(tmp_Z_single_2)]"
   ]
  },
  {
   "cell_type": "code",
   "execution_count": 30,
   "metadata": {
    "ExecuteTime": {
     "end_time": "2022-03-02T15:35:33.781549Z",
     "start_time": "2022-03-02T15:35:33.768818Z"
    }
   },
   "outputs": [
    {
     "data": {
      "text/plain": [
       "array([[ 4.        ,  7.        ,  2.23606798,  2.        ],\n",
       "       [12.        , 31.        ,  2.44948974,  2.        ],\n",
       "       [ 3.        ,  6.        ,  3.        ,  2.        ],\n",
       "       [14.        , 37.        ,  3.35410197,  3.        ],\n",
       "       [17.        , 40.        ,  5.03322296,  4.        ],\n",
       "       [ 9.        , 13.        ,  3.60555128,  2.        ],\n",
       "       [ 1.        , 10.        ,  5.65685425,  2.        ],\n",
       "       [15.        , 27.        ,  5.91607978,  2.        ],\n",
       "       [11.        , 41.        ,  7.88986692,  5.        ],\n",
       "       [ 5.        , 28.        ,  6.40312424,  2.        ],\n",
       "       [43.        , 45.        ,  9.58331884,  7.        ],\n",
       "       [24.        , 25.        ,  7.21110255,  2.        ],\n",
       "       [47.        , 48.        , 12.01189886,  9.        ],\n",
       "       [20.        , 35.        ,  7.48331477,  2.        ],\n",
       "       [ 8.        , 50.        ,  9.89949494,  3.        ],\n",
       "       [38.        , 51.        , 13.64021831,  5.        ],\n",
       "       [26.        , 39.        ,  9.39414711,  3.        ],\n",
       "       [21.        , 44.        ,  9.52627944,  3.        ],\n",
       "       [49.        , 52.        , 20.57850971, 14.        ],\n",
       "       [30.        , 46.        ,  9.70824392,  3.        ],\n",
       "       [53.        , 55.        , 20.31343121, 17.        ],\n",
       "       [29.        , 42.        , 10.11187421,  3.        ],\n",
       "       [23.        , 58.        , 10.88321848,  4.        ],\n",
       "       [56.        , 57.        , 18.0056273 , 20.        ],\n",
       "       [59.        , 60.        , 18.55592897, 24.        ],\n",
       "       [16.        , 22.        , 10.24695077,  2.        ],\n",
       "       [32.        , 61.        , 24.2312714 , 25.        ],\n",
       "       [ 2.        , 54.        , 12.1380943 ,  4.        ],\n",
       "       [62.        , 63.        , 21.67606053, 27.        ],\n",
       "       [ 0.        , 65.        , 15.90649116, 28.        ],\n",
       "       [34.        , 64.        , 16.90783842,  5.        ],\n",
       "       [33.        , 36.        , 13.34166406,  2.        ],\n",
       "       [18.        , 67.        , 20.74993976,  6.        ],\n",
       "       [66.        , 68.        , 37.3613935 , 30.        ],\n",
       "       [19.        , 70.        , 28.56503301, 31.        ],\n",
       "       [69.        , 71.        , 36.5342056 , 37.        ]])"
      ]
     },
     "execution_count": 30,
     "metadata": {},
     "output_type": "execute_result"
    }
   ],
   "source": [
    "Z_single_2"
   ]
  },
  {
   "cell_type": "code",
   "execution_count": 31,
   "metadata": {
    "ExecuteTime": {
     "end_time": "2022-03-02T15:35:34.279143Z",
     "start_time": "2022-03-02T15:35:33.783544Z"
    }
   },
   "outputs": [
    {
     "data": {
      "text/plain": [
       "{'icoord': [[45.0, 45.0, 55.0, 55.0],\n",
       "  [35.0, 35.0, 50.0, 50.0],\n",
       "  [25.0, 25.0, 42.5, 42.5],\n",
       "  [15.0, 15.0, 33.75, 33.75],\n",
       "  [5.0, 5.0, 24.375, 24.375],\n",
       "  [85.0, 85.0, 95.0, 95.0],\n",
       "  [135.0, 135.0, 145.0, 145.0],\n",
       "  [125.0, 125.0, 140.0, 140.0],\n",
       "  [115.0, 115.0, 132.5, 132.5],\n",
       "  [165.0, 165.0, 175.0, 175.0],\n",
       "  [155.0, 155.0, 170.0, 170.0],\n",
       "  [195.0, 195.0, 205.0, 205.0],\n",
       "  [185.0, 185.0, 200.0, 200.0],\n",
       "  [215.0, 215.0, 225.0, 225.0],\n",
       "  [265.0, 265.0, 275.0, 275.0],\n",
       "  [255.0, 255.0, 270.0, 270.0],\n",
       "  [245.0, 245.0, 262.5, 262.5],\n",
       "  [235.0, 235.0, 253.75, 253.75],\n",
       "  [220.0, 220.0, 244.375, 244.375],\n",
       "  [285.0, 285.0, 295.0, 295.0],\n",
       "  [232.1875, 232.1875, 290.0, 290.0],\n",
       "  [305.0, 305.0, 315.0, 315.0],\n",
       "  [335.0, 335.0, 345.0, 345.0],\n",
       "  [325.0, 325.0, 340.0, 340.0],\n",
       "  [310.0, 310.0, 332.5, 332.5],\n",
       "  [261.09375, 261.09375, 321.25, 321.25],\n",
       "  [192.5, 192.5, 291.171875, 291.171875],\n",
       "  [162.5, 162.5, 241.8359375, 241.8359375],\n",
       "  [123.75, 123.75, 202.16796875, 202.16796875],\n",
       "  [105.0, 105.0, 162.958984375, 162.958984375],\n",
       "  [90.0, 90.0, 133.9794921875, 133.9794921875],\n",
       "  [75.0, 75.0, 111.98974609375, 111.98974609375],\n",
       "  [355.0, 355.0, 365.0, 365.0],\n",
       "  [93.494873046875, 93.494873046875, 360.0, 360.0],\n",
       "  [65.0, 65.0, 226.7474365234375, 226.7474365234375],\n",
       "  [14.6875, 14.6875, 145.87371826171875, 145.87371826171875]],\n",
       " 'dcoord': [[0.0, 5.916079783099616, 5.916079783099616, 0.0],\n",
       "  [0.0, 9.526279441628825, 9.526279441628825, 5.916079783099616],\n",
       "  [0.0, 12.138094304022081, 12.138094304022081, 9.526279441628825],\n",
       "  [0.0, 16.907838418910917, 16.907838418910917, 12.138094304022081],\n",
       "  [0.0, 20.749939758948695, 20.749939758948695, 16.907838418910917],\n",
       "  [0.0, 10.246950765959598, 10.246950765959598, 0.0],\n",
       "  [0.0, 3.605551275463989, 3.605551275463989, 0.0],\n",
       "  [0.0, 10.111874208078342, 10.111874208078342, 3.605551275463989],\n",
       "  [0.0, 10.883218478209676, 10.883218478209676, 10.111874208078342],\n",
       "  [0.0, 6.4031242374328485, 6.4031242374328485, 0.0],\n",
       "  [0.0, 9.7082439194738, 9.7082439194738, 6.4031242374328485],\n",
       "  [0.0, 3.0, 3.0, 0.0],\n",
       "  [0.0, 9.394147114027968, 9.394147114027968, 3.0],\n",
       "  [0.0, 5.656854249492381, 5.656854249492381, 0.0],\n",
       "  [0.0, 2.23606797749979, 2.23606797749979, 0.0],\n",
       "  [0.0, 3.3541019662496847, 3.3541019662496847, 2.23606797749979],\n",
       "  [0.0, 5.033222956847168, 5.033222956847168, 3.3541019662496847],\n",
       "  [0.0, 7.88986691902975, 7.88986691902975, 5.033222956847168],\n",
       "  [5.656854249492381, 9.583318840568753, 9.583318840568753, 7.88986691902975],\n",
       "  [0.0, 7.211102550927978, 7.211102550927978, 0.0],\n",
       "  [9.583318840568753,\n",
       "   12.011898862615952,\n",
       "   12.011898862615952,\n",
       "   7.211102550927978],\n",
       "  [0.0, 2.449489742783178, 2.449489742783178, 0.0],\n",
       "  [0.0, 7.483314773547883, 7.483314773547883, 0.0],\n",
       "  [0.0, 9.899494936611665, 9.899494936611665, 7.483314773547883],\n",
       "  [2.449489742783178,\n",
       "   13.640218310406752,\n",
       "   13.640218310406752,\n",
       "   9.899494936611665],\n",
       "  [12.011898862615952,\n",
       "   20.578509706205526,\n",
       "   20.578509706205526,\n",
       "   13.640218310406752],\n",
       "  [9.394147114027968,\n",
       "   20.313431210121664,\n",
       "   20.313431210121664,\n",
       "   20.578509706205526],\n",
       "  [9.7082439194738, 18.00562729757242, 18.00562729757242, 20.313431210121664],\n",
       "  [10.883218478209676,\n",
       "   18.555928971625217,\n",
       "   18.555928971625217,\n",
       "   18.00562729757242],\n",
       "  [0.0, 24.23127140471356, 24.23127140471356, 18.555928971625217],\n",
       "  [10.246950765959598,\n",
       "   21.676060527688147,\n",
       "   21.676060527688147,\n",
       "   24.23127140471356],\n",
       "  [0.0, 15.906491156296848, 15.906491156296848, 21.676060527688147],\n",
       "  [0.0, 13.341664064126334, 13.341664064126334, 0.0],\n",
       "  [15.906491156296848,\n",
       "   37.361393503050664,\n",
       "   37.361393503050664,\n",
       "   13.341664064126334],\n",
       "  [0.0, 28.565033014353602, 28.565033014353602, 37.361393503050664],\n",
       "  [20.749939758948695,\n",
       "   36.53420560215083,\n",
       "   36.53420560215083,\n",
       "   28.565033014353602]],\n",
       " 'ivl': [18,\n",
       "  34,\n",
       "  2,\n",
       "  21,\n",
       "  15,\n",
       "  27,\n",
       "  19,\n",
       "  0,\n",
       "  16,\n",
       "  22,\n",
       "  32,\n",
       "  23,\n",
       "  29,\n",
       "  9,\n",
       "  13,\n",
       "  30,\n",
       "  5,\n",
       "  28,\n",
       "  26,\n",
       "  3,\n",
       "  6,\n",
       "  1,\n",
       "  10,\n",
       "  11,\n",
       "  17,\n",
       "  14,\n",
       "  4,\n",
       "  7,\n",
       "  24,\n",
       "  25,\n",
       "  12,\n",
       "  31,\n",
       "  8,\n",
       "  20,\n",
       "  35,\n",
       "  33,\n",
       "  36],\n",
       " 'leaves': [18,\n",
       "  34,\n",
       "  2,\n",
       "  21,\n",
       "  15,\n",
       "  27,\n",
       "  19,\n",
       "  0,\n",
       "  16,\n",
       "  22,\n",
       "  32,\n",
       "  23,\n",
       "  29,\n",
       "  9,\n",
       "  13,\n",
       "  30,\n",
       "  5,\n",
       "  28,\n",
       "  26,\n",
       "  3,\n",
       "  6,\n",
       "  1,\n",
       "  10,\n",
       "  11,\n",
       "  17,\n",
       "  14,\n",
       "  4,\n",
       "  7,\n",
       "  24,\n",
       "  25,\n",
       "  12,\n",
       "  31,\n",
       "  8,\n",
       "  20,\n",
       "  35,\n",
       "  33,\n",
       "  36],\n",
       " 'color_list': ['C1',\n",
       "  'C1',\n",
       "  'C1',\n",
       "  'C1',\n",
       "  'C1',\n",
       "  'C2',\n",
       "  'C2',\n",
       "  'C2',\n",
       "  'C2',\n",
       "  'C2',\n",
       "  'C2',\n",
       "  'C2',\n",
       "  'C2',\n",
       "  'C2',\n",
       "  'C2',\n",
       "  'C2',\n",
       "  'C2',\n",
       "  'C2',\n",
       "  'C2',\n",
       "  'C2',\n",
       "  'C2',\n",
       "  'C2',\n",
       "  'C2',\n",
       "  'C2',\n",
       "  'C2',\n",
       "  'C2',\n",
       "  'C2',\n",
       "  'C2',\n",
       "  'C2',\n",
       "  'C2',\n",
       "  'C2',\n",
       "  'C2',\n",
       "  'C3',\n",
       "  'C0',\n",
       "  'C0',\n",
       "  'C0']}"
      ]
     },
     "execution_count": 31,
     "metadata": {},
     "output_type": "execute_result"
    },
    {
     "data": {
      "image/png": "[encoded data removed]",
      "text/plain": [
       "<Figure size 432x288 with 1 Axes>"
      ]
     },
     "metadata": {},
     "output_type": "display_data"
    }
   ],
   "source": [
    "dendrogram(Z_single_2, labels=df.index)"
   ]
  },
  {
   "cell_type": "code",
   "execution_count": null,
   "metadata": {},
   "outputs": [],
   "source": []
  },
  {
   "cell_type": "markdown",
   "metadata": {},
   "source": [
    "# 分割型アルゴリズム\n",
    "下記論文の手法を実装\n",
    "- Macnaughton Smith, P., Williams, W., Dale, M. and Mockett, L. (1965). Dissimilarity analysis: anew technique of hierarchical subdivision, Nature 202:1034-1035."
   ]
  },
  {
   "cell_type": "code",
   "execution_count": 32,
   "metadata": {
    "ExecuteTime": {
     "end_time": "2022-03-02T15:35:34.389830Z",
     "start_time": "2022-03-02T15:35:34.285835Z"
    }
   },
   "outputs": [],
   "source": [
    "class MacnaughtonClustering:\n",
    "    # 初期化関数\n",
    "    def __init__(self, df):\n",
    "        self.df = df\n",
    "        \n",
    "        # クラス内で必要なlibraryのimport\n",
    "        import numpy as np\n",
    "        \n",
    "    # 距離行列を作成する関数\n",
    "    def makeDistanceMatrix(self):\n",
    "        # 各データの組み合わせを作成\n",
    "        combination_df = self.df-self.df[:, np.newaxis]\n",
    "        \n",
    "        # 組み合わせごとに距離を計算\n",
    "        d_matrix = np.array([[np.linalg.norm(combination_df[i, j]) for i in range(0, len(self.df))] for j in range(0, len(self.df))])\n",
    "        \n",
    "        # 出力\n",
    "        self.d_matrix = d_matrix \n",
    "        return(d_matrix)\n",
    "    \n",
    "    # クラスタ分割を制御・実行する関数\n",
    "    def doClustering(self):\n",
    "        \n",
    "        # クラスタを分割する関数\n",
    "        def doClusteringCore(target):\n",
    "            G1 = target.copy() # 移動元\n",
    "            G2 = [] # 移動先\n",
    "\n",
    "            # 移動すべき1個目の点を決める\n",
    "            tmp_d_matrix = self.d_matrix[np.ix_(G1, G1)]\n",
    "            maxi = np.argmax(\n",
    "                np.apply_along_axis(\n",
    "                    np.mean,\n",
    "                    axis = 0,\n",
    "                    arr = tmp_d_matrix)\n",
    "            )\n",
    "            \n",
    "            # cluster1のmiをcluster2に移動するメソッド\n",
    "            def move(cluster1, cluster2, mi):\n",
    "                trans_data = cluster1[mi]\n",
    "                cluster1.remove(trans_data)\n",
    "                cluster2.append(trans_data)\n",
    "\n",
    "            # 点の移動\n",
    "            move(cluster1 = G1, cluster2 = G2, mi = maxi)\n",
    "    \n",
    "            while True:\n",
    "                # 2個目以降の移動すべき点を決める\n",
    "                ## G1の各点の他の点との平均距離\n",
    "                tmp_d_matrix = self.d_matrix[np.ix_(G1, G1)]\n",
    "                G1_mean = np.apply_along_axis(\n",
    "                    sum,\n",
    "                    axis = 0,\n",
    "                    arr = tmp_d_matrix\n",
    "                )/(len(G1)-1)\n",
    "\n",
    "                ## G1の各点とG2の各点の平均距離\n",
    "                tmp_d_matrix = self.d_matrix[np.ix_(G1, G2)]\n",
    "                d_g1tog2 = np.apply_along_axis(\n",
    "                    np.mean,\n",
    "                    axis = 1,\n",
    "                    arr = tmp_d_matrix\n",
    "                )\n",
    "\n",
    "                ## 「G1の各点の他の点との平均距離」-「G1の各点とG2の各点の平均距離」\n",
    "                criterion = G1_mean-d_g1tog2\n",
    "\n",
    "                ## 判定条件の作成\n",
    "                cond = (criterion <= 0)\n",
    "                tf = all(cond)\n",
    "                \n",
    "                # 判定がTrueの場合、while文から抜け出し、分割終了\n",
    "                # 判定がFalseの場合、点を移動させ分割続行\n",
    "                if tf:\n",
    "                    break\n",
    "                else:\n",
    "                    maxi = np.argmax(criterion)\n",
    "                    move(cluster1 = G1, cluster2 = G2, mi = maxi)\n",
    "                    \n",
    "            cluster_diff = np.sum(self.d_matrix[np.ix_(G1, G2)])/(len(G1)*len(G2))\n",
    "            \n",
    "            # 出力\n",
    "            return([G1, G2, cluster_diff])\n",
    "        \n",
    "        # クラスタリング結果を格納するDataFrame定義\n",
    "        tmp0_result_DF = pd.DataFrame(columns=[\"tmp_cluster_no\", \"cluster\", \"diff\", \"children\"])\n",
    "\n",
    "        # 0行目は元のクラスタのインデックスを格納\n",
    "        tmp0_result_DF.loc[0] = [0, list(range(0, len(self.df))), np.nan, np.nan]\n",
    "\n",
    "        # パラメータ設定\n",
    "        count = 0 # 分割回数\n",
    "        next_clustering = 0 # 次に分割するクラスタのインデックス\n",
    "        clustering_done = [] # 既に分割したクラスタ\n",
    "\n",
    "        # 分割前後の処理を実行する関数\n",
    "        def clusterSupoort(rdf, nc, cd):\n",
    "            clustered_1 = max(rdf.index)+1\n",
    "            clustered_2 = max(rdf.index)+2\n",
    "\n",
    "            # 分割\n",
    "            if len(rdf.iloc[nc][\"cluster\"]) >= 3: # クラスタ数が3以上のとき、通常の分割\n",
    "                cluster1, cluster2, diff = doClusteringCore(target = rdf.iloc[nc][\"cluster\"])\n",
    "            else : # クラスタ数が2のときは、一つずつに分割\n",
    "                cluster1 = [rdf.iloc[nc][\"cluster\"][0]]\n",
    "                cluster2 = [rdf.iloc[nc][\"cluster\"][1]]\n",
    "                diff = self.d_matrix[np.ix_(cluster1, cluster2)][0, 0]\n",
    "                \n",
    "            rdf.loc[nc] = [nc, rdf.loc[nc][\"cluster\"], diff, [clustered_1, clustered_2]]\n",
    "            rdf.loc[clustered_1] = [clustered_1, cluster1, np.nan, np.nan]\n",
    "            rdf.loc[clustered_2] = [clustered_2, cluster2, np.nan, np.nan]\n",
    "            cd.append(nc)\n",
    "\n",
    "        # クラスタに含まれる要素の個数で分割の方法を変える\n",
    "        while (count < len(self.df)-1):    \n",
    "            if len(tmp0_result_DF.iloc[next_clustering][\"cluster\"]) >= 2:\n",
    "                clusterSupoort(rdf = tmp0_result_DF, nc = next_clustering, cd = clustering_done)\n",
    "                count += 1\n",
    "            else:\n",
    "                clustering_done.append(next_clustering)\n",
    "        \n",
    "            next_clustering = min([i for i in tmp0_result_DF.index if i not in clustering_done])\n",
    "        \n",
    "        # dendrogramに読み込める形に変更する\n",
    "        tmp0_result_DF[\"group_n\"] = [len(l) for l in tmp0_result_DF[\"cluster\"]]\n",
    "        \n",
    "        ## 要素が2個以上のクラスタに対する処理\n",
    "        tmp1_result_DF = (\n",
    "            tmp0_result_DF[tmp0_result_DF[\"group_n\"] >= 2]\n",
    "            .sort_values(\"diff\", ascending=False)\n",
    "        )\n",
    "        cluster_n = len(self.df)\n",
    "        tmp_cluster_no_list = list(range(cluster_n, 2*cluster_n-1))\n",
    "        tmp_cluster_no_list.reverse()\n",
    "        tmp1_result_DF[\"cluster_no\"] = tmp_cluster_no_list\n",
    "        \n",
    "        ## 要素が1個のクラスタに対する処理\n",
    "        tmp2_result_DF = (\n",
    "            tmp0_result_DF[tmp0_result_DF[\"group_n\"] == 1]\n",
    "        )\n",
    "        tmp_cluster_no_list = [l[0] for l in tmp2_result_DF[\"cluster\"]]\n",
    "        tmp2_result_DF[\"cluster_no\"] = tmp_cluster_no_list\n",
    "        \n",
    "        ## 要素が2個以上と1個のクラスタに対するresult_DFをunion\n",
    "        tmp3_result_DF = (\n",
    "            tmp1_result_DF\n",
    "            .append(\n",
    "                other = tmp2_result_DF,\n",
    "                ignore_index = True\n",
    "            )\n",
    "        )\n",
    "        \n",
    "        ## childrenから新規に振ったcluster番号を用いてクラスターを表現\n",
    "        cluster_list = []\n",
    "        for c in tmp3_result_DF[\"children\"]:\n",
    "            if isinstance(c, list):\n",
    "                tmp_series = tmp3_result_DF.loc[tmp3_result_DF[\"tmp_cluster_no\"] == c[0], \"cluster_no\"]\n",
    "                c0 = tmp_series.iloc[-1]\n",
    "                tmp_series = tmp3_result_DF.loc[tmp3_result_DF[\"tmp_cluster_no\"] == c[1], \"cluster_no\"]\n",
    "                c1 = tmp_series.iloc[-1]\n",
    "                \n",
    "                cluster_list.append([c0, c1])\n",
    "            else:\n",
    "                cluster_list.append(np.isnan)\n",
    "        \n",
    "        tmp3_result_DF[\"cluster_list\"] = cluster_list\n",
    "        \n",
    "        ## 必要なカラムだけ抜き出し、少し処理\n",
    "        tmp_linkage_Z = (\n",
    "            tmp3_result_DF[1<tmp3_result_DF[\"group_n\"]]\n",
    "            .sort_values(\"cluster_no\", ascending=True)\n",
    "        )\n",
    "        \n",
    "        tmp_Z = []\n",
    "        for i in tmp_linkage_Z[[\"cluster_list\", \"diff\", \"group_n\"]].itertuples():\n",
    "            i0, i1 = i.cluster_list\n",
    "            d = i.diff\n",
    "            n = i.group_n\n",
    "            tmp_Z.append([i0, i1, d, n])\n",
    "            \n",
    "        Z = np.array(tmp_Z)\n",
    "        \n",
    "        return(Z)"
   ]
  },
  {
   "cell_type": "code",
   "execution_count": 33,
   "metadata": {
    "ExecuteTime": {
     "end_time": "2022-03-02T15:35:34.405077Z",
     "start_time": "2022-03-02T15:35:34.392906Z"
    }
   },
   "outputs": [],
   "source": [
    "# テスト用データ作成\n",
    "test_data = np.array([\n",
    "    [1, 1],\n",
    "    [2, 2],\n",
    "    [3, 3],\n",
    "    [4, 4],\n",
    "    [5, 5],\n",
    "    [6, 6],\n",
    "    [7, 7],\n",
    "    [9, 9]\n",
    "])"
   ]
  },
  {
   "cell_type": "code",
   "execution_count": 34,
   "metadata": {
    "ExecuteTime": {
     "end_time": "2022-03-02T15:35:34.514930Z",
     "start_time": "2022-03-02T15:35:34.407065Z"
    }
   },
   "outputs": [
    {
     "name": "stdout",
     "output_type": "stream",
     "text": [
      "[[ 0.          1.41421356  2.82842712  4.24264069  5.65685425  7.07106781\n",
      "   8.48528137 11.3137085 ]\n",
      " [ 1.41421356  0.          1.41421356  2.82842712  4.24264069  5.65685425\n",
      "   7.07106781  9.89949494]\n",
      " [ 2.82842712  1.41421356  0.          1.41421356  2.82842712  4.24264069\n",
      "   5.65685425  8.48528137]\n",
      " [ 4.24264069  2.82842712  1.41421356  0.          1.41421356  2.82842712\n",
      "   4.24264069  7.07106781]\n",
      " [ 5.65685425  4.24264069  2.82842712  1.41421356  0.          1.41421356\n",
      "   2.82842712  5.65685425]\n",
      " [ 7.07106781  5.65685425  4.24264069  2.82842712  1.41421356  0.\n",
      "   1.41421356  4.24264069]\n",
      " [ 8.48528137  7.07106781  5.65685425  4.24264069  2.82842712  1.41421356\n",
      "   0.          2.82842712]\n",
      " [11.3137085   9.89949494  8.48528137  7.07106781  5.65685425  4.24264069\n",
      "   2.82842712  0.        ]]\n"
     ]
    },
    {
     "name": "stderr",
     "output_type": "stream",
     "text": [
      "C:\\ProgramData\\Anaconda3\\lib\\site-packages\\pandas\\core\\internals\\blocks.py:849: VisibleDeprecationWarning: Creating an ndarray from ragged nested sequences (which is a list-or-tuple of lists-or-tuples-or ndarrays with different lengths or shapes) is deprecated. If you meant to do this, you must specify 'dtype=object' when creating the ndarray\n",
      "  arr_value = np.array(value)\n",
      "<ipython-input-32-1fe58bd914ad>:142: SettingWithCopyWarning: \n",
      "A value is trying to be set on a copy of a slice from a DataFrame.\n",
      "Try using .loc[row_indexer,col_indexer] = value instead\n",
      "\n",
      "See the caveats in the documentation: https://pandas.pydata.org/pandas-docs/stable/user_guide/indexing.html#returning-a-view-versus-a-copy\n",
      "  tmp2_result_DF[\"cluster_no\"] = tmp_cluster_no_list\n"
     ]
    },
    {
     "ename": "NameError",
     "evalue": "name 'hierarchy' is not defined",
     "output_type": "error",
     "traceback": [
      "\u001b[1;31m---------------------------------------------------------------------------\u001b[0m",
      "\u001b[1;31mNameError\u001b[0m                                 Traceback (most recent call last)",
      "\u001b[1;32m<ipython-input-34-5be48b9acac3>\u001b[0m in \u001b[0;36m<module>\u001b[1;34m\u001b[0m\n\u001b[0;32m      4\u001b[0m \u001b[0mresult\u001b[0m \u001b[1;33m=\u001b[0m \u001b[0mtest_class\u001b[0m\u001b[1;33m.\u001b[0m\u001b[0mdoClustering\u001b[0m\u001b[1;33m(\u001b[0m\u001b[1;33m)\u001b[0m\u001b[1;33m\u001b[0m\u001b[1;33m\u001b[0m\u001b[0m\n\u001b[0;32m      5\u001b[0m \u001b[1;31m# デンドログラム作成\u001b[0m\u001b[1;33m\u001b[0m\u001b[1;33m\u001b[0m\u001b[1;33m\u001b[0m\u001b[0m\n\u001b[1;32m----> 6\u001b[1;33m \u001b[0mhierarchy\u001b[0m\u001b[1;33m.\u001b[0m\u001b[0mdendrogram\u001b[0m\u001b[1;33m(\u001b[0m\u001b[0mresult\u001b[0m\u001b[1;33m)\u001b[0m\u001b[1;33m\u001b[0m\u001b[1;33m\u001b[0m\u001b[0m\n\u001b[0m",
      "\u001b[1;31mNameError\u001b[0m: name 'hierarchy' is not defined"
     ]
    }
   ],
   "source": [
    "# 動かしてみる\n",
    "test_class = MacnaughtonClustering(df = test_data)\n",
    "print(test_class.makeDistanceMatrix())\n",
    "result = test_class.doClustering()\n",
    "# デンドログラム作成\n",
    "hierarchy.dendrogram(result)"
   ]
  },
  {
   "cell_type": "code",
   "execution_count": null,
   "metadata": {
    "ExecuteTime": {
     "end_time": "2022-03-02T15:35:34.518915Z",
     "start_time": "2022-03-02T15:35:29.427Z"
    }
   },
   "outputs": [],
   "source": [
    "G1"
   ]
  },
  {
   "cell_type": "code",
   "execution_count": null,
   "metadata": {},
   "outputs": [],
   "source": []
  },
  {
   "cell_type": "code",
   "execution_count": null,
   "metadata": {},
   "outputs": [],
   "source": []
  },
  {
   "cell_type": "code",
   "execution_count": null,
   "metadata": {},
   "outputs": [],
   "source": []
  },
  {
   "cell_type": "code",
   "execution_count": null,
   "metadata": {},
   "outputs": [],
   "source": []
  },
  {
   "cell_type": "code",
   "execution_count": null,
   "metadata": {
    "ExecuteTime": {
     "end_time": "2022-03-02T15:35:34.519911Z",
     "start_time": "2022-03-02T15:35:29.441Z"
    }
   },
   "outputs": [],
   "source": [
    "basobi = pd.DataFrame(columns=[\"a\", \"b\", \"c\", \"d\"])\n",
    "def asobi(df):\n",
    "    df.loc[0] = [0,0,0,0]\n",
    "    df.loc[1] = [1,1,1,1]\n",
    "\n",
    "asobi(df = basobi)\n",
    "print(basobi)"
   ]
  },
  {
   "cell_type": "code",
   "execution_count": null,
   "metadata": {
    "ExecuteTime": {
     "end_time": "2022-03-02T15:35:34.521253Z",
     "start_time": "2022-03-02T15:35:29.444Z"
    }
   },
   "outputs": [],
   "source": [
    "basobi.loc[0][\"a\"]"
   ]
  },
  {
   "cell_type": "code",
   "execution_count": null,
   "metadata": {
    "ExecuteTime": {
     "end_time": "2022-03-02T15:35:34.522256Z",
     "start_time": "2022-03-02T15:35:29.448Z"
    }
   },
   "outputs": [],
   "source": [
    "tmp0_result_DF = pd.DataFrame(columns=[\"tmp_cluster_no\", \"cluster\", \"diff\", \"children\"])\n",
    "tmp0_result_DF.loc[0] = [0, list(range(0, len(test_data))), np.nan, np.nan]"
   ]
  },
  {
   "cell_type": "code",
   "execution_count": null,
   "metadata": {
    "ExecuteTime": {
     "end_time": "2022-03-02T15:35:34.524249Z",
     "start_time": "2022-03-02T15:35:29.454Z"
    }
   },
   "outputs": [],
   "source": [
    "tmp0_result_DF"
   ]
  },
  {
   "cell_type": "code",
   "execution_count": null,
   "metadata": {
    "ExecuteTime": {
     "end_time": "2022-03-02T15:35:34.525248Z",
     "start_time": "2022-03-02T15:35:29.458Z"
    }
   },
   "outputs": [],
   "source": [
    "test_data"
   ]
  },
  {
   "cell_type": "code",
   "execution_count": null,
   "metadata": {
    "ExecuteTime": {
     "end_time": "2022-03-02T15:35:34.526242Z",
     "start_time": "2022-03-02T15:35:29.462Z"
    }
   },
   "outputs": [],
   "source": [
    "result_DF_new[c[0]][\"cluster_no_2\"]"
   ]
  },
  {
   "cell_type": "code",
   "execution_count": null,
   "metadata": {
    "ExecuteTime": {
     "end_time": "2022-03-02T15:35:34.527239Z",
     "start_time": "2022-03-02T15:35:29.467Z"
    }
   },
   "outputs": [],
   "source": [
    "basobi = list(set(asobi))\n",
    "basobi.remove(np.nan)"
   ]
  },
  {
   "cell_type": "code",
   "execution_count": null,
   "metadata": {
    "ExecuteTime": {
     "end_time": "2022-03-02T15:35:34.529233Z",
     "start_time": "2022-03-02T15:35:29.471Z"
    }
   },
   "outputs": [],
   "source": [
    "[np.nan]+basobi"
   ]
  },
  {
   "cell_type": "code",
   "execution_count": null,
   "metadata": {
    "ExecuteTime": {
     "end_time": "2022-03-02T15:35:34.530229Z",
     "start_time": "2022-03-02T15:35:29.476Z"
    }
   },
   "outputs": [],
   "source": [
    "def doClusteringCore(target, df):\n",
    "        G1 = target.copy() # 移動元\n",
    "        G2 = [] # 移動先\n",
    "\n",
    "        # 移動すべき1個目の点を決める\n",
    "        tmp_d_matrix = test_d_matrix[np.ix_(G1, G1)]\n",
    "        maxi = np.argmax(np.apply_along_axis(np.mean, axis=0, arr=tmp_d_matrix))\n",
    "\n",
    "        #移動すべき点\n",
    "        trans_data = G1[maxi]\n",
    "        G1.remove(trans_data)\n",
    "        G2.append(trans_data)\n",
    "\n",
    "        while True:\n",
    "            # 2個目以降の移動すべき点を決める\n",
    "            ## G1の各点の他の点との平均距離\n",
    "            tmp_d_matrix = self.d_matrix[np.ix_(G1, G1)]\n",
    "            G1_mean = np.apply_along_axis(sum, axis = 0, arr = tmp_d_matrix)/(len(G1)-1)\n",
    "\n",
    "            ## G1の各点とG2の各点の平均距離\n",
    "            tmp_d_matrix = test_d_matrix[np.ix_(G1, G2)]\n",
    "            d_g1tog2 = np.apply_along_axis(np.mean, axis=1, arr=d_matrix[np.ix_(G1, G2)])\n",
    "\n",
    "            ## 「G1の各点の他の点との平均距離」-「G1の各点とG2の各点の平均距離」\n",
    "            criterion = G1_mean-d_g1tog2\n",
    "\n",
    "            ## 判定条件の作成\n",
    "            cond = (criterion < 0)\n",
    "            tf = all(cond)\n",
    "\n",
    "            if tf:\n",
    "                break\n",
    "            else:\n",
    "                maxi = np.argmax(criterion)\n",
    "                trans_data = G1[maxi]\n",
    "                G1.remove(trans_data)\n",
    "                G2.append(trans_data)\n",
    "\n",
    "        return([G1, G2])\n"
   ]
  },
  {
   "cell_type": "code",
   "execution_count": null,
   "metadata": {},
   "outputs": [],
   "source": []
  },
  {
   "cell_type": "code",
   "execution_count": null,
   "metadata": {},
   "outputs": [],
   "source": []
  },
  {
   "cell_type": "code",
   "execution_count": null,
   "metadata": {},
   "outputs": [],
   "source": []
  },
  {
   "cell_type": "code",
   "execution_count": null,
   "metadata": {
    "ExecuteTime": {
     "end_time": "2022-03-02T15:35:34.534509Z",
     "start_time": "2022-03-02T15:35:29.489Z"
    },
    "scrolled": true
   },
   "outputs": [],
   "source": [
    "G1 = [0, 1, 3]\n",
    "G2 = [2, 4]\n",
    "d_matrix[np.ix_(G1, G2)]"
   ]
  },
  {
   "cell_type": "code",
   "execution_count": null,
   "metadata": {
    "ExecuteTime": {
     "end_time": "2022-03-02T15:35:34.535513Z",
     "start_time": "2022-03-02T15:35:29.493Z"
    }
   },
   "outputs": [],
   "source": [
    "np.apply_along_axis(np.mean, axis=1, arr=d_matrix[np.ix_(G1, G2)])"
   ]
  },
  {
   "cell_type": "code",
   "execution_count": null,
   "metadata": {
    "ExecuteTime": {
     "end_time": "2022-03-02T15:35:34.536508Z",
     "start_time": "2022-03-02T15:35:29.497Z"
    }
   },
   "outputs": [],
   "source": [
    "i_max = np.argmax(np.apply_along_axis(np.mean, axis=1, arr=d_matrix[np.ix_(G1, G2)]))"
   ]
  },
  {
   "cell_type": "code",
   "execution_count": null,
   "metadata": {
    "ExecuteTime": {
     "end_time": "2022-03-02T15:35:34.537505Z",
     "start_time": "2022-03-02T15:35:29.501Z"
    }
   },
   "outputs": [],
   "source": [
    "G1[i_max]"
   ]
  },
  {
   "cell_type": "code",
   "execution_count": null,
   "metadata": {
    "ExecuteTime": {
     "end_time": "2022-03-02T15:35:34.539499Z",
     "start_time": "2022-03-02T15:35:29.505Z"
    }
   },
   "outputs": [],
   "source": [
    "a = not all([True, True, True])"
   ]
  },
  {
   "cell_type": "code",
   "execution_count": null,
   "metadata": {
    "ExecuteTime": {
     "end_time": "2022-03-02T15:35:34.541492Z",
     "start_time": "2022-03-02T15:35:29.509Z"
    }
   },
   "outputs": [],
   "source": [
    "a"
   ]
  },
  {
   "cell_type": "code",
   "execution_count": null,
   "metadata": {
    "ExecuteTime": {
     "end_time": "2022-03-02T15:35:34.542489Z",
     "start_time": "2022-03-02T15:35:29.513Z"
    }
   },
   "outputs": [],
   "source": [
    "test = MacnaughtonClustering(data)\n",
    "test.doClustering()"
   ]
  },
  {
   "cell_type": "code",
   "execution_count": null,
   "metadata": {
    "ExecuteTime": {
     "end_time": "2022-03-02T15:35:34.544481Z",
     "start_time": "2022-03-02T15:35:29.517Z"
    }
   },
   "outputs": [],
   "source": [
    "data"
   ]
  },
  {
   "cell_type": "code",
   "execution_count": null,
   "metadata": {
    "ExecuteTime": {
     "end_time": "2021-12-12T06:41:06.102117Z",
     "start_time": "2021-12-12T06:41:06.085466Z"
    }
   },
   "outputs": [],
   "source": []
  },
  {
   "cell_type": "code",
   "execution_count": null,
   "metadata": {
    "ExecuteTime": {
     "end_time": "2022-03-02T15:35:34.545479Z",
     "start_time": "2022-03-02T15:35:29.523Z"
    }
   },
   "outputs": [],
   "source": [
    "list(range(0, len(data)))"
   ]
  },
  {
   "cell_type": "code",
   "execution_count": null,
   "metadata": {
    "ExecuteTime": {
     "end_time": "2022-03-02T15:35:34.548606Z",
     "start_time": "2022-03-02T15:35:29.526Z"
    }
   },
   "outputs": [],
   "source": [
    "np.apply_along_axis(sum, axis=0, arr = d_matrix[np.ix_([0, 1], [0, 1])])/10"
   ]
  },
  {
   "cell_type": "code",
   "execution_count": null,
   "metadata": {
    "ExecuteTime": {
     "end_time": "2022-03-02T15:35:34.549604Z",
     "start_time": "2022-03-02T15:35:29.532Z"
    }
   },
   "outputs": [],
   "source": [
    "for p in parent_list:\n",
    "        if len(tmp_Z[tmp_Z[\"parent\"] == p]) == 2:\n",
    "            parent_list.remove(p)"
   ]
  },
  {
   "cell_type": "code",
   "execution_count": null,
   "metadata": {},
   "outputs": [],
   "source": []
  },
  {
   "cell_type": "code",
   "execution_count": null,
   "metadata": {
    "ExecuteTime": {
     "end_time": "2022-03-02T15:35:34.550599Z",
     "start_time": "2022-03-02T15:35:29.538Z"
    }
   },
   "outputs": [],
   "source": [
    "[list(test1[test1[\"parent\"] == 1][\"cluster_no\"])[1]]"
   ]
  },
  {
   "cell_type": "code",
   "execution_count": null,
   "metadata": {
    "ExecuteTime": {
     "end_time": "2022-03-02T15:35:34.552593Z",
     "start_time": "2022-03-02T15:35:29.541Z"
    }
   },
   "outputs": [],
   "source": [
    "test1"
   ]
  },
  {
   "cell_type": "code",
   "execution_count": null,
   "metadata": {
    "ExecuteTime": {
     "end_time": "2022-03-02T15:35:34.553589Z",
     "start_time": "2022-03-02T15:35:29.544Z"
    }
   },
   "outputs": [],
   "source": [
    "#list(test1[test1[\"parent\"] == 1][\"Z_index\"])[0]==-1\n",
    "test1 = changeFmt(tmp=test_data, cp=cp)"
   ]
  },
  {
   "cell_type": "code",
   "execution_count": null,
   "metadata": {
    "ExecuteTime": {
     "end_time": "2022-03-02T15:35:34.555582Z",
     "start_time": "2022-03-02T15:35:29.548Z"
    }
   },
   "outputs": [],
   "source": [
    "test1"
   ]
  },
  {
   "cell_type": "code",
   "execution_count": null,
   "metadata": {
    "ExecuteTime": {
     "end_time": "2022-03-02T15:35:34.556583Z",
     "start_time": "2022-03-02T15:35:29.551Z"
    }
   },
   "outputs": [],
   "source": [
    "np.nan"
   ]
  },
  {
   "cell_type": "code",
   "execution_count": null,
   "metadata": {
    "ExecuteTime": {
     "end_time": "2022-03-02T15:35:34.558572Z",
     "start_time": "2022-03-02T15:35:29.554Z"
    }
   },
   "outputs": [],
   "source": [
    "test = MacnaughtonClustering(df = data)\n",
    "test.doClustering(tmp=test_data, cp=cp)"
   ]
  },
  {
   "cell_type": "code",
   "execution_count": null,
   "metadata": {
    "ExecuteTime": {
     "end_time": "2022-03-02T15:35:34.560566Z",
     "start_time": "2022-03-02T15:35:29.557Z"
    }
   },
   "outputs": [],
   "source": [
    "print(test.makeDistanceMatrix())\n",
    "test.d_matrix"
   ]
  },
  {
   "cell_type": "code",
   "execution_count": null,
   "metadata": {
    "ExecuteTime": {
     "end_time": "2022-03-02T15:35:34.561562Z",
     "start_time": "2022-03-02T15:35:29.560Z"
    }
   },
   "outputs": [],
   "source": [
    "data = np.array([\n",
    "    [1,1,1],\n",
    "    [2,2,2],\n",
    "    [0,1,0],\n",
    "    [4,5,1],\n",
    "    [1,2,3]\n",
    "])\n",
    "\n",
    "# 各データの組み合わせを作成\n",
    "combination_df = data-data[:, np.newaxis]\n",
    "        \n",
    "# 組み合わせごとに距離を計算\n",
    "d_matrix = np.array([[np.linalg.norm(combination_df[i, j]) for i in range(0, len(data))] for j in range(0, len(data))])"
   ]
  },
  {
   "cell_type": "code",
   "execution_count": null,
   "metadata": {
    "ExecuteTime": {
     "end_time": "2022-03-02T15:35:34.563555Z",
     "start_time": "2022-03-02T15:35:29.564Z"
    }
   },
   "outputs": [],
   "source": [
    "tmp_i = np.argmax(np.apply_along_axis(sum, axis=0, arr=d_matrix[np.ix_([0, 2, 4], [0, 2, 4])]))"
   ]
  },
  {
   "cell_type": "code",
   "execution_count": null,
   "metadata": {
    "ExecuteTime": {
     "end_time": "2022-03-02T15:35:34.565549Z",
     "start_time": "2022-03-02T15:35:29.568Z"
    }
   },
   "outputs": [],
   "source": [
    "np.apply_along_axis(sum, axis=0, arr=d_matrix[np.ix_([0, 2, 4], [0, 2, 4])])"
   ]
  },
  {
   "cell_type": "code",
   "execution_count": null,
   "metadata": {
    "ExecuteTime": {
     "end_time": "2022-03-02T15:35:34.567543Z",
     "start_time": "2022-03-02T15:35:29.572Z"
    }
   },
   "outputs": [],
   "source": [
    "[0,2,4][tmp_i]"
   ]
  },
  {
   "cell_type": "code",
   "execution_count": null,
   "metadata": {},
   "outputs": [],
   "source": []
  },
  {
   "cell_type": "code",
   "execution_count": null,
   "metadata": {},
   "outputs": [],
   "source": []
  },
  {
   "cell_type": "code",
   "execution_count": null,
   "metadata": {},
   "outputs": [],
   "source": []
  },
  {
   "cell_type": "code",
   "execution_count": null,
   "metadata": {},
   "outputs": [],
   "source": []
  },
  {
   "cell_type": "code",
   "execution_count": null,
   "metadata": {},
   "outputs": [],
   "source": []
  },
  {
   "cell_type": "code",
   "execution_count": null,
   "metadata": {},
   "outputs": [],
   "source": []
  },
  {
   "cell_type": "code",
   "execution_count": null,
   "metadata": {},
   "outputs": [],
   "source": []
  },
  {
   "cell_type": "code",
   "execution_count": null,
   "metadata": {
    "ExecuteTime": {
     "end_time": "2022-03-02T15:35:34.568539Z",
     "start_time": "2022-03-02T15:35:29.589Z"
    }
   },
   "outputs": [],
   "source": [
    "# irisデータ\n",
    "from sklearn.datasets import load_iris\n",
    "\n",
    "# データ読み込み\n",
    "iris = load_iris()\n",
    "iris.keys()\n",
    "\n",
    "df_iris = iris.data\n",
    "df_target = iris.target\n",
    "target_names = iris.target_names\n",
    "df_labels = target_names[df_target]\n",
    "\n",
    "# データの正規化（平均0, 標準偏差1）\n",
    "scaler = StandardScaler()\n",
    "df_iris_std = scaler.fit_transform(df_iris)"
   ]
  },
  {
   "cell_type": "code",
   "execution_count": null,
   "metadata": {
    "ExecuteTime": {
     "end_time": "2022-03-02T15:35:34.570534Z",
     "start_time": "2022-03-02T15:35:29.593Z"
    }
   },
   "outputs": [],
   "source": [
    "# 距離計算\n",
    "dist = hierarchy.distance.pdist(df_iris_std, metric='euclidean')\n",
    "\n",
    "# クラスタリング\n",
    "linkage = hierarchy.linkage(dist, method='ward')\n",
    "\n",
    "# デンドログラム\n",
    "fig, ax = plt.subplots(figsize=(5,13))\n",
    "ax = hierarchy.dendrogram(Z=linkage,\n",
    "                          orientation='right',\n",
    "                          labels=df_labels)\n",
    "fig.show()"
   ]
  },
  {
   "cell_type": "code",
   "execution_count": null,
   "metadata": {
    "ExecuteTime": {
     "end_time": "2022-03-02T15:35:34.571529Z",
     "start_time": "2022-03-02T15:35:29.597Z"
    }
   },
   "outputs": [],
   "source": [
    "type(linkage)"
   ]
  },
  {
   "cell_type": "code",
   "execution_count": null,
   "metadata": {
    "ExecuteTime": {
     "end_time": "2022-03-02T15:35:34.573522Z",
     "start_time": "2022-03-02T15:35:29.601Z"
    }
   },
   "outputs": [],
   "source": [
    "test1 = [1,2,3,4]\n",
    "test2 = test1.copy()\n",
    "test2.remove(1)\n",
    "print(test1)\n",
    "print(test2)"
   ]
  },
  {
   "cell_type": "code",
   "execution_count": null,
   "metadata": {},
   "outputs": [],
   "source": []
  },
  {
   "cell_type": "code",
   "execution_count": null,
   "metadata": {
    "ExecuteTime": {
     "end_time": "2022-03-02T15:35:34.575516Z",
     "start_time": "2022-03-02T15:35:29.606Z"
    }
   },
   "outputs": [],
   "source": [
    "sample = np.array([[0, 1, 0.1, 2],\n",
    "                   [2, 3, 0.2, 2],\n",
    "                   [4, 5, 0.3, 4],\n",
    "                   ])\n",
    "type(sample)\n",
    "hierarchy.dendrogram(sample)"
   ]
  },
  {
   "cell_type": "code",
   "execution_count": null,
   "metadata": {
    "ExecuteTime": {
     "end_time": "2022-03-02T15:35:34.577510Z",
     "start_time": "2022-03-02T15:35:29.609Z"
    }
   },
   "outputs": [],
   "source": [
    "# クラスタリング\n",
    "linkage = hierarchy.linkage(dist, method='single')\n",
    "\n",
    "# デンドログラム\n",
    "fig, ax = plt.subplots(figsize=(5,13))\n",
    "ax = hierarchy.dendrogram(Z=linkage,\n",
    "                orientation='right',\n",
    "                         labels=df_labels)\n",
    "fig.show()\n",
    "\n",
    "\n",
    "hierarchy.fcluster(linkage, t=1.0 , criterion=\"distance\")"
   ]
  },
  {
   "cell_type": "code",
   "execution_count": null,
   "metadata": {
    "ExecuteTime": {
     "end_time": "2022-03-02T15:35:34.580500Z",
     "start_time": "2022-03-02T15:35:29.613Z"
    }
   },
   "outputs": [],
   "source": [
    "# クラスタリング\n",
    "linkage = hierarchy.linkage(dist, method='complete')\n",
    "\n",
    "# デンドログラム\n",
    "fig, ax = plt.subplots(figsize=(5,13))\n",
    "ax = hierarchy.dendrogram(Z=linkage,\n",
    "                orientation='right')\n",
    "fig.show()"
   ]
  },
  {
   "cell_type": "code",
   "execution_count": null,
   "metadata": {
    "ExecuteTime": {
     "end_time": "2022-03-02T15:35:34.583489Z",
     "start_time": "2022-03-02T15:35:29.616Z"
    }
   },
   "outputs": [],
   "source": [
    "# クラスタリング\n",
    "linkage = hierarchy.linkage(dist, method='average')\n",
    "\n",
    "# デンドログラム\n",
    "fig, ax = plt.subplots(figsize=(5,13))\n",
    "ax = hierarchy.dendrogram(Z=linkage,\n",
    "                orientation='right')\n",
    "fig.show()"
   ]
  },
  {
   "cell_type": "code",
   "execution_count": null,
   "metadata": {},
   "outputs": [],
   "source": []
  },
  {
   "cell_type": "code",
   "execution_count": null,
   "metadata": {},
   "outputs": [],
   "source": []
  },
  {
   "cell_type": "code",
   "execution_count": null,
   "metadata": {},
   "outputs": [],
   "source": []
  },
  {
   "cell_type": "code",
   "execution_count": null,
   "metadata": {},
   "outputs": [],
   "source": []
  },
  {
   "cell_type": "code",
   "execution_count": null,
   "metadata": {},
   "outputs": [],
   "source": []
  },
  {
   "cell_type": "code",
   "execution_count": null,
   "metadata": {},
   "outputs": [],
   "source": []
  },
  {
   "cell_type": "code",
   "execution_count": null,
   "metadata": {},
   "outputs": [],
   "source": []
  },
  {
   "cell_type": "code",
   "execution_count": null,
   "metadata": {},
   "outputs": [],
   "source": []
  },
  {
   "cell_type": "code",
   "execution_count": null,
   "metadata": {},
   "outputs": [],
   "source": []
  },
  {
   "cell_type": "code",
   "execution_count": null,
   "metadata": {},
   "outputs": [],
   "source": []
  },
  {
   "cell_type": "code",
   "execution_count": null,
   "metadata": {},
   "outputs": [],
   "source": []
  },
  {
   "cell_type": "code",
   "execution_count": null,
   "metadata": {},
   "outputs": [],
   "source": []
  },
  {
   "cell_type": "code",
   "execution_count": null,
   "metadata": {},
   "outputs": [],
   "source": []
  },
  {
   "cell_type": "code",
   "execution_count": null,
   "metadata": {},
   "outputs": [],
   "source": []
  },
  {
   "cell_type": "code",
   "execution_count": null,
   "metadata": {},
   "outputs": [],
   "source": []
  },
  {
   "cell_type": "code",
   "execution_count": null,
   "metadata": {},
   "outputs": [],
   "source": []
  },
  {
   "cell_type": "code",
   "execution_count": null,
   "metadata": {},
   "outputs": [],
   "source": []
  },
  {
   "cell_type": "code",
   "execution_count": null,
   "metadata": {},
   "outputs": [],
   "source": []
  },
  {
   "cell_type": "code",
   "execution_count": null,
   "metadata": {},
   "outputs": [],
   "source": []
  },
  {
   "cell_type": "code",
   "execution_count": null,
   "metadata": {},
   "outputs": [],
   "source": []
  },
  {
   "cell_type": "code",
   "execution_count": null,
   "metadata": {},
   "outputs": [],
   "source": []
  },
  {
   "cell_type": "code",
   "execution_count": null,
   "metadata": {},
   "outputs": [],
   "source": []
  },
  {
   "cell_type": "code",
   "execution_count": null,
   "metadata": {},
   "outputs": [],
   "source": []
  },
  {
   "cell_type": "code",
   "execution_count": null,
   "metadata": {},
   "outputs": [],
   "source": []
  },
  {
   "cell_type": "code",
   "execution_count": null,
   "metadata": {},
   "outputs": [],
   "source": []
  },
  {
   "cell_type": "code",
   "execution_count": null,
   "metadata": {
    "ExecuteTime": {
     "end_time": "2022-03-02T15:35:34.585483Z",
     "start_time": "2022-03-02T15:35:29.666Z"
    }
   },
   "outputs": [],
   "source": [
    "#基礎計算系のライブラリ\n",
    "import numpy as np\n",
    "from scipy import stats \n",
    "from math import pi, cos, sin\n",
    "import pandas as pd\n",
    "\n",
    "#クラスタリングに用いるライブラリ\n",
    "from sklearn.cluster import KMeans\n",
    "from pyclustering.cluster import kmeans, kmedoids, xmeans, dbscan\n",
    "from pyclustering.cluster.center_initializer import kmeans_plusplus_initializer \n",
    "from kneed import KneeLocator\n",
    "\n",
    "# 乱数発生に使うライブラリ\n",
    "import random\n",
    "\n",
    "#散布図の表示などに用いるライブラリ\n",
    "import matplotlib.colors as plc \n",
    "import matplotlib.pyplot as plt \n",
    "from IPython.display import display, HTML \n",
    "from mpl_toolkits.mplot3d import Axes3D\n",
    "\n",
    "%matplotlib inline"
   ]
  },
  {
   "cell_type": "code",
   "execution_count": null,
   "metadata": {},
   "outputs": [],
   "source": []
  },
  {
   "cell_type": "code",
   "execution_count": null,
   "metadata": {},
   "outputs": [],
   "source": []
  },
  {
   "cell_type": "code",
   "execution_count": null,
   "metadata": {},
   "outputs": [],
   "source": []
  },
  {
   "cell_type": "code",
   "execution_count": null,
   "metadata": {},
   "outputs": [],
   "source": []
  },
  {
   "cell_type": "code",
   "execution_count": null,
   "metadata": {},
   "outputs": [],
   "source": []
  },
  {
   "cell_type": "code",
   "execution_count": null,
   "metadata": {},
   "outputs": [],
   "source": []
  },
  {
   "cell_type": "code",
   "execution_count": null,
   "metadata": {
    "ExecuteTime": {
     "end_time": "2022-03-02T15:35:34.586479Z",
     "start_time": "2022-03-02T15:35:29.679Z"
    }
   },
   "outputs": [],
   "source": [
    "data = np.array(\n",
    "    [\n",
    "        [0, 0, 0],\n",
    "        [1, 1, 1],\n",
    "        [2, 2, 2]\n",
    "    ]\n",
    ")"
   ]
  },
  {
   "cell_type": "code",
   "execution_count": null,
   "metadata": {
    "ExecuteTime": {
     "end_time": "2022-03-02T15:35:34.588472Z",
     "start_time": "2022-03-02T15:35:29.683Z"
    }
   },
   "outputs": [],
   "source": [
    "d_matrix = np.array(\n",
    "    [list(np.zeros(i))+[np.linalg.norm(data[i]-data[j]) for j in range(i+1, len(data))] for i in range(0, len(data)-1)]\n",
    ")"
   ]
  },
  {
   "cell_type": "code",
   "execution_count": null,
   "metadata": {
    "ExecuteTime": {
     "end_time": "2022-03-02T15:35:34.589469Z",
     "start_time": "2022-03-02T15:35:29.687Z"
    }
   },
   "outputs": [],
   "source": [
    "d_matrix"
   ]
  },
  {
   "cell_type": "code",
   "execution_count": null,
   "metadata": {
    "ExecuteTime": {
     "end_time": "2022-03-02T15:35:34.590466Z",
     "start_time": "2022-03-02T15:35:29.691Z"
    }
   },
   "outputs": [],
   "source": [
    "data[:, np.newaxis]"
   ]
  },
  {
   "cell_type": "code",
   "execution_count": null,
   "metadata": {
    "ExecuteTime": {
     "end_time": "2022-03-02T15:35:34.592461Z",
     "start_time": "2022-03-02T15:35:29.696Z"
    }
   },
   "outputs": [],
   "source": [
    "data[0]-data[:, np.newaxis][1]"
   ]
  },
  {
   "cell_type": "code",
   "execution_count": null,
   "metadata": {
    "ExecuteTime": {
     "end_time": "2022-03-02T15:35:34.593455Z",
     "start_time": "2022-03-02T15:35:29.700Z"
    }
   },
   "outputs": [],
   "source": [
    "# 距離の計算(最終版)\n",
    "d_matrix = np.array([[np.linalg.norm((data-data[:, np.newaxis])[i, j]) for i in range(0, len(data))] for j in range(0, len(data))])"
   ]
  },
  {
   "cell_type": "code",
   "execution_count": null,
   "metadata": {
    "ExecuteTime": {
     "end_time": "2022-03-02T15:35:34.594453Z",
     "start_time": "2022-03-02T15:35:29.704Z"
    }
   },
   "outputs": [],
   "source": [
    "d_matrix"
   ]
  },
  {
   "cell_type": "code",
   "execution_count": null,
   "metadata": {
    "ExecuteTime": {
     "end_time": "2022-03-02T15:35:34.595449Z",
     "start_time": "2022-03-02T15:35:29.707Z"
    }
   },
   "outputs": [],
   "source": [
    "(data-data[:, np.newaxis])[0, 0]"
   ]
  },
  {
   "cell_type": "code",
   "execution_count": null,
   "metadata": {
    "ExecuteTime": {
     "end_time": "2022-03-02T15:35:34.597443Z",
     "start_time": "2022-03-02T15:35:29.710Z"
    }
   },
   "outputs": [],
   "source": [
    "G_1 = [0]\n",
    "G_2 = [1, 2, 3, 4, 5, 6, 7]"
   ]
  },
  {
   "cell_type": "code",
   "execution_count": null,
   "metadata": {
    "ExecuteTime": {
     "end_time": "2022-03-02T15:35:34.598439Z",
     "start_time": "2022-03-02T15:35:29.714Z"
    }
   },
   "outputs": [],
   "source": [
    "d_matrix_df = pd.DataFrame(d_matrix)"
   ]
  },
  {
   "cell_type": "code",
   "execution_count": null,
   "metadata": {
    "ExecuteTime": {
     "end_time": "2022-03-02T15:35:34.601429Z",
     "start_time": "2022-03-02T15:35:29.718Z"
    }
   },
   "outputs": [],
   "source": [
    "d_matrix_df"
   ]
  },
  {
   "cell_type": "code",
   "execution_count": null,
   "metadata": {
    "ExecuteTime": {
     "end_time": "2022-03-02T15:35:34.602426Z",
     "start_time": "2022-03-02T15:35:29.721Z"
    }
   },
   "outputs": [],
   "source": [
    "d_matrix_df.iloc[1][0]-np.mean(d_matrix_df.iloc[1][2:8])"
   ]
  },
  {
   "cell_type": "code",
   "execution_count": null,
   "metadata": {
    "ExecuteTime": {
     "end_time": "2022-03-02T15:35:34.603422Z",
     "start_time": "2022-03-02T15:35:29.725Z"
    }
   },
   "outputs": [],
   "source": [
    "G_1 = [0, 1, 2, 3]\n",
    "\n",
    "for i in [4, 5, 6, 7]:\n",
    "    a = list(d_matrix_df.columns)\n",
    "    for g1 in G_1:\n",
    "        a.remove(g1)\n",
    "    \n",
    "    a.remove(i)\n",
    "    print(i, np.mean(d_matrix_df.iloc[i][g1])-np.mean(d_matrix_df.iloc[i][a]))"
   ]
  },
  {
   "cell_type": "code",
   "execution_count": null,
   "metadata": {
    "ExecuteTime": {
     "end_time": "2022-03-02T15:35:34.604419Z",
     "start_time": "2022-03-02T15:35:29.728Z"
    }
   },
   "outputs": [],
   "source": [
    "G_1 = [0, 1, 2, 3]"
   ]
  },
  {
   "cell_type": "code",
   "execution_count": null,
   "metadata": {},
   "outputs": [],
   "source": []
  },
  {
   "cell_type": "code",
   "execution_count": null,
   "metadata": {
    "ExecuteTime": {
     "end_time": "2022-03-02T15:35:34.606413Z",
     "start_time": "2022-03-02T15:35:29.734Z"
    }
   },
   "outputs": [],
   "source": [
    "get_cg_point\n",
    "\n",
    "cluster_single"
   ]
  },
  {
   "cell_type": "code",
   "execution_count": null,
   "metadata": {
    "ExecuteTime": {
     "end_time": "2022-03-02T15:35:34.607409Z",
     "start_time": "2022-03-02T15:35:29.737Z"
    }
   },
   "outputs": [],
   "source": [
    "get_cg_point(df[cluster_single == 1])"
   ]
  }
 ],
 "metadata": {
  "kernelspec": {
   "display_name": "Python 3",
   "language": "python",
   "name": "python3"
  },
  "language_info": {
   "codemirror_mode": {
    "name": "ipython",
    "version": 3
   },
   "file_extension": ".py",
   "mimetype": "text/x-python",
   "name": "python",
   "nbconvert_exporter": "python",
   "pygments_lexer": "ipython3",
   "version": "3.8.5"
  },
  "toc": {
   "base_numbering": 1,
   "nav_menu": {},
   "number_sections": true,
   "sideBar": true,
   "skip_h1_title": false,
   "title_cell": "Table of Contents",
   "title_sidebar": "Contents",
   "toc_cell": false,
   "toc_position": {},
   "toc_section_display": true,
   "toc_window_display": false
  }
 },
 "nbformat": 4,
 "nbformat_minor": 4
}
