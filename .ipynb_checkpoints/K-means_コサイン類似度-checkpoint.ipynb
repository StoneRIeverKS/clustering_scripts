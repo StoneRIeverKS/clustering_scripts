{
 "cells": [
  {
   "cell_type": "markdown",
   "metadata": {},
   "source": [
    "# 準備"
   ]
  },
  {
   "cell_type": "markdown",
   "metadata": {},
   "source": [
    "# import"
   ]
  },
  {
   "cell_type": "code",
   "execution_count": 1,
   "metadata": {},
   "outputs": [],
   "source": [
    "import numpy as np\n",
    "import matplotlib.pyplot as plt\n",
    "import sklearn.cluster._kmeans\n",
    "from itertools import combinations\n",
    "from sklearn.metrics.pairwise import euclidean_distances"
   ]
  },
  {
   "cell_type": "markdown",
   "metadata": {},
   "source": [
    "# 関数の定義"
   ]
  },
  {
   "cell_type": "code",
   "execution_count": 2,
   "metadata": {},
   "outputs": [],
   "source": [
    "#コサイン類似度\n",
    "def cos_sim(X, Y):\n",
    "    return np.dot(X, Y)/(np.linalg.norm(X)*np.linalg.norm(Y))\n",
    "    \n",
    "#コサイン類似度の非類似度化\n",
    "def cos_sim_distances(X, Y):\n",
    "    return 1-cos_sim(X, Y)\n",
    "\n",
    "def sub_cos_sim_distances(X, row_index_1, row_index_2):\n",
    "    cossim_distance = cos_sim_distances(X[row_index_1], X[row_index_2])\n",
    "    return (cossim_distance, row_index_1, row_index_2)\n",
    "\n",
    "def middle_cos_sim_distances(X, Y=None):\n",
    "    if Y is None:\n",
    "        #Xだけが入力されていて、Xが2d-arrayの場合\n",
    "        row_combinations = list(combinations(range(0, len(X)), 2))\n",
    "        cos_sim_set = [sub_cos_sim_distances(X, index_set_tuple[0], index_set_tuple[1]) for index_set_tuple in row_combinations]\n",
    "        return np.array(cos_sim_set)\n",
    "    \n",
    "    #不明なため一旦中断\n",
    "    \n",
    "    elif len(X.shape)==1 and len(Y.shape)==2:\n",
    "        cos_sim_set = np.array([cos_sim_distances(X, Y[y_sample_index]) for y_sample_index in range(0, Y.shape[0])])\n",
    "        return np.array(cos_sim_set)\n",
    "    \n",
    "    elif  len(X.shape)==2 and len(Y.shape)==2:\n",
    "        cos_sim_x_and_all_y = lambda XX, YY: np.array([cos_sim_distances(XX, YY[y_sample_index]) for y_sample_index in range(0, YY.shape[0])])\n",
    "        cos_sim_divergence_set = np.array([cos_sim_x_and_all_y(X[x_i], Y) for x_i in range(0, X.shape[0])])\n",
    "        return np.array(cos_sim_divergence_set)\n",
    "    \n",
    "    else:\n",
    "        raise Exception(\"Exception case caused\")\n",
    "\n",
    "def middle_cos_sim_distances(X, Y=None):\n",
    "    if Y is None:\n",
    "        #Xだけが入力されていて、Xが2d-arrayの場合\n",
    "        row_combinations = list(combinations(range(0, len(X)), 2))\n",
    "        cos_sim_set = [sub_cos_sim_distances(X, index_set_tuple[0], index_set_tuple[1]) for index_set_tuple in row_combinations]\n",
    "\n",
    "        data = [t[0] for t in cos_sim_set]\n",
    "        row = [t[1] for t in cos_sim_set]\n",
    "        col = [t[2] for t in cos_sim_set]\n",
    "\n",
    "        distance_matrix = np.zeros((X.shape[0], X.shape[0]))\n",
    "        distance_matrix[row, col] = data\n",
    "        return distance_matrix+distance_matrix.T\n",
    "    \n",
    "    #不明なため一旦中断\n",
    "    \n",
    "    elif len(X.shape)==1 and len(Y.shape)==2:\n",
    "        cos_sim_set = np.array([cos_sim_distances(X, Y[y_sample_index]) for y_sample_index in range(0, Y.shape[0])])\n",
    "        return np.array(cos_sim_set)\n",
    "    \n",
    "    elif  len(X.shape)==2 and len(Y.shape)==2:\n",
    "        cos_sim_x_and_all_y = lambda XX, YY: np.array([cos_sim_distances(XX, YY[y_sample_index]) for y_sample_index in range(0, YY.shape[0])])\n",
    "        cos_sim_divergence_set = np.array([cos_sim_x_and_all_y(X[x_i], Y) for x_i in range(0, X.shape[0])])\n",
    "        return np.array(cos_sim_divergence_set)\n",
    "    \n",
    "    else:\n",
    "        raise Exception(\"Exception case caused\")\n",
    "        \n",
    "#k_meansの距離に定義を合わせる\n",
    "def new_cos_sim_distances(X, Y=None, Y_norm_squared=None, squared=False):\n",
    "    return middle_cos_sim_distances(X, Y)"
   ]
  },
  {
   "cell_type": "markdown",
   "metadata": {},
   "source": [
    "# 乱数の発生"
   ]
  },
  {
   "cell_type": "code",
   "execution_count": 11,
   "metadata": {},
   "outputs": [],
   "source": [
    "#乱数の生成\n",
    "np.random.seed(0)\n",
    "x1 = np.array([np.random.normal(loc, 1, 20) for loc in [2, 10, -2]]).flatten() #ランダムな80個の数を生成\n",
    "x2 = np.array([np.random.normal(loc, 1, 20) for loc in [0, 10, 0]]).flatten() #ランダムな80個の数を生成\n",
    "\n",
    "#入力データ\n",
    "X = np.c_[x1, x2]"
   ]
  },
  {
   "cell_type": "code",
   "execution_count": 12,
   "metadata": {},
   "outputs": [
    {
     "name": "stderr",
     "output_type": "stream",
     "text": [
      "No handles with labels found to put in legend.\n"
     ]
    },
    {
     "data": {
      "image/png": "[encoded data removed]",
      "text/plain": [
       "<Figure size 432x288 with 1 Axes>"
      ]
     },
     "metadata": {
      "needs_background": "light"
     },
     "output_type": "display_data"
    }
   ],
   "source": [
    "#散布図で表示\n",
    "plt.rcParams[\"font.family\"] = \"Hiragino Kaku Gothic Pro\"\n",
    "plt.scatter(x1, x2)\n",
    "plt.xlim(-10, 20)\n",
    "plt.ylim(-3, 15)\n",
    "plt.legend()\n",
    "plt.grid()\n",
    "plt.show()"
   ]
  },
  {
   "cell_type": "markdown",
   "metadata": {},
   "source": [
    "## コサイン類似度でk-meansを実行"
   ]
  },
  {
   "cell_type": "code",
   "execution_count": 13,
   "metadata": {
    "scrolled": false
   },
   "outputs": [
    {
     "data": {
      "image/png": "[encoded data removed]",
      "text/plain": [
       "<Figure size 432x288 with 1 Axes>"
      ]
     },
     "metadata": {
      "needs_background": "light"
     },
     "output_type": "display_data"
    }
   ],
   "source": [
    "#距離を上書き\n",
    "sklearn.cluster._kmeans.euclidean_distances = new_cos_sim_distances\n",
    "\n",
    "#エルボー法を用いてクラスタ数を決定する\n",
    "distortions_cos_sim = []\n",
    "\n",
    "for i  in range(2,11):                # 1~10クラスタまで一気に計算 \n",
    "    km_model_cos_sim = sklearn.cluster._kmeans.KMeans(    \n",
    "        n_clusters=i,\n",
    "        init='k-means++',     # k-means++法によりクラスタ中心を選択\n",
    "        n_init=10,\n",
    "        max_iter=300,\n",
    "        random_state=0)\n",
    "    y_km_cos_sim = km_model_cos_sim.fit(X)  # クラスタリングの計算を実行\n",
    "    \n",
    "    #郡内分散を計算してそれをエルボー法で実装\n",
    "    result_cos_sim = np.c_[X, y_km_cos_sim.labels_]\n",
    "    distortions_cos_sim.append(sum([sum([cos_sim_distances(col, y_km_cos_sim.cluster_centers_[j]) for col in result_cos_sim[result_cos_sim[:,2] == j][:, 0:2]]) for j in set(y_km_cos_sim.labels_)]))\n",
    "\n",
    "plt.plot(range(2,11),distortions_cos_sim,marker='o')\n",
    "plt.xlabel('Number of clusters')\n",
    "plt.ylabel('Distortion')\n",
    "plt.show()"
   ]
  },
  {
   "cell_type": "code",
   "execution_count": 14,
   "metadata": {},
   "outputs": [
    {
     "data": {
      "text/plain": [
       "[37.64713328407146,\n",
       " 3.099553266551365,\n",
       " 1.3755560663727202,\n",
       " 1.9724926541573757,\n",
       " 1.3256376985020082,\n",
       " 1.2266161285061927,\n",
       " 1.3264245226297238,\n",
       " 2.1755126560164277,\n",
       " 1.749032938124335]"
      ]
     },
     "execution_count": 14,
     "metadata": {},
     "output_type": "execute_result"
    }
   ],
   "source": [
    "distortions_cos_sim"
   ]
  },
  {
   "cell_type": "code",
   "execution_count": null,
   "metadata": {},
   "outputs": [],
   "source": []
  },
  {
   "cell_type": "code",
   "execution_count": 15,
   "metadata": {},
   "outputs": [
    {
     "ename": "NameError",
     "evalue": "name 'center_half_distances' is not defined",
     "output_type": "error",
     "traceback": [
      "\u001b[1;31m---------------------------------------------------------------------------\u001b[0m",
      "\u001b[1;31mNameError\u001b[0m                                 Traceback (most recent call last)",
      "\u001b[1;32m<ipython-input-15-f00602843913>\u001b[0m in \u001b[0;36m<module>\u001b[1;34m\u001b[0m\n\u001b[1;32m----> 1\u001b[1;33m \u001b[0mcenter_half_distances\u001b[0m\u001b[1;33m\u001b[0m\u001b[1;33m\u001b[0m\u001b[0m\n\u001b[0m",
      "\u001b[1;31mNameError\u001b[0m: name 'center_half_distances' is not defined"
     ]
    }
   ],
   "source": [
    "center_half_distances"
   ]
  },
  {
   "cell_type": "code",
   "execution_count": 23,
   "metadata": {},
   "outputs": [
    {
     "name": "stderr",
     "output_type": "stream",
     "text": [
      "No handles with labels found to put in legend.\n"
     ]
    },
    {
     "data": {
      "image/png": "[encoded data removed]",
      "text/plain": [
       "<Figure size 432x288 with 1 Axes>"
      ]
     },
     "metadata": {
      "needs_background": "light"
     },
     "output_type": "display_data"
    }
   ],
   "source": [
    "#kmeansを実装\n",
    "km_model_cos_sim = sklearn.cluster._kmeans.KMeans(\n",
    "    n_clusters = 6,\n",
    "    init = \"random\",\n",
    "    n_init = 10,\n",
    "    max_iter = 300,\n",
    "    tol = 1e-04,\n",
    "    random_state = 1,\n",
    "    )\n",
    "\n",
    "#モデルへのあてはめ\n",
    "y_km_cos_sim = km_model_cos_sim.fit(X)\n",
    "\n",
    "#結果をプロット\n",
    "plt.rcParams[\"font.family\"] = \"Hiragino Kaku Gothic Pro\"\n",
    "plt.scatter(x1, x2, c = y_km_cos_sim.labels_, s = 30)\n",
    "plt.xlim(-10, 20)\n",
    "plt.ylim(-3, 15)\n",
    "plt.title(\"k-means_cos_sim\")\n",
    "plt.legend()\n",
    "plt.grid()\n",
    "plt.show()"
   ]
  },
  {
   "cell_type": "code",
   "execution_count": 18,
   "metadata": {},
   "outputs": [
    {
     "data": {
      "text/plain": [
       "array([[10.05575035, 10.42120921],\n",
       "       [ 0.08712577,  0.07222969]])"
      ]
     },
     "execution_count": 18,
     "metadata": {},
     "output_type": "execute_result"
    }
   ],
   "source": [
    "y_km_cos_sim.cluster_centers_"
   ]
  },
  {
   "cell_type": "markdown",
   "metadata": {},
   "source": [
    "# テスト"
   ]
  },
  {
   "cell_type": "code",
   "execution_count": 3,
   "metadata": {},
   "outputs": [],
   "source": [
    "A = [[0,1],[1,0]]"
   ]
  },
  {
   "cell_type": "code",
   "execution_count": null,
   "metadata": {},
   "outputs": [],
   "source": [
    "euclidea"
   ]
  }
 ],
 "metadata": {
  "kernelspec": {
   "display_name": "Python 3",
   "language": "python",
   "name": "python3"
  },
  "language_info": {
   "codemirror_mode": {
    "name": "ipython",
    "version": 3
   },
   "file_extension": ".py",
   "mimetype": "text/x-python",
   "name": "python",
   "nbconvert_exporter": "python",
   "pygments_lexer": "ipython3",
   "version": "3.8.5"
  }
 },
 "nbformat": 4,
 "nbformat_minor": 4
}
