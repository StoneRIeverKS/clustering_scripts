{
 "cells": [
  {
   "cell_type": "markdown",
   "metadata": {},
   "source": [
    "# 初期設定"
   ]
  },
  {
   "cell_type": "code",
   "execution_count": 1,
   "metadata": {},
   "outputs": [],
   "source": [
    "import sklearn.metrics.pairwise\n",
    "from importlib import reload"
   ]
  },
  {
   "cell_type": "code",
   "execution_count": 2,
   "metadata": {},
   "outputs": [],
   "source": [
    "#上書きするメソッド\n",
    "\n",
    "#コサイン類似度\n",
    "def cos_sim(X, Y):\n",
    "    return np.dot(X, Y)/(np.linalg.norm(X)*np.linalg.norm(Y))\n",
    "    \n",
    "#コサイン類似度の非類似度化\n",
    "def cos_sim_distances(X, Y):\n",
    "    return 1-cos_sim(X, Y)\n",
    "\n",
    "def sub_cos_sim_distances(X, row_index_1, row_index_2):\n",
    "    cossim_distance = cos_sim_distances(X[row_index_1], X[row_index_2])\n",
    "    return (cossim_distance, row_index_1, row_index_2)\n",
    "\n",
    "def middle_cos_sim_distances(X, Y=None):\n",
    "    if Y is None:\n",
    "        #Xだけが入力されていて、Xが2d-arrayの場合\n",
    "        row_combinations = list(combinations(range(0, len(X)), 2))\n",
    "        cos_sim_set = [sub_cos_sim_distances(X, index_set_tuple[0], index_set_tuple[1]) for index_set_tuple in row_combinations]\n",
    "        return np.array(cos_sim_set)\n",
    "    \n",
    "    #不明なため一旦中断\n",
    "    \n",
    "    elif len(X.shape)==1 and len(Y.shape)==2:\n",
    "        cos_sim_set = np.array([cos_sim_distances(X, Y[y_sample_index]) for y_sample_index in range(0, Y.shape[0])])\n",
    "        return np.array(cos_sim_set)\n",
    "    \n",
    "    elif  len(X.shape)==2 and len(Y.shape)==2:\n",
    "        cos_sim_x_and_all_y = lambda XX, YY: np.array([cos_sim_distances(XX, YY[y_sample_index]) for y_sample_index in range(0, YY.shape[0])])\n",
    "        cos_sim_divergence_set = np.array([cos_sim_x_and_all_y(X[x_i], Y) for x_i in range(0, X.shape[0])])\n",
    "        return np.array(cos_sim_divergence_set)\n",
    "    \n",
    "    else:\n",
    "        raise Exception(\"Exception case caused\")\n",
    "\n",
    "def middle_cos_sim_distances(X, Y=None):\n",
    "    X = np.array(X)\n",
    "    Y = np.array(Y)\n",
    "    if len(Y.shape) == 0:\n",
    "        #Xだけが入力されていて、Xが2d-arrayの場合\n",
    "        row_combinations = list(combinations(range(0, len(X)), 2))\n",
    "        cos_sim_set = [sub_cos_sim_distances(X, index_set_tuple[0], index_set_tuple[1]) for index_set_tuple in row_combinations]\n",
    "\n",
    "        data = [t[0] for t in cos_sim_set]\n",
    "        row = [t[1] for t in cos_sim_set]\n",
    "        col = [t[2] for t in cos_sim_set]\n",
    "\n",
    "        distance_matrix = np.zeros((len(X), len(X)))\n",
    "        distance_matrix[row, col] = data\n",
    "        return distance_matrix+distance_matrix.T\n",
    "    \n",
    "    elif len(X.shape) == 1 and len(Y.shape) == 2:\n",
    "        cos_sim_set = np.array([cos_sim_distances(X, Y[y_sample_index]) for y_sample_index in range(0, Y.shape[0])])\n",
    "        return np.array(cos_sim_set)\n",
    "    \n",
    "    elif  len(X.shape) == 2 and len(Y.shape) == 2:\n",
    "        cos_sim_x_and_all_y = lambda XX, YY: np.array([cos_sim_distances(XX, YY[y_sample_index]) for y_sample_index in range(0, YY.shape[0])])\n",
    "        cos_sim_divergence_set = np.array([cos_sim_x_and_all_y(X[x_i], Y) for x_i in range(0, X.shape[0])])\n",
    "        return np.array(cos_sim_divergence_set)\n",
    "    \n",
    "    else:\n",
    "        raise Exception(\"Exception case caused\")\n",
    "        \n",
    "#k_meansの距離に定義を合わせる\n",
    "def new_cos_sim_distances(X, Y=None, Y_norm_squared=None, squared=False, X_norm_squared=None):\n",
    "    return middle_cos_sim_distances(X, Y)"
   ]
  },
  {
   "cell_type": "code",
   "execution_count": 3,
   "metadata": {},
   "outputs": [],
   "source": [
    "sklearn.metrics.pairwise.euclidean_distances = new_cos_sim_distances"
   ]
  },
  {
   "cell_type": "code",
   "execution_count": 4,
   "metadata": {},
   "outputs": [],
   "source": [
    "#他に必要なパッケージをimport\n",
    "import numpy as np\n",
    "import matplotlib.pyplot as plt\n",
    "from itertools import combinations\n",
    "\n",
    "from sklearn.cluster import KMeans"
   ]
  },
  {
   "cell_type": "markdown",
   "metadata": {},
   "source": [
    "# 乱数の発生"
   ]
  },
  {
   "cell_type": "code",
   "execution_count": 5,
   "metadata": {},
   "outputs": [],
   "source": [
    "#乱数の生成\n",
    "np.random.seed(0)\n",
    "x1 = np.array([np.random.normal(loc, 1, 20) for loc in [2, 10, -2]]).flatten() #ランダムな80個の数を生成\n",
    "x2 = np.array([np.random.normal(loc, 1, 20) for loc in [0, 10, 0]]).flatten() #ランダムな80個の数を生成\n",
    "\n",
    "#入力データ\n",
    "X = np.c_[x1, x2]"
   ]
  },
  {
   "cell_type": "code",
   "execution_count": 6,
   "metadata": {},
   "outputs": [
    {
     "name": "stderr",
     "output_type": "stream",
     "text": [
      "No handles with labels found to put in legend.\n",
      "findfont: Font family ['Hiragino Kaku Gothic Pro'] not found. Falling back to DejaVu Sans.\n"
     ]
    },
    {
     "data": {
      "image/png": "[encoded data removed]",
      "text/plain": [
       "<Figure size 432x288 with 1 Axes>"
      ]
     },
     "metadata": {
      "needs_background": "light"
     },
     "output_type": "display_data"
    }
   ],
   "source": [
    "#散布図で表示\n",
    "plt.rcParams[\"font.family\"] = \"Hiragino Kaku Gothic Pro\"\n",
    "plt.scatter(x1, x2)\n",
    "plt.xlim(-10, 20)\n",
    "plt.ylim(-3, 15)\n",
    "plt.legend()\n",
    "plt.grid()\n",
    "plt.show()"
   ]
  },
  {
   "cell_type": "markdown",
   "metadata": {},
   "source": [
    "## コサイン類似度でk-meansを実行"
   ]
  },
  {
   "cell_type": "code",
   "execution_count": 7,
   "metadata": {
    "scrolled": false
   },
   "outputs": [
    {
     "data": {
      "image/png": "[encoded data removed]",
      "text/plain": [
       "<Figure size 432x288 with 1 Axes>"
      ]
     },
     "metadata": {
      "needs_background": "light"
     },
     "output_type": "display_data"
    }
   ],
   "source": [
    "#エルボー法を用いてクラスタ数を決定する\n",
    "distortions_cos_sim = []\n",
    "\n",
    "for i  in range(2,11):                # 1~10クラスタまで一気に計算 \n",
    "    km_model_cos_sim = KMeans(    \n",
    "        n_clusters=i,\n",
    "        init='k-means++',     # k-means++法によりクラスタ中心を選択\n",
    "        n_init=10,\n",
    "        max_iter=300,\n",
    "        random_state=0)\n",
    "    y_km_cos_sim = km_model_cos_sim.fit(X)  # クラスタリングの計算を実行\n",
    "    \n",
    "    #郡内分散を計算してそれをエルボー法で実装\n",
    "    result_cos_sim = np.c_[X, y_km_cos_sim.labels_]\n",
    "    distortions_cos_sim.append(sum([sum([cos_sim_distances(col, y_km_cos_sim.cluster_centers_[j]) for col in result_cos_sim[result_cos_sim[:,2] == j][:, 0:2]]) for j in set(y_km_cos_sim.labels_)]))\n",
    "\n",
    "plt.plot(range(2,11),distortions_cos_sim,marker='o')\n",
    "plt.xlabel('Number of clusters')\n",
    "plt.ylabel('Distortion')\n",
    "plt.show()"
   ]
  },
  {
   "cell_type": "code",
   "execution_count": 8,
   "metadata": {},
   "outputs": [
    {
     "name": "stderr",
     "output_type": "stream",
     "text": [
      "No handles with labels found to put in legend.\n",
      "findfont: Font family ['Hiragino Kaku Gothic Pro'] not found. Falling back to DejaVu Sans.\n"
     ]
    },
    {
     "data": {
      "image/png": "[encoded data removed]",
      "text/plain": [
       "<Figure size 432x288 with 1 Axes>"
      ]
     },
     "metadata": {
      "needs_background": "light"
     },
     "output_type": "display_data"
    }
   ],
   "source": [
    "#kmeansを実装\n",
    "km_model_cos_sim = KMeans(\n",
    "    n_clusters = 2,\n",
    "    random_state = 10,\n",
    "    init = \"random\"\n",
    "    )\n",
    "\n",
    "#モデルへのあてはめ\n",
    "y_km_cos_sim = km_model_cos_sim.fit(X)\n",
    "\n",
    "#結果をプロット\n",
    "plt.rcParams[\"font.family\"] = \"Hiragino Kaku Gothic Pro\"\n",
    "plt.scatter(x1, x2, c = y_km_cos_sim.labels_, s = 30)\n",
    "plt.xlim(-10, 20)\n",
    "plt.ylim(-3, 15)\n",
    "plt.title(\"k-means_cos_sim\")\n",
    "plt.legend()\n",
    "plt.grid()\n",
    "plt.show()"
   ]
  },
  {
   "cell_type": "code",
   "execution_count": 9,
   "metadata": {},
   "outputs": [
    {
     "data": {
      "text/plain": [
       "array([[ 0.08712577,  0.07222969],\n",
       "       [10.05575035, 10.42120921]])"
      ]
     },
     "execution_count": 9,
     "metadata": {},
     "output_type": "execute_result"
    }
   ],
   "source": [
    "y_km_cos_sim.cluster_centers_"
   ]
  },
  {
   "cell_type": "markdown",
   "metadata": {},
   "source": [
    "# テスト"
   ]
  },
  {
   "cell_type": "code",
   "execution_count": 9,
   "metadata": {},
   "outputs": [
    {
     "data": {
      "text/plain": [
       "<function __main__.new_cos_sim_distances(X, Y=None, Y_norm_squared=None, squared=False, X_norm_squared=None)>"
      ]
     },
     "execution_count": 9,
     "metadata": {},
     "output_type": "execute_result"
    }
   ],
   "source": [
    " sklearn.cluster._kmeans.euclidean_distances"
   ]
  },
  {
   "cell_type": "code",
   "execution_count": 68,
   "metadata": {},
   "outputs": [],
   "source": [
    "A = [[1,0]]\n",
    "B = [[1,0],[0,1]]"
   ]
  },
  {
   "cell_type": "code",
   "execution_count": 51,
   "metadata": {},
   "outputs": [
    {
     "ename": "SyntaxError",
     "evalue": "invalid character in identifier (<ipython-input-51-0a42c85e3203>, line 1)",
     "output_type": "error",
     "traceback": [
      "\u001b[1;36m  File \u001b[1;32m\"<ipython-input-51-0a42c85e3203>\"\u001b[1;36m, line \u001b[1;32m1\u001b[0m\n\u001b[1;33m    euclidean_distances(A，B)\u001b[0m\n\u001b[1;37m                          ^\u001b[0m\n\u001b[1;31mSyntaxError\u001b[0m\u001b[1;31m:\u001b[0m invalid character in identifier\n"
     ]
    }
   ],
   "source": [
    "euclidean_distances(A，B)"
   ]
  },
  {
   "cell_type": "code",
   "execution_count": 69,
   "metadata": {},
   "outputs": [
    {
     "data": {
      "text/plain": [
       "array([[0., 1.]])"
      ]
     },
     "execution_count": 69,
     "metadata": {},
     "output_type": "execute_result"
    }
   ],
   "source": [
    "new_cos_sim_distances(A,B)"
   ]
  },
  {
   "cell_type": "code",
   "execution_count": 19,
   "metadata": {},
   "outputs": [],
   "source": [
    "A = np.array(A)"
   ]
  },
  {
   "cell_type": "code",
   "execution_count": 36,
   "metadata": {},
   "outputs": [],
   "source": [
    "B = None\n",
    "B = np.array(B)"
   ]
  },
  {
   "cell_type": "code",
   "execution_count": 61,
   "metadata": {},
   "outputs": [],
   "source": [
    "_,n_features = X.shape"
   ]
  },
  {
   "cell_type": "code",
   "execution_count": 62,
   "metadata": {},
   "outputs": [],
   "source": [
    "centers = np.empty((2, n_features), dtype=X.dtype)"
   ]
  },
  {
   "cell_type": "code",
   "execution_count": 70,
   "metadata": {},
   "outputs": [
    {
     "ename": "NameError",
     "evalue": "name 'stable_cumsum' is not defined",
     "output_type": "error",
     "traceback": [
      "\u001b[1;31m---------------------------------------------------------------------------\u001b[0m",
      "\u001b[1;31mNameError\u001b[0m                                 Traceback (most recent call last)",
      "\u001b[1;32m<ipython-input-70-52fe13a59b57>\u001b[0m in \u001b[0;36m<module>\u001b[1;34m\u001b[0m\n\u001b[1;32m----> 1\u001b[1;33m \u001b[0mstable_cumsum\u001b[0m\u001b[1;33m(\u001b[0m\u001b[0mclosest_dist_sq\u001b[0m\u001b[1;33m)\u001b[0m\u001b[1;33m\u001b[0m\u001b[1;33m\u001b[0m\u001b[0m\n\u001b[0m",
      "\u001b[1;31mNameError\u001b[0m: name 'stable_cumsum' is not defined"
     ]
    }
   ],
   "source": [
    "stable_cumsum(closest_dist_sq)\n"
   ]
  },
  {
   "cell_type": "code",
   "execution_count": 94,
   "metadata": {},
   "outputs": [],
   "source": [
    "classX = np.c_[X, np.random.randint(0,3, X.shape[0])]\n",
    "center = np.empty((3,2))"
   ]
  },
  {
   "cell_type": "code",
   "execution_count": 97,
   "metadata": {},
   "outputs": [],
   "source": [
    "center[0]= [classX[classX[:, 2]==0][:,0:2][0].mean(),classX[classX[:, 2]==0][:,0:2][1].mean()]\n",
    "center[1]= [classX[classX[:, 2]==1][:,0:2][0].mean(),classX[classX[:, 2]==1][:,0:2][1].mean()]\n",
    "center[2]= [classX[classX[:, 2]==2][:,0:2][0].mean(),classX[classX[:, 2]==2][:,0:2][1].mean()]"
   ]
  },
  {
   "cell_type": "code",
   "execution_count": 98,
   "metadata": {},
   "outputs": [
    {
     "data": {
      "text/plain": [
       "array([[1.54579595, 0.31047059],\n",
       "       [1.02030202, 1.08279585],\n",
       "       [2.02249207, 1.43656707]])"
      ]
     },
     "execution_count": 98,
     "metadata": {},
     "output_type": "execute_result"
    }
   ],
   "source": [
    "center"
   ]
  },
  {
   "cell_type": "code",
   "execution_count": 101,
   "metadata": {},
   "outputs": [],
   "source": [
    "t0 = new_cos_sim_distances(center[0], X)\n",
    "t1 = new_cos_sim_distances(center[1], X)\n",
    "t2 = new_cos_sim_distances(center[2], X)"
   ]
  },
  {
   "cell_type": "code",
   "execution_count": 102,
   "metadata": {},
   "outputs": [],
   "source": [
    "dis = np.c_[t0, t1, t2]"
   ]
  },
  {
   "cell_type": "code",
   "execution_count": 107,
   "metadata": {},
   "outputs": [
    {
     "data": {
      "text/plain": [
       "array([0.06949215, 0.45289352, 0.29928031])"
      ]
     },
     "execution_count": 107,
     "metadata": {},
     "output_type": "execute_result"
    }
   ],
   "source": [
    "dis[0]"
   ]
  },
  {
   "cell_type": "code",
   "execution_count": 109,
   "metadata": {},
   "outputs": [],
   "source": [
    "class_num = [list(d).index(min(d)) for d in dis]"
   ]
  },
  {
   "cell_type": "code",
   "execution_count": 110,
   "metadata": {},
   "outputs": [],
   "source": [
    "classX = np.c_[X, class_num]"
   ]
  },
  {
   "cell_type": "code",
   "execution_count": 111,
   "metadata": {},
   "outputs": [
    {
     "data": {
      "text/plain": [
       "array([[ 3.76405235, -0.67246045,  0.        ],\n",
       "       [ 2.40015721, -0.35955316,  0.        ],\n",
       "       [ 2.97873798, -0.81314628,  0.        ],\n",
       "       [ 4.2408932 , -1.7262826 ,  0.        ],\n",
       "       [ 3.86755799,  0.17742614,  0.        ],\n",
       "       [ 1.02272212, -0.40178094,  0.        ],\n",
       "       [ 2.95008842, -1.63019835,  0.        ],\n",
       "       [ 1.84864279,  0.46278226,  0.        ],\n",
       "       [ 1.89678115, -0.90729836,  0.        ],\n",
       "       [ 2.4105985 ,  0.0519454 ,  0.        ],\n",
       "       [ 2.14404357,  0.72909056,  0.        ],\n",
       "       [ 3.45427351,  0.12898291,  0.        ],\n",
       "       [ 2.76103773,  1.13940068,  0.        ],\n",
       "       [ 2.12167502, -1.23482582,  0.        ],\n",
       "       [ 2.44386323,  0.40234164,  0.        ],\n",
       "       [ 2.33367433, -0.68481009,  0.        ],\n",
       "       [ 3.49407907, -0.87079715,  0.        ],\n",
       "       [ 1.79484174, -0.57884966,  0.        ],\n",
       "       [ 2.3130677 , -0.31155253,  0.        ],\n",
       "       [ 1.14590426,  0.05616534,  0.        ],\n",
       "       [ 7.44701018,  8.83485016,  1.        ],\n",
       "       [10.6536186 , 10.90082649,  1.        ],\n",
       "       [10.8644362 , 10.46566244,  1.        ],\n",
       "       [ 9.25783498,  8.46375631,  1.        ],\n",
       "       [12.26975462, 11.48825219,  1.        ],\n",
       "       [ 8.54563433, 11.89588918,  1.        ],\n",
       "       [10.04575852, 11.17877957,  1.        ],\n",
       "       [ 9.81281615,  9.82007516,  1.        ],\n",
       "       [11.53277921,  8.92924738,  2.        ],\n",
       "       [11.46935877, 11.05445173,  1.        ],\n",
       "       [10.15494743,  9.59682305,  1.        ],\n",
       "       [10.37816252, 11.22244507,  1.        ],\n",
       "       [ 9.11221425, 10.20827498,  1.        ],\n",
       "       [ 8.01920353, 10.97663904,  1.        ],\n",
       "       [ 9.65208785, 10.3563664 ,  1.        ],\n",
       "       [10.15634897, 10.70657317,  1.        ],\n",
       "       [11.23029068, 10.01050002,  1.        ],\n",
       "       [11.20237985, 11.78587049,  1.        ],\n",
       "       [ 9.61267318, 10.12691209,  1.        ],\n",
       "       [ 9.69769725, 10.40198936,  1.        ],\n",
       "       [-3.04855297,  1.8831507 ,  1.        ],\n",
       "       [-3.42001794, -1.34775906,  1.        ],\n",
       "       [-3.70627019, -1.270485  ,  1.        ],\n",
       "       [-0.0492246 ,  0.96939671,  1.        ],\n",
       "       [-2.50965218, -1.17312341,  1.        ],\n",
       "       [-2.4380743 ,  1.94362119,  1.        ],\n",
       "       [-3.25279536, -0.41361898,  1.        ],\n",
       "       [-1.22250964, -0.74745481,  0.        ],\n",
       "       [-3.61389785,  1.92294203,  1.        ],\n",
       "       [-2.21274028,  1.48051479,  1.        ],\n",
       "       [-2.89546656,  1.86755896,  1.        ],\n",
       "       [-1.6130975 ,  0.90604466,  1.        ],\n",
       "       [-2.51080514, -0.86122569,  1.        ],\n",
       "       [-3.18063218,  1.91006495,  1.        ],\n",
       "       [-2.02818223, -0.26800337,  1.        ],\n",
       "       [-1.57166813,  0.8024564 ,  1.        ],\n",
       "       [-1.93348278,  0.94725197,  1.        ],\n",
       "       [-1.6975281 , -0.15501009,  1.        ],\n",
       "       [-2.63432209,  0.61407937,  1.        ],\n",
       "       [-2.36274117,  0.92220667,  1.        ]])"
      ]
     },
     "execution_count": 111,
     "metadata": {},
     "output_type": "execute_result"
    }
   ],
   "source": [
    "classX"
   ]
  },
  {
   "cell_type": "code",
   "execution_count": 123,
   "metadata": {},
   "outputs": [],
   "source": [
    "classX = np.c_[X, np.random.randint(0,3, X.shape[0])]\n",
    "center_before = np.empty((2,2))\n",
    "center_after = np.empty((2,2))\n",
    "\n",
    "sabun = 1\n",
    "\n",
    "#繰り返し\n",
    "while(sabun > 0.1):\n",
    "    center_before[0]= [classX[classX[:, 2]==0][:,0:2][0].mean(),classX[classX[:, 2]==0][:,0:2][1].mean()]\n",
    "    center_before[1]= [classX[classX[:, 2]==1][:,0:2][0].mean(),classX[classX[:, 2]==1][:,0:2][1].mean()]\n",
    "    #center_before[2]= [classX[classX[:, 2]==2][:,0:2][0].mean(),classX[classX[:, 2]==2][:,0:2][1].mean()]\n",
    "\n",
    "    t0 = new_cos_sim_distances(center[0], X)\n",
    "    t1 = new_cos_sim_distances(center[1], X)\n",
    "    #t2 = new_cos_sim_distances(center[2], X)\n",
    "\n",
    "    dis = np.c_[t0, t1]\n",
    "\n",
    "    class_num = [list(d).index(min(d)) for d in dis]\n",
    "\n",
    "    classX = np.c_[X, class_num]\n",
    "\n",
    "    center_after[0]= [classX[classX[:, 2]==0][:,0:2][0].mean(),classX[classX[:, 2]==0][:,0:2][1].mean()]\n",
    "    center_after[1]= [classX[classX[:, 2]==1][:,0:2][0].mean(),classX[classX[:, 2]==1][:,0:2][1].mean()]\n",
    "    #center_after[2]= [classX[classX[:, 2]==2][:,0:2][0].mean(),classX[classX[:, 2]==2][:,0:2][1].mean()]\n",
    "\n",
    "    sabun = sum(sum((center_before-center_after)**2))"
   ]
  },
  {
   "cell_type": "code",
   "execution_count": 128,
   "metadata": {},
   "outputs": [
    {
     "name": "stderr",
     "output_type": "stream",
     "text": [
      "No handles with labels found to put in legend.\n"
     ]
    },
    {
     "data": {
      "image/png": "[encoded data removed]",
      "text/plain": [
       "<Figure size 432x288 with 1 Axes>"
      ]
     },
     "metadata": {
      "needs_background": "light"
     },
     "output_type": "display_data"
    }
   ],
   "source": [
    "plt.rcParams[\"font.family\"] = \"Hiragino Kaku Gothic Pro\"\n",
    "plt.scatter(x1, x2, c = class_num, s = 10)\n",
    "plt.xlim(-10, 20)\n",
    "plt.ylim(-3, 15)\n",
    "plt.title(\"k-means_cos_sim\")\n",
    "plt.legend()\n",
    "plt.grid()\n",
    "plt.show()"
   ]
  },
  {
   "cell_type": "code",
   "execution_count": null,
   "metadata": {},
   "outputs": [],
   "source": []
  }
 ],
 "metadata": {
  "kernelspec": {
   "display_name": "Python 3",
   "language": "python",
   "name": "python3"
  },
  "language_info": {
   "codemirror_mode": {
    "name": "ipython",
    "version": 3
   },
   "file_extension": ".py",
   "mimetype": "text/x-python",
   "name": "python",
   "nbconvert_exporter": "python",
   "pygments_lexer": "ipython3",
   "version": "3.8.5"
  }
 },
 "nbformat": 4,
 "nbformat_minor": 4
}
