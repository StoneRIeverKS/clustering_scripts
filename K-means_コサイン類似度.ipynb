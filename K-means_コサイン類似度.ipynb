{
 "cells": [
  {
   "cell_type": "markdown",
   "metadata": {},
   "source": [
    "# 準備"
   ]
  },
  {
   "cell_type": "markdown",
   "metadata": {},
   "source": [
    "# import"
   ]
  },
  {
   "cell_type": "code",
   "execution_count": 9,
   "metadata": {},
   "outputs": [],
   "source": [
    "import numpy as np\n",
    "import matplotlib.pyplot as plt\n",
    "import sklearn.cluster._kmeans\n",
    "from itertools import combinations"
   ]
  },
  {
   "cell_type": "markdown",
   "metadata": {},
   "source": [
    "# 関数の定義"
   ]
  },
  {
   "cell_type": "code",
   "execution_count": 10,
   "metadata": {},
   "outputs": [],
   "source": [
    "#コサイン類似度\n",
    "def cos_sim(X, Y):\n",
    "    return np.dot(X, Y)/(np.linalg.norm(X)*np.linalg.norm(Y))\n",
    "    \n",
    "#コサイン類似度の非類似度化\n",
    "def cos_sim_distances(X, Y):\n",
    "    return 1-cos_sim(X, Y)\n",
    "\n",
    "def sub_cos_sim_distances(X, row_index_1, row_index_2):\n",
    "    cossim_distance = cos_sim_distances(X[row_index_1], X[row_index_2])\n",
    "    return (cossim_distance, row_index_1, row_index_2)\n",
    "\n",
    "def middle_cos_sim_distances(X, Y=None):\n",
    "    if Y is None:\n",
    "        #Xだけが入力されていて、Xが2d-arrayの場合\n",
    "        row_combinations = list(combinations(range(0, len(X)), 2))\n",
    "        cos_sim_set = [sub_cos_sim_distances(X, index_set_tuple[0], index_set_tuple[1]) for index_set_tuple in row_combinations]\n",
    "        return np.array(cos_sim_set)\n",
    "    \n",
    "    #不明なため一旦中断\n",
    "    \n",
    "    elif len(X.shape)==1 and len(Y.shape)==2:\n",
    "        cos_sim_set = np.array([cos_sim_distances(X, Y[y_sample_index]) for y_sample_index in range(0, Y.shape[0])])\n",
    "        return np.array(cos_sim_set)\n",
    "    \n",
    "    elif  len(X.shape)==2 and len(Y.shape)==2:\n",
    "        cos_sim_x_and_all_y = lambda XX, YY: np.array([cos_sim_distances(XX, YY[y_sample_index]) for y_sample_index in range(0, YY.shape[0])])\n",
    "        cos_sim_divergence_set = np.array([cos_sim_x_and_all_y(X[x_i], Y) for x_i in range(0, X.shape[0])])\n",
    "        return np.array(cos_sim_divergence_set)\n",
    "    \n",
    "    else:\n",
    "        raise Exception(\"Exception case caused\")\n",
    "\n",
    "def middle_cos_sim_distances(X, Y=None):\n",
    "    if Y is None:\n",
    "        #Xだけが入力されていて、Xが2d-arrayの場合\n",
    "        row_combinations = list(combinations(range(0, len(X)), 2))\n",
    "        cos_sim_set = [sub_cos_sim_distances(X, index_set_tuple[0], index_set_tuple[1]) for index_set_tuple in row_combinations]\n",
    "\n",
    "        data = [t[0] for t in cos_sim_set]\n",
    "        row = [t[1] for t in cos_sim_set]\n",
    "        col = [t[2] for t in cos_sim_set]\n",
    "\n",
    "        distance_matrix = np.zeros((X.shape[0], X.shape[0]))\n",
    "        distance_matrix[row, col] = data\n",
    "        return distance_matrix+distance_matrix.T\n",
    "    \n",
    "    #不明なため一旦中断\n",
    "    \n",
    "    elif len(X.shape)==1 and len(Y.shape)==2:\n",
    "        cos_sim_set = np.array([cos_sim_distances(X, Y[y_sample_index]) for y_sample_index in range(0, Y.shape[0])])\n",
    "        return np.array(cos_sim_set)\n",
    "    \n",
    "    elif  len(X.shape)==2 and len(Y.shape)==2:\n",
    "        cos_sim_x_and_all_y = lambda XX, YY: np.array([cos_sim_distances(XX, YY[y_sample_index]) for y_sample_index in range(0, YY.shape[0])])\n",
    "        cos_sim_divergence_set = np.array([cos_sim_x_and_all_y(X[x_i], Y) for x_i in range(0, X.shape[0])])\n",
    "        return np.array(cos_sim_divergence_set)\n",
    "    \n",
    "    else:\n",
    "        raise Exception(\"Exception case caused\")\n",
    "        \n",
    "#k_meansの距離に定義を合わせる\n",
    "def new_cos_sim_distances(X, Y=None, Y_norm_squared=None, squared=False):\n",
    "    return middle_cos_sim_distances(X, Y)"
   ]
  },
  {
   "cell_type": "markdown",
   "metadata": {},
   "source": [
    "# 乱数の発生"
   ]
  },
  {
   "cell_type": "code",
   "execution_count": 11,
   "metadata": {},
   "outputs": [],
   "source": [
    "#乱数の生成\n",
    "np.random.seed(0)\n",
    "x1 = np.array([np.random.normal(loc, 1, 20) for loc in [2, 10, -2]]).flatten() #ランダムな80個の数を生成\n",
    "x2 = np.array([np.random.normal(loc, 1, 20) for loc in [0, 10, 0]]).flatten() #ランダムな80個の数を生成\n",
    "\n",
    "#入力データ\n",
    "X = np.c_[x1, x2]"
   ]
  },
  {
   "cell_type": "code",
   "execution_count": 12,
   "metadata": {},
   "outputs": [
    {
     "name": "stderr",
     "output_type": "stream",
     "text": [
      "No handles with labels found to put in legend.\n"
     ]
    },
    {
     "data": {
      "image/png": "[encoded data removed]",
      "text/plain": [
       "<Figure size 432x288 with 1 Axes>"
      ]
     },
     "metadata": {
      "needs_background": "light"
     },
     "output_type": "display_data"
    }
   ],
   "source": [
    "#散布図で表示\n",
    "plt.rcParams[\"font.family\"] = \"Hiragino Kaku Gothic Pro\"\n",
    "plt.scatter(x1, x2)\n",
    "plt.xlim(-10, 20)\n",
    "plt.ylim(-3, 15)\n",
    "plt.legend()\n",
    "plt.grid()\n",
    "plt.show()"
   ]
  },
  {
   "cell_type": "markdown",
   "metadata": {},
   "source": [
    "## コサイン類似度でk-meansを実行"
   ]
  },
  {
   "cell_type": "code",
   "execution_count": 13,
   "metadata": {
    "scrolled": false
   },
   "outputs": [
    {
     "data": {
      "image/png": "[encoded data removed]",
      "text/plain": [
       "<Figure size 432x288 with 1 Axes>"
      ]
     },
     "metadata": {
      "needs_background": "light"
     },
     "output_type": "display_data"
    }
   ],
   "source": [
    "#距離を上書き\n",
    "sklearn.cluster._kmeans.euclidean_distances = new_cos_sim_distances\n",
    "\n",
    "#エルボー法を用いてクラスタ数を決定する\n",
    "distortions_cos_sim = []\n",
    "\n",
    "for i  in range(2,11):                # 1~10クラスタまで一気に計算 \n",
    "    km_model_cos_sim = sklearn.cluster._kmeans.KMeans(    \n",
    "        n_clusters=i,\n",
    "        init='k-means++',     # k-means++法によりクラスタ中心を選択\n",
    "        n_init=10,\n",
    "        max_iter=300,\n",
    "        random_state=0)\n",
    "    y_km_cos_sim = km_model_cos_sim.fit(X)  # クラスタリングの計算を実行\n",
    "    \n",
    "    #郡内分散を計算してそれをエルボー法で実装\n",
    "    result_cos_sim = np.c_[X, y_km_cos_sim.labels_]\n",
    "    distortions_cos_sim.append(sum([sum([cos_sim_distances(col, y_km_cos_sim.cluster_centers_[j]) for col in result_cos_sim[result_cos_sim[:,2] == j][:, 0:2]]) for j in set(y_km_cos_sim.labels_)]))\n",
    "\n",
    "plt.plot(range(2,11),distortions_cos_sim,marker='o')\n",
    "plt.xlabel('Number of clusters')\n",
    "plt.ylabel('Distortion')\n",
    "plt.show()"
   ]
  },
  {
   "cell_type": "code",
   "execution_count": 14,
   "metadata": {},
   "outputs": [
    {
     "data": {
      "text/plain": [
       "[37.64713328407146,\n",
       " 3.099553266551365,\n",
       " 1.3755560663727202,\n",
       " 1.9724926541573757,\n",
       " 1.3256376985020082,\n",
       " 1.2266161285061927,\n",
       " 1.3264245226297238,\n",
       " 2.1755126560164277,\n",
       " 1.749032938124335]"
      ]
     },
     "execution_count": 14,
     "metadata": {},
     "output_type": "execute_result"
    }
   ],
   "source": [
    "distortions_cos_sim"
   ]
  },
  {
   "cell_type": "code",
   "execution_count": null,
   "metadata": {},
   "outputs": [],
   "source": []
  },
  {
   "cell_type": "code",
   "execution_count": 15,
   "metadata": {},
   "outputs": [
    {
     "ename": "NameError",
     "evalue": "name 'center_half_distances' is not defined",
     "output_type": "error",
     "traceback": [
      "\u001b[1;31m---------------------------------------------------------------------------\u001b[0m",
      "\u001b[1;31mNameError\u001b[0m                                 Traceback (most recent call last)",
      "\u001b[1;32m<ipython-input-15-f00602843913>\u001b[0m in \u001b[0;36m<module>\u001b[1;34m\u001b[0m\n\u001b[1;32m----> 1\u001b[1;33m \u001b[0mcenter_half_distances\u001b[0m\u001b[1;33m\u001b[0m\u001b[1;33m\u001b[0m\u001b[0m\n\u001b[0m",
      "\u001b[1;31mNameError\u001b[0m: name 'center_half_distances' is not defined"
     ]
    }
   ],
   "source": [
    "center_half_distances"
   ]
  },
  {
   "cell_type": "code",
   "execution_count": 23,
   "metadata": {},
   "outputs": [
    {
     "name": "stderr",
     "output_type": "stream",
     "text": [
      "No handles with labels found to put in legend.\n"
     ]
    },
    {
     "data": {
      "image/png": "[encoded data removed]",
      "text/plain": [
       "<Figure size 432x288 with 1 Axes>"
      ]
     },
     "metadata": {
      "needs_background": "light"
     },
     "output_type": "display_data"
    }
   ],
   "source": [
    "#kmeansを実装\n",
    "km_model_cos_sim = sklearn.cluster._kmeans.KMeans(\n",
    "    n_clusters = 6,\n",
    "    init = \"random\",\n",
    "    n_init = 10,\n",
    "    max_iter = 300,\n",
    "    tol = 1e-04,\n",
    "    random_state = 1,\n",
    "    )\n",
    "\n",
    "#モデルへのあてはめ\n",
    "y_km_cos_sim = km_model_cos_sim.fit(X)\n",
    "\n",
    "#結果をプロット\n",
    "plt.rcParams[\"font.family\"] = \"Hiragino Kaku Gothic Pro\"\n",
    "plt.scatter(x1, x2, c = y_km_cos_sim.labels_, s = 30)\n",
    "plt.xlim(-10, 20)\n",
    "plt.ylim(-3, 15)\n",
    "plt.title(\"k-means_cos_sim\")\n",
    "plt.legend()\n",
    "plt.grid()\n",
    "plt.show()"
   ]
  },
  {
   "cell_type": "code",
   "execution_count": 18,
   "metadata": {},
   "outputs": [
    {
     "data": {
      "text/plain": [
       "array([[10.05575035, 10.42120921],\n",
       "       [ 0.08712577,  0.07222969]])"
      ]
     },
     "execution_count": 18,
     "metadata": {},
     "output_type": "execute_result"
    }
   ],
   "source": [
    "y_km_cos_sim.cluster_centers_"
   ]
  },
  {
   "cell_type": "markdown",
   "metadata": {},
   "source": [
    "# テスト"
   ]
  },
  {
   "cell_type": "code",
   "execution_count": 55,
   "metadata": {
    "scrolled": true
   },
   "outputs": [
    {
     "data": {
      "text/plain": [
       "1770"
      ]
     },
     "execution_count": 55,
     "metadata": {},
     "output_type": "execute_result"
    }
   ],
   "source": [
    "from itertools import combinations \n",
    "len(list(combinations(range(0, len(X)), 2)))\n",
    "\n",
    "#cos_sim_distances\n"
   ]
  },
  {
   "cell_type": "code",
   "execution_count": 65,
   "metadata": {},
   "outputs": [],
   "source": [
    "def sub_cos_sim_distances(X, row_index_1, row_index_2):\n",
    "    cossim_distance = cos_sim_distances(X[row_index_1], X[row_index_2])\n",
    "    return (row_index_1, row_index_2, cossim_distance)\n",
    "\n",
    "def copy_inverse_index(row_col_data_tuple):\n",
    "    return (row_col_data_tuple[1], row_col_data_tuple[0], row_col_data_tuple[2])\n",
    "\n",
    "#コサイン類似度の非類似度化\n",
    "def cos_sim_distances(X, Y):\n",
    "    return 1-cos_sim(X, Y)"
   ]
  },
  {
   "cell_type": "code",
   "execution_count": 172,
   "metadata": {
    "scrolled": true
   },
   "outputs": [],
   "source": []
  },
  {
   "cell_type": "code",
   "execution_count": 210,
   "metadata": {},
   "outputs": [],
   "source": [
    "centers = np.empty((2, 2), dtype=X.dtype)"
   ]
  },
  {
   "cell_type": "code",
   "execution_count": 211,
   "metadata": {},
   "outputs": [],
   "source": [
    "row_combinations = list(combinations(range(0, len(centers)), 2))"
   ]
  },
  {
   "cell_type": "code",
   "execution_count": 192,
   "metadata": {},
   "outputs": [
    {
     "data": {
      "text/plain": [
       "[]"
      ]
     },
     "execution_count": 192,
     "metadata": {},
     "output_type": "execute_result"
    }
   ],
   "source": [
    "[sub_cos_sim_distances(centers, index_set_tuple[0], index_set_tuple[1]) for index_set_tuple in row_combinations]"
   ]
  },
  {
   "cell_type": "code",
   "execution_count": 212,
   "metadata": {},
   "outputs": [
    {
     "data": {
      "text/plain": [
       "[(0, 1)]"
      ]
     },
     "execution_count": 212,
     "metadata": {},
     "output_type": "execute_result"
    }
   ],
   "source": [
    "row_combinations"
   ]
  },
  {
   "cell_type": "code",
   "execution_count": 213,
   "metadata": {},
   "outputs": [
    {
     "name": "stderr",
     "output_type": "stream",
     "text": [
      "<ipython-input-159-2dfc6b325840>:3: RuntimeWarning: invalid value encountered in double_scalars\n",
      "  return np.dot(X, Y)/(np.linalg.norm(X)*np.linalg.norm(Y))\n"
     ]
    }
   ],
   "source": [
    "center_half_distances = new_cos_sim_distances(centers)/2"
   ]
  },
  {
   "cell_type": "code",
   "execution_count": 214,
   "metadata": {},
   "outputs": [
    {
     "data": {
      "text/plain": [
       "array([nan])"
      ]
     },
     "execution_count": 214,
     "metadata": {},
     "output_type": "execute_result"
    }
   ],
   "source": [
    "center_half_distances"
   ]
  },
  {
   "cell_type": "code",
   "execution_count": 215,
   "metadata": {},
   "outputs": [
    {
     "ename": "ValueError",
     "evalue": "kth(=1) out of bounds (1)",
     "output_type": "error",
     "traceback": [
      "\u001b[1;31m---------------------------------------------------------------------------\u001b[0m",
      "\u001b[1;31mValueError\u001b[0m                                Traceback (most recent call last)",
      "\u001b[1;32m<ipython-input-215-5de41ce4d5a7>\u001b[0m in \u001b[0;36m<module>\u001b[1;34m\u001b[0m\n\u001b[1;32m----> 1\u001b[1;33m distance_next_center = np.partition(\n\u001b[0m\u001b[0;32m      2\u001b[0m             np.asarray(center_half_distances), kth=1, axis=0)\n",
      "\u001b[1;32m<__array_function__ internals>\u001b[0m in \u001b[0;36mpartition\u001b[1;34m(*args, **kwargs)\u001b[0m\n",
      "\u001b[1;32mC:\\ProgramData\\Anaconda3\\lib\\site-packages\\numpy\\core\\fromnumeric.py\u001b[0m in \u001b[0;36mpartition\u001b[1;34m(a, kth, axis, kind, order)\u001b[0m\n\u001b[0;32m    746\u001b[0m     \u001b[1;32melse\u001b[0m\u001b[1;33m:\u001b[0m\u001b[1;33m\u001b[0m\u001b[1;33m\u001b[0m\u001b[0m\n\u001b[0;32m    747\u001b[0m         \u001b[0ma\u001b[0m \u001b[1;33m=\u001b[0m \u001b[0masanyarray\u001b[0m\u001b[1;33m(\u001b[0m\u001b[0ma\u001b[0m\u001b[1;33m)\u001b[0m\u001b[1;33m.\u001b[0m\u001b[0mcopy\u001b[0m\u001b[1;33m(\u001b[0m\u001b[0morder\u001b[0m\u001b[1;33m=\u001b[0m\u001b[1;34m\"K\"\u001b[0m\u001b[1;33m)\u001b[0m\u001b[1;33m\u001b[0m\u001b[1;33m\u001b[0m\u001b[0m\n\u001b[1;32m--> 748\u001b[1;33m     \u001b[0ma\u001b[0m\u001b[1;33m.\u001b[0m\u001b[0mpartition\u001b[0m\u001b[1;33m(\u001b[0m\u001b[0mkth\u001b[0m\u001b[1;33m,\u001b[0m \u001b[0maxis\u001b[0m\u001b[1;33m=\u001b[0m\u001b[0maxis\u001b[0m\u001b[1;33m,\u001b[0m \u001b[0mkind\u001b[0m\u001b[1;33m=\u001b[0m\u001b[0mkind\u001b[0m\u001b[1;33m,\u001b[0m \u001b[0morder\u001b[0m\u001b[1;33m=\u001b[0m\u001b[0morder\u001b[0m\u001b[1;33m)\u001b[0m\u001b[1;33m\u001b[0m\u001b[1;33m\u001b[0m\u001b[0m\n\u001b[0m\u001b[0;32m    749\u001b[0m     \u001b[1;32mreturn\u001b[0m \u001b[0ma\u001b[0m\u001b[1;33m\u001b[0m\u001b[1;33m\u001b[0m\u001b[0m\n\u001b[0;32m    750\u001b[0m \u001b[1;33m\u001b[0m\u001b[0m\n",
      "\u001b[1;31mValueError\u001b[0m: kth(=1) out of bounds (1)"
     ]
    }
   ],
   "source": [
    "distance_next_center = np.partition(\n",
    "            np.asarray(center_half_distances), kth=1, axis=0)\n"
   ]
  },
  {
   "cell_type": "code",
   "execution_count": 198,
   "metadata": {},
   "outputs": [
    {
     "data": {
      "text/plain": [
       "array([], dtype=float64)"
      ]
     },
     "execution_count": 198,
     "metadata": {},
     "output_type": "execute_result"
    }
   ],
   "source": [
    "distance_next_center"
   ]
  },
  {
   "cell_type": "code",
   "execution_count": 82,
   "metadata": {},
   "outputs": [],
   "source": [
    "import scipy\n",
    "def special_pearsonr(X, Y):\n",
    "    pearsonr_value = scipy.stats.pearsonr(X, Y)\n",
    "    if pearsonr_value[0] < 0:\n",
    "        return abs(pearsonr_value[0])\n",
    "    else:\n",
    "        return 1 - pearsonr_value[0]\n",
    "\n",
    "\n",
    "def sub_pearsonr(X, row_index_1, row_index_2):\n",
    "    pearsonr_distance = special_pearsonr(X[row_index_1], X[row_index_2])\n",
    "    return (row_index_1, row_index_2, pearsonr_distance)"
   ]
  },
  {
   "cell_type": "code",
   "execution_count": 85,
   "metadata": {},
   "outputs": [],
   "source": [
    "row_combinations = list(combinations(range(0, len(X)), 2))\n",
    "pearsonr_set = [sub_pearsonr(X, index_set_tuple[0], index_set_tuple[1]) for index_set_tuple in row_combinations]\n",
    "matrix_source_data = pearsonr_set + list(map(copy_inverse_index, pearsonr_set))\n",
    "\n",
    "row = [t[0] for t in matrix_source_data]\n",
    "col = [t[1] for t in matrix_source_data]\n",
    "data = [t[2] for t in matrix_source_data]\n",
    "\n",
    "#pearsonr_matrix = special_pearsonr((data, (row, col)), (X.shape[0], X.shape[0]))"
   ]
  },
  {
   "cell_type": "code",
   "execution_count": 94,
   "metadata": {},
   "outputs": [
    {
     "data": {
      "text/plain": [
       "0"
      ]
     },
     "execution_count": 94,
     "metadata": {},
     "output_type": "execute_result"
    }
   ],
   "source": [
    "matrix_source_data[0][0]"
   ]
  },
  {
   "cell_type": "code",
   "execution_count": 111,
   "metadata": {},
   "outputs": [],
   "source": [
    "tmp1 = np.array([1,2])\n",
    "tmp2 = np.array([[1,2],[-1,-2]])\n",
    "cos_sim_set = np.array([cos_sim_distances(tmp1, tmp2[y_sample_index]) for y_sample_index in range(0, tmp2.shape[0])])"
   ]
  },
  {
   "cell_type": "code",
   "execution_count": 114,
   "metadata": {},
   "outputs": [],
   "source": [
    "Y = X+[1,1]"
   ]
  },
  {
   "cell_type": "code",
   "execution_count": 116,
   "metadata": {},
   "outputs": [
    {
     "data": {
      "text/plain": [
       "array([[-1., -1.],\n",
       "       [-1., -1.],\n",
       "       [-1., -1.],\n",
       "       [-1., -1.],\n",
       "       [-1., -1.],\n",
       "       [-1., -1.],\n",
       "       [-1., -1.],\n",
       "       [-1., -1.],\n",
       "       [-1., -1.],\n",
       "       [-1., -1.],\n",
       "       [-1., -1.],\n",
       "       [-1., -1.],\n",
       "       [-1., -1.],\n",
       "       [-1., -1.],\n",
       "       [-1., -1.],\n",
       "       [-1., -1.],\n",
       "       [-1., -1.],\n",
       "       [-1., -1.],\n",
       "       [-1., -1.],\n",
       "       [-1., -1.],\n",
       "       [-1., -1.],\n",
       "       [-1., -1.],\n",
       "       [-1., -1.],\n",
       "       [-1., -1.],\n",
       "       [-1., -1.],\n",
       "       [-1., -1.],\n",
       "       [-1., -1.],\n",
       "       [-1., -1.],\n",
       "       [-1., -1.],\n",
       "       [-1., -1.],\n",
       "       [-1., -1.],\n",
       "       [-1., -1.],\n",
       "       [-1., -1.],\n",
       "       [-1., -1.],\n",
       "       [-1., -1.],\n",
       "       [-1., -1.],\n",
       "       [-1., -1.],\n",
       "       [-1., -1.],\n",
       "       [-1., -1.],\n",
       "       [-1., -1.],\n",
       "       [-1., -1.],\n",
       "       [-1., -1.],\n",
       "       [-1., -1.],\n",
       "       [-1., -1.],\n",
       "       [-1., -1.],\n",
       "       [-1., -1.],\n",
       "       [-1., -1.],\n",
       "       [-1., -1.],\n",
       "       [-1., -1.],\n",
       "       [-1., -1.],\n",
       "       [-1., -1.],\n",
       "       [-1., -1.],\n",
       "       [-1., -1.],\n",
       "       [-1., -1.],\n",
       "       [-1., -1.],\n",
       "       [-1., -1.],\n",
       "       [-1., -1.],\n",
       "       [-1., -1.],\n",
       "       [-1., -1.],\n",
       "       [-1., -1.]])"
      ]
     },
     "execution_count": 116,
     "metadata": {},
     "output_type": "execute_result"
    }
   ],
   "source": [
    "X-Y"
   ]
  },
  {
   "cell_type": "code",
   "execution_count": 118,
   "metadata": {},
   "outputs": [],
   "source": [
    "cos_sim_x_and_all_y = lambda XX, YY: np.array([cos_sim_distances(XX, YY[y_sample_index]) for y_sample_index in range(0, YY.shape[0])])\n",
    "cos_sim_divergence_set = np.array([cos_sim_x_and_all_y(X[x_i], Y) for x_i in range(0, X.shape[0])])  "
   ]
  },
  {
   "cell_type": "code",
   "execution_count": 216,
   "metadata": {},
   "outputs": [],
   "source": [
    "a = np.asarray([1])"
   ]
  },
  {
   "cell_type": "code",
   "execution_count": 217,
   "metadata": {},
   "outputs": [
    {
     "data": {
      "text/plain": [
       "array([1])"
      ]
     },
     "execution_count": 217,
     "metadata": {},
     "output_type": "execute_result"
    }
   ],
   "source": [
    "a"
   ]
  },
  {
   "cell_type": "code",
   "execution_count": 218,
   "metadata": {},
   "outputs": [
    {
     "ename": "ValueError",
     "evalue": "kth(=1) out of bounds (1)",
     "output_type": "error",
     "traceback": [
      "\u001b[1;31m---------------------------------------------------------------------------\u001b[0m",
      "\u001b[1;31mValueError\u001b[0m                                Traceback (most recent call last)",
      "\u001b[1;32m<ipython-input-218-1765a5cb6569>\u001b[0m in \u001b[0;36m<module>\u001b[1;34m\u001b[0m\n\u001b[1;32m----> 1\u001b[1;33m \u001b[0mnp\u001b[0m\u001b[1;33m.\u001b[0m\u001b[0mpartition\u001b[0m\u001b[1;33m(\u001b[0m\u001b[0ma\u001b[0m\u001b[1;33m,\u001b[0m \u001b[0mkth\u001b[0m\u001b[1;33m=\u001b[0m\u001b[1;36m1\u001b[0m\u001b[1;33m)\u001b[0m\u001b[1;33m\u001b[0m\u001b[1;33m\u001b[0m\u001b[0m\n\u001b[0m",
      "\u001b[1;32m<__array_function__ internals>\u001b[0m in \u001b[0;36mpartition\u001b[1;34m(*args, **kwargs)\u001b[0m\n",
      "\u001b[1;32mC:\\ProgramData\\Anaconda3\\lib\\site-packages\\numpy\\core\\fromnumeric.py\u001b[0m in \u001b[0;36mpartition\u001b[1;34m(a, kth, axis, kind, order)\u001b[0m\n\u001b[0;32m    746\u001b[0m     \u001b[1;32melse\u001b[0m\u001b[1;33m:\u001b[0m\u001b[1;33m\u001b[0m\u001b[1;33m\u001b[0m\u001b[0m\n\u001b[0;32m    747\u001b[0m         \u001b[0ma\u001b[0m \u001b[1;33m=\u001b[0m \u001b[0masanyarray\u001b[0m\u001b[1;33m(\u001b[0m\u001b[0ma\u001b[0m\u001b[1;33m)\u001b[0m\u001b[1;33m.\u001b[0m\u001b[0mcopy\u001b[0m\u001b[1;33m(\u001b[0m\u001b[0morder\u001b[0m\u001b[1;33m=\u001b[0m\u001b[1;34m\"K\"\u001b[0m\u001b[1;33m)\u001b[0m\u001b[1;33m\u001b[0m\u001b[1;33m\u001b[0m\u001b[0m\n\u001b[1;32m--> 748\u001b[1;33m     \u001b[0ma\u001b[0m\u001b[1;33m.\u001b[0m\u001b[0mpartition\u001b[0m\u001b[1;33m(\u001b[0m\u001b[0mkth\u001b[0m\u001b[1;33m,\u001b[0m \u001b[0maxis\u001b[0m\u001b[1;33m=\u001b[0m\u001b[0maxis\u001b[0m\u001b[1;33m,\u001b[0m \u001b[0mkind\u001b[0m\u001b[1;33m=\u001b[0m\u001b[0mkind\u001b[0m\u001b[1;33m,\u001b[0m \u001b[0morder\u001b[0m\u001b[1;33m=\u001b[0m\u001b[0morder\u001b[0m\u001b[1;33m)\u001b[0m\u001b[1;33m\u001b[0m\u001b[1;33m\u001b[0m\u001b[0m\n\u001b[0m\u001b[0;32m    749\u001b[0m     \u001b[1;32mreturn\u001b[0m \u001b[0ma\u001b[0m\u001b[1;33m\u001b[0m\u001b[1;33m\u001b[0m\u001b[0m\n\u001b[0;32m    750\u001b[0m \u001b[1;33m\u001b[0m\u001b[0m\n",
      "\u001b[1;31mValueError\u001b[0m: kth(=1) out of bounds (1)"
     ]
    }
   ],
   "source": [
    "np.partition(a, kth=1)"
   ]
  },
  {
   "cell_type": "code",
   "execution_count": 222,
   "metadata": {},
   "outputs": [],
   "source": [
    "n_clusters = 3\n",
    "n_samples, n_features = X.shape\n",
    "centers = np.empty((n_clusters, n_features), dtype=X.dtype)"
   ]
  },
  {
   "cell_type": "code",
   "execution_count": 234,
   "metadata": {},
   "outputs": [
    {
     "data": {
      "text/plain": [
       "array([-3.,  0.])"
      ]
     },
     "execution_count": 234,
     "metadata": {},
     "output_type": "execute_result"
    }
   ],
   "source": [
    "centers[1]"
   ]
  },
  {
   "cell_type": "code",
   "execution_count": 226,
   "metadata": {},
   "outputs": [],
   "source": [
    "import scipy.sparse as sp"
   ]
  },
  {
   "cell_type": "code",
   "execution_count": 227,
   "metadata": {},
   "outputs": [
    {
     "data": {
      "text/plain": [
       "False"
      ]
     },
     "execution_count": 227,
     "metadata": {},
     "output_type": "execute_result"
    }
   ],
   "source": [
    "sp.issparse(X)"
   ]
  },
  {
   "cell_type": "code",
   "execution_count": 235,
   "metadata": {},
   "outputs": [
    {
     "data": {
      "text/plain": [
       "[1, 2]"
      ]
     },
     "execution_count": 235,
     "metadata": {},
     "output_type": "execute_result"
    }
   ],
   "source": [
    "list(range(1, n_clusters))"
   ]
  },
  {
   "cell_type": "code",
   "execution_count": 237,
   "metadata": {},
   "outputs": [],
   "source": [
    "center_half_distances = new_cos_sim_distances(centers) / 2"
   ]
  },
  {
   "cell_type": "code",
   "execution_count": 238,
   "metadata": {},
   "outputs": [
    {
     "data": {
      "text/plain": [
       "array([0.        , 0.14644661, 0.14644661])"
      ]
     },
     "execution_count": 238,
     "metadata": {},
     "output_type": "execute_result"
    }
   ],
   "source": [
    "center_half_distances"
   ]
  },
  {
   "cell_type": "code",
   "execution_count": 239,
   "metadata": {},
   "outputs": [],
   "source": [
    "distance_next_center = np.partition(np.asarray(center_half_distances),kth=1, axis=0)[1]"
   ]
  },
  {
   "cell_type": "code",
   "execution_count": 348,
   "metadata": {},
   "outputs": [],
   "source": [
    "from sklearn.metrics.pairwise import euclidean_distances\n",
    "euclidean_distances = new_cos_sim_distances"
   ]
  },
  {
   "cell_type": "code",
   "execution_count": 351,
   "metadata": {},
   "outputs": [],
   "source": [
    "TMP1 = np.array([[0,1],[1,0]])"
   ]
  },
  {
   "cell_type": "code",
   "execution_count": 352,
   "metadata": {},
   "outputs": [
    {
     "data": {
      "text/plain": [
       "array([[0., 1.],\n",
       "       [1., 0.]])"
      ]
     },
     "execution_count": 352,
     "metadata": {},
     "output_type": "execute_result"
    }
   ],
   "source": [
    "euclidean_distances(TMP1)"
   ]
  },
  {
   "cell_type": "code",
   "execution_count": 276,
   "metadata": {},
   "outputs": [],
   "source": [
    "TMP2 = [[0,1],[1,1]]"
   ]
  },
  {
   "cell_type": "code",
   "execution_count": 347,
   "metadata": {},
   "outputs": [
    {
     "data": {
      "text/plain": [
       "array([[0., 1.],\n",
       "       [1., 0.]])"
      ]
     },
     "execution_count": 347,
     "metadata": {},
     "output_type": "execute_result"
    }
   ],
   "source": [
    "euclidean_distances(TMP2)"
   ]
  },
  {
   "cell_type": "code",
   "execution_count": 354,
   "metadata": {},
   "outputs": [
    {
     "ename": "AttributeError",
     "evalue": "'numpy.ndarray' object has no attribute 'type'",
     "output_type": "error",
     "traceback": [
      "\u001b[1;31m---------------------------------------------------------------------------\u001b[0m",
      "\u001b[1;31mAttributeError\u001b[0m                            Traceback (most recent call last)",
      "\u001b[1;32m<ipython-input-354-cab5814e60f8>\u001b[0m in \u001b[0;36m<module>\u001b[1;34m\u001b[0m\n\u001b[1;32m----> 1\u001b[1;33m \u001b[0mX\u001b[0m\u001b[1;33m.\u001b[0m\u001b[0mtype\u001b[0m\u001b[1;33m(\u001b[0m\u001b[1;33m)\u001b[0m\u001b[1;33m\u001b[0m\u001b[1;33m\u001b[0m\u001b[0m\n\u001b[0m",
      "\u001b[1;31mAttributeError\u001b[0m: 'numpy.ndarray' object has no attribute 'type'"
     ]
    }
   ],
   "source": []
  },
  {
   "cell_type": "code",
   "execution_count": 264,
   "metadata": {},
   "outputs": [
    {
     "data": {
      "text/plain": [
       "True"
      ]
     },
     "execution_count": 264,
     "metadata": {},
     "output_type": "execute_result"
    }
   ],
   "source": [
    "a is b"
   ]
  },
  {
   "cell_type": "code",
   "execution_count": 265,
   "metadata": {},
   "outputs": [
    {
     "data": {
      "text/plain": [
       "False"
      ]
     },
     "execution_count": 265,
     "metadata": {},
     "output_type": "execute_result"
    }
   ],
   "source": [
    "X is Y"
   ]
  },
  {
   "cell_type": "code",
   "execution_count": 273,
   "metadata": {},
   "outputs": [
    {
     "name": "stdout",
     "output_type": "stream",
     "text": [
      "2\n"
     ]
    }
   ],
   "source": [
    "a=1\n",
    "b=2\n",
    "c=3\n",
    "print(a if c==1 else b)"
   ]
  },
  {
   "cell_type": "code",
   "execution_count": 280,
   "metadata": {},
   "outputs": [],
   "source": [
    "#Xだけが入力されていて、Xが2d-arrayの場合\n",
    "row_combinations = list(combinations(range(0, len(X)), 2))\n",
    "#cos_sim_set = [sub_cos_sim_distances(X, index_set_tuple[0], index_set_tuple[1]) for index_set_tuple in row_combinations]"
   ]
  },
  {
   "cell_type": "code",
   "execution_count": 281,
   "metadata": {},
   "outputs": [
    {
     "data": {
      "text/plain": [
       "[(0, 1),\n",
       " (0, 2),\n",
       " (0, 3),\n",
       " (0, 4),\n",
       " (0, 5),\n",
       " (0, 6),\n",
       " (0, 7),\n",
       " (0, 8),\n",
       " (0, 9),\n",
       " (0, 10),\n",
       " (0, 11),\n",
       " (0, 12),\n",
       " (0, 13),\n",
       " (0, 14),\n",
       " (0, 15),\n",
       " (0, 16),\n",
       " (0, 17),\n",
       " (0, 18),\n",
       " (0, 19),\n",
       " (0, 20),\n",
       " (0, 21),\n",
       " (0, 22),\n",
       " (0, 23),\n",
       " (0, 24),\n",
       " (0, 25),\n",
       " (0, 26),\n",
       " (0, 27),\n",
       " (0, 28),\n",
       " (0, 29),\n",
       " (0, 30),\n",
       " (0, 31),\n",
       " (0, 32),\n",
       " (0, 33),\n",
       " (0, 34),\n",
       " (0, 35),\n",
       " (0, 36),\n",
       " (0, 37),\n",
       " (0, 38),\n",
       " (0, 39),\n",
       " (0, 40),\n",
       " (0, 41),\n",
       " (0, 42),\n",
       " (0, 43),\n",
       " (0, 44),\n",
       " (0, 45),\n",
       " (0, 46),\n",
       " (0, 47),\n",
       " (0, 48),\n",
       " (0, 49),\n",
       " (0, 50),\n",
       " (0, 51),\n",
       " (0, 52),\n",
       " (0, 53),\n",
       " (0, 54),\n",
       " (0, 55),\n",
       " (0, 56),\n",
       " (0, 57),\n",
       " (0, 58),\n",
       " (0, 59),\n",
       " (1, 2),\n",
       " (1, 3),\n",
       " (1, 4),\n",
       " (1, 5),\n",
       " (1, 6),\n",
       " (1, 7),\n",
       " (1, 8),\n",
       " (1, 9),\n",
       " (1, 10),\n",
       " (1, 11),\n",
       " (1, 12),\n",
       " (1, 13),\n",
       " (1, 14),\n",
       " (1, 15),\n",
       " (1, 16),\n",
       " (1, 17),\n",
       " (1, 18),\n",
       " (1, 19),\n",
       " (1, 20),\n",
       " (1, 21),\n",
       " (1, 22),\n",
       " (1, 23),\n",
       " (1, 24),\n",
       " (1, 25),\n",
       " (1, 26),\n",
       " (1, 27),\n",
       " (1, 28),\n",
       " (1, 29),\n",
       " (1, 30),\n",
       " (1, 31),\n",
       " (1, 32),\n",
       " (1, 33),\n",
       " (1, 34),\n",
       " (1, 35),\n",
       " (1, 36),\n",
       " (1, 37),\n",
       " (1, 38),\n",
       " (1, 39),\n",
       " (1, 40),\n",
       " (1, 41),\n",
       " (1, 42),\n",
       " (1, 43),\n",
       " (1, 44),\n",
       " (1, 45),\n",
       " (1, 46),\n",
       " (1, 47),\n",
       " (1, 48),\n",
       " (1, 49),\n",
       " (1, 50),\n",
       " (1, 51),\n",
       " (1, 52),\n",
       " (1, 53),\n",
       " (1, 54),\n",
       " (1, 55),\n",
       " (1, 56),\n",
       " (1, 57),\n",
       " (1, 58),\n",
       " (1, 59),\n",
       " (2, 3),\n",
       " (2, 4),\n",
       " (2, 5),\n",
       " (2, 6),\n",
       " (2, 7),\n",
       " (2, 8),\n",
       " (2, 9),\n",
       " (2, 10),\n",
       " (2, 11),\n",
       " (2, 12),\n",
       " (2, 13),\n",
       " (2, 14),\n",
       " (2, 15),\n",
       " (2, 16),\n",
       " (2, 17),\n",
       " (2, 18),\n",
       " (2, 19),\n",
       " (2, 20),\n",
       " (2, 21),\n",
       " (2, 22),\n",
       " (2, 23),\n",
       " (2, 24),\n",
       " (2, 25),\n",
       " (2, 26),\n",
       " (2, 27),\n",
       " (2, 28),\n",
       " (2, 29),\n",
       " (2, 30),\n",
       " (2, 31),\n",
       " (2, 32),\n",
       " (2, 33),\n",
       " (2, 34),\n",
       " (2, 35),\n",
       " (2, 36),\n",
       " (2, 37),\n",
       " (2, 38),\n",
       " (2, 39),\n",
       " (2, 40),\n",
       " (2, 41),\n",
       " (2, 42),\n",
       " (2, 43),\n",
       " (2, 44),\n",
       " (2, 45),\n",
       " (2, 46),\n",
       " (2, 47),\n",
       " (2, 48),\n",
       " (2, 49),\n",
       " (2, 50),\n",
       " (2, 51),\n",
       " (2, 52),\n",
       " (2, 53),\n",
       " (2, 54),\n",
       " (2, 55),\n",
       " (2, 56),\n",
       " (2, 57),\n",
       " (2, 58),\n",
       " (2, 59),\n",
       " (3, 4),\n",
       " (3, 5),\n",
       " (3, 6),\n",
       " (3, 7),\n",
       " (3, 8),\n",
       " (3, 9),\n",
       " (3, 10),\n",
       " (3, 11),\n",
       " (3, 12),\n",
       " (3, 13),\n",
       " (3, 14),\n",
       " (3, 15),\n",
       " (3, 16),\n",
       " (3, 17),\n",
       " (3, 18),\n",
       " (3, 19),\n",
       " (3, 20),\n",
       " (3, 21),\n",
       " (3, 22),\n",
       " (3, 23),\n",
       " (3, 24),\n",
       " (3, 25),\n",
       " (3, 26),\n",
       " (3, 27),\n",
       " (3, 28),\n",
       " (3, 29),\n",
       " (3, 30),\n",
       " (3, 31),\n",
       " (3, 32),\n",
       " (3, 33),\n",
       " (3, 34),\n",
       " (3, 35),\n",
       " (3, 36),\n",
       " (3, 37),\n",
       " (3, 38),\n",
       " (3, 39),\n",
       " (3, 40),\n",
       " (3, 41),\n",
       " (3, 42),\n",
       " (3, 43),\n",
       " (3, 44),\n",
       " (3, 45),\n",
       " (3, 46),\n",
       " (3, 47),\n",
       " (3, 48),\n",
       " (3, 49),\n",
       " (3, 50),\n",
       " (3, 51),\n",
       " (3, 52),\n",
       " (3, 53),\n",
       " (3, 54),\n",
       " (3, 55),\n",
       " (3, 56),\n",
       " (3, 57),\n",
       " (3, 58),\n",
       " (3, 59),\n",
       " (4, 5),\n",
       " (4, 6),\n",
       " (4, 7),\n",
       " (4, 8),\n",
       " (4, 9),\n",
       " (4, 10),\n",
       " (4, 11),\n",
       " (4, 12),\n",
       " (4, 13),\n",
       " (4, 14),\n",
       " (4, 15),\n",
       " (4, 16),\n",
       " (4, 17),\n",
       " (4, 18),\n",
       " (4, 19),\n",
       " (4, 20),\n",
       " (4, 21),\n",
       " (4, 22),\n",
       " (4, 23),\n",
       " (4, 24),\n",
       " (4, 25),\n",
       " (4, 26),\n",
       " (4, 27),\n",
       " (4, 28),\n",
       " (4, 29),\n",
       " (4, 30),\n",
       " (4, 31),\n",
       " (4, 32),\n",
       " (4, 33),\n",
       " (4, 34),\n",
       " (4, 35),\n",
       " (4, 36),\n",
       " (4, 37),\n",
       " (4, 38),\n",
       " (4, 39),\n",
       " (4, 40),\n",
       " (4, 41),\n",
       " (4, 42),\n",
       " (4, 43),\n",
       " (4, 44),\n",
       " (4, 45),\n",
       " (4, 46),\n",
       " (4, 47),\n",
       " (4, 48),\n",
       " (4, 49),\n",
       " (4, 50),\n",
       " (4, 51),\n",
       " (4, 52),\n",
       " (4, 53),\n",
       " (4, 54),\n",
       " (4, 55),\n",
       " (4, 56),\n",
       " (4, 57),\n",
       " (4, 58),\n",
       " (4, 59),\n",
       " (5, 6),\n",
       " (5, 7),\n",
       " (5, 8),\n",
       " (5, 9),\n",
       " (5, 10),\n",
       " (5, 11),\n",
       " (5, 12),\n",
       " (5, 13),\n",
       " (5, 14),\n",
       " (5, 15),\n",
       " (5, 16),\n",
       " (5, 17),\n",
       " (5, 18),\n",
       " (5, 19),\n",
       " (5, 20),\n",
       " (5, 21),\n",
       " (5, 22),\n",
       " (5, 23),\n",
       " (5, 24),\n",
       " (5, 25),\n",
       " (5, 26),\n",
       " (5, 27),\n",
       " (5, 28),\n",
       " (5, 29),\n",
       " (5, 30),\n",
       " (5, 31),\n",
       " (5, 32),\n",
       " (5, 33),\n",
       " (5, 34),\n",
       " (5, 35),\n",
       " (5, 36),\n",
       " (5, 37),\n",
       " (5, 38),\n",
       " (5, 39),\n",
       " (5, 40),\n",
       " (5, 41),\n",
       " (5, 42),\n",
       " (5, 43),\n",
       " (5, 44),\n",
       " (5, 45),\n",
       " (5, 46),\n",
       " (5, 47),\n",
       " (5, 48),\n",
       " (5, 49),\n",
       " (5, 50),\n",
       " (5, 51),\n",
       " (5, 52),\n",
       " (5, 53),\n",
       " (5, 54),\n",
       " (5, 55),\n",
       " (5, 56),\n",
       " (5, 57),\n",
       " (5, 58),\n",
       " (5, 59),\n",
       " (6, 7),\n",
       " (6, 8),\n",
       " (6, 9),\n",
       " (6, 10),\n",
       " (6, 11),\n",
       " (6, 12),\n",
       " (6, 13),\n",
       " (6, 14),\n",
       " (6, 15),\n",
       " (6, 16),\n",
       " (6, 17),\n",
       " (6, 18),\n",
       " (6, 19),\n",
       " (6, 20),\n",
       " (6, 21),\n",
       " (6, 22),\n",
       " (6, 23),\n",
       " (6, 24),\n",
       " (6, 25),\n",
       " (6, 26),\n",
       " (6, 27),\n",
       " (6, 28),\n",
       " (6, 29),\n",
       " (6, 30),\n",
       " (6, 31),\n",
       " (6, 32),\n",
       " (6, 33),\n",
       " (6, 34),\n",
       " (6, 35),\n",
       " (6, 36),\n",
       " (6, 37),\n",
       " (6, 38),\n",
       " (6, 39),\n",
       " (6, 40),\n",
       " (6, 41),\n",
       " (6, 42),\n",
       " (6, 43),\n",
       " (6, 44),\n",
       " (6, 45),\n",
       " (6, 46),\n",
       " (6, 47),\n",
       " (6, 48),\n",
       " (6, 49),\n",
       " (6, 50),\n",
       " (6, 51),\n",
       " (6, 52),\n",
       " (6, 53),\n",
       " (6, 54),\n",
       " (6, 55),\n",
       " (6, 56),\n",
       " (6, 57),\n",
       " (6, 58),\n",
       " (6, 59),\n",
       " (7, 8),\n",
       " (7, 9),\n",
       " (7, 10),\n",
       " (7, 11),\n",
       " (7, 12),\n",
       " (7, 13),\n",
       " (7, 14),\n",
       " (7, 15),\n",
       " (7, 16),\n",
       " (7, 17),\n",
       " (7, 18),\n",
       " (7, 19),\n",
       " (7, 20),\n",
       " (7, 21),\n",
       " (7, 22),\n",
       " (7, 23),\n",
       " (7, 24),\n",
       " (7, 25),\n",
       " (7, 26),\n",
       " (7, 27),\n",
       " (7, 28),\n",
       " (7, 29),\n",
       " (7, 30),\n",
       " (7, 31),\n",
       " (7, 32),\n",
       " (7, 33),\n",
       " (7, 34),\n",
       " (7, 35),\n",
       " (7, 36),\n",
       " (7, 37),\n",
       " (7, 38),\n",
       " (7, 39),\n",
       " (7, 40),\n",
       " (7, 41),\n",
       " (7, 42),\n",
       " (7, 43),\n",
       " (7, 44),\n",
       " (7, 45),\n",
       " (7, 46),\n",
       " (7, 47),\n",
       " (7, 48),\n",
       " (7, 49),\n",
       " (7, 50),\n",
       " (7, 51),\n",
       " (7, 52),\n",
       " (7, 53),\n",
       " (7, 54),\n",
       " (7, 55),\n",
       " (7, 56),\n",
       " (7, 57),\n",
       " (7, 58),\n",
       " (7, 59),\n",
       " (8, 9),\n",
       " (8, 10),\n",
       " (8, 11),\n",
       " (8, 12),\n",
       " (8, 13),\n",
       " (8, 14),\n",
       " (8, 15),\n",
       " (8, 16),\n",
       " (8, 17),\n",
       " (8, 18),\n",
       " (8, 19),\n",
       " (8, 20),\n",
       " (8, 21),\n",
       " (8, 22),\n",
       " (8, 23),\n",
       " (8, 24),\n",
       " (8, 25),\n",
       " (8, 26),\n",
       " (8, 27),\n",
       " (8, 28),\n",
       " (8, 29),\n",
       " (8, 30),\n",
       " (8, 31),\n",
       " (8, 32),\n",
       " (8, 33),\n",
       " (8, 34),\n",
       " (8, 35),\n",
       " (8, 36),\n",
       " (8, 37),\n",
       " (8, 38),\n",
       " (8, 39),\n",
       " (8, 40),\n",
       " (8, 41),\n",
       " (8, 42),\n",
       " (8, 43),\n",
       " (8, 44),\n",
       " (8, 45),\n",
       " (8, 46),\n",
       " (8, 47),\n",
       " (8, 48),\n",
       " (8, 49),\n",
       " (8, 50),\n",
       " (8, 51),\n",
       " (8, 52),\n",
       " (8, 53),\n",
       " (8, 54),\n",
       " (8, 55),\n",
       " (8, 56),\n",
       " (8, 57),\n",
       " (8, 58),\n",
       " (8, 59),\n",
       " (9, 10),\n",
       " (9, 11),\n",
       " (9, 12),\n",
       " (9, 13),\n",
       " (9, 14),\n",
       " (9, 15),\n",
       " (9, 16),\n",
       " (9, 17),\n",
       " (9, 18),\n",
       " (9, 19),\n",
       " (9, 20),\n",
       " (9, 21),\n",
       " (9, 22),\n",
       " (9, 23),\n",
       " (9, 24),\n",
       " (9, 25),\n",
       " (9, 26),\n",
       " (9, 27),\n",
       " (9, 28),\n",
       " (9, 29),\n",
       " (9, 30),\n",
       " (9, 31),\n",
       " (9, 32),\n",
       " (9, 33),\n",
       " (9, 34),\n",
       " (9, 35),\n",
       " (9, 36),\n",
       " (9, 37),\n",
       " (9, 38),\n",
       " (9, 39),\n",
       " (9, 40),\n",
       " (9, 41),\n",
       " (9, 42),\n",
       " (9, 43),\n",
       " (9, 44),\n",
       " (9, 45),\n",
       " (9, 46),\n",
       " (9, 47),\n",
       " (9, 48),\n",
       " (9, 49),\n",
       " (9, 50),\n",
       " (9, 51),\n",
       " (9, 52),\n",
       " (9, 53),\n",
       " (9, 54),\n",
       " (9, 55),\n",
       " (9, 56),\n",
       " (9, 57),\n",
       " (9, 58),\n",
       " (9, 59),\n",
       " (10, 11),\n",
       " (10, 12),\n",
       " (10, 13),\n",
       " (10, 14),\n",
       " (10, 15),\n",
       " (10, 16),\n",
       " (10, 17),\n",
       " (10, 18),\n",
       " (10, 19),\n",
       " (10, 20),\n",
       " (10, 21),\n",
       " (10, 22),\n",
       " (10, 23),\n",
       " (10, 24),\n",
       " (10, 25),\n",
       " (10, 26),\n",
       " (10, 27),\n",
       " (10, 28),\n",
       " (10, 29),\n",
       " (10, 30),\n",
       " (10, 31),\n",
       " (10, 32),\n",
       " (10, 33),\n",
       " (10, 34),\n",
       " (10, 35),\n",
       " (10, 36),\n",
       " (10, 37),\n",
       " (10, 38),\n",
       " (10, 39),\n",
       " (10, 40),\n",
       " (10, 41),\n",
       " (10, 42),\n",
       " (10, 43),\n",
       " (10, 44),\n",
       " (10, 45),\n",
       " (10, 46),\n",
       " (10, 47),\n",
       " (10, 48),\n",
       " (10, 49),\n",
       " (10, 50),\n",
       " (10, 51),\n",
       " (10, 52),\n",
       " (10, 53),\n",
       " (10, 54),\n",
       " (10, 55),\n",
       " (10, 56),\n",
       " (10, 57),\n",
       " (10, 58),\n",
       " (10, 59),\n",
       " (11, 12),\n",
       " (11, 13),\n",
       " (11, 14),\n",
       " (11, 15),\n",
       " (11, 16),\n",
       " (11, 17),\n",
       " (11, 18),\n",
       " (11, 19),\n",
       " (11, 20),\n",
       " (11, 21),\n",
       " (11, 22),\n",
       " (11, 23),\n",
       " (11, 24),\n",
       " (11, 25),\n",
       " (11, 26),\n",
       " (11, 27),\n",
       " (11, 28),\n",
       " (11, 29),\n",
       " (11, 30),\n",
       " (11, 31),\n",
       " (11, 32),\n",
       " (11, 33),\n",
       " (11, 34),\n",
       " (11, 35),\n",
       " (11, 36),\n",
       " (11, 37),\n",
       " (11, 38),\n",
       " (11, 39),\n",
       " (11, 40),\n",
       " (11, 41),\n",
       " (11, 42),\n",
       " (11, 43),\n",
       " (11, 44),\n",
       " (11, 45),\n",
       " (11, 46),\n",
       " (11, 47),\n",
       " (11, 48),\n",
       " (11, 49),\n",
       " (11, 50),\n",
       " (11, 51),\n",
       " (11, 52),\n",
       " (11, 53),\n",
       " (11, 54),\n",
       " (11, 55),\n",
       " (11, 56),\n",
       " (11, 57),\n",
       " (11, 58),\n",
       " (11, 59),\n",
       " (12, 13),\n",
       " (12, 14),\n",
       " (12, 15),\n",
       " (12, 16),\n",
       " (12, 17),\n",
       " (12, 18),\n",
       " (12, 19),\n",
       " (12, 20),\n",
       " (12, 21),\n",
       " (12, 22),\n",
       " (12, 23),\n",
       " (12, 24),\n",
       " (12, 25),\n",
       " (12, 26),\n",
       " (12, 27),\n",
       " (12, 28),\n",
       " (12, 29),\n",
       " (12, 30),\n",
       " (12, 31),\n",
       " (12, 32),\n",
       " (12, 33),\n",
       " (12, 34),\n",
       " (12, 35),\n",
       " (12, 36),\n",
       " (12, 37),\n",
       " (12, 38),\n",
       " (12, 39),\n",
       " (12, 40),\n",
       " (12, 41),\n",
       " (12, 42),\n",
       " (12, 43),\n",
       " (12, 44),\n",
       " (12, 45),\n",
       " (12, 46),\n",
       " (12, 47),\n",
       " (12, 48),\n",
       " (12, 49),\n",
       " (12, 50),\n",
       " (12, 51),\n",
       " (12, 52),\n",
       " (12, 53),\n",
       " (12, 54),\n",
       " (12, 55),\n",
       " (12, 56),\n",
       " (12, 57),\n",
       " (12, 58),\n",
       " (12, 59),\n",
       " (13, 14),\n",
       " (13, 15),\n",
       " (13, 16),\n",
       " (13, 17),\n",
       " (13, 18),\n",
       " (13, 19),\n",
       " (13, 20),\n",
       " (13, 21),\n",
       " (13, 22),\n",
       " (13, 23),\n",
       " (13, 24),\n",
       " (13, 25),\n",
       " (13, 26),\n",
       " (13, 27),\n",
       " (13, 28),\n",
       " (13, 29),\n",
       " (13, 30),\n",
       " (13, 31),\n",
       " (13, 32),\n",
       " (13, 33),\n",
       " (13, 34),\n",
       " (13, 35),\n",
       " (13, 36),\n",
       " (13, 37),\n",
       " (13, 38),\n",
       " (13, 39),\n",
       " (13, 40),\n",
       " (13, 41),\n",
       " (13, 42),\n",
       " (13, 43),\n",
       " (13, 44),\n",
       " (13, 45),\n",
       " (13, 46),\n",
       " (13, 47),\n",
       " (13, 48),\n",
       " (13, 49),\n",
       " (13, 50),\n",
       " (13, 51),\n",
       " (13, 52),\n",
       " (13, 53),\n",
       " (13, 54),\n",
       " (13, 55),\n",
       " (13, 56),\n",
       " (13, 57),\n",
       " (13, 58),\n",
       " (13, 59),\n",
       " (14, 15),\n",
       " (14, 16),\n",
       " (14, 17),\n",
       " (14, 18),\n",
       " (14, 19),\n",
       " (14, 20),\n",
       " (14, 21),\n",
       " (14, 22),\n",
       " (14, 23),\n",
       " (14, 24),\n",
       " (14, 25),\n",
       " (14, 26),\n",
       " (14, 27),\n",
       " (14, 28),\n",
       " (14, 29),\n",
       " (14, 30),\n",
       " (14, 31),\n",
       " (14, 32),\n",
       " (14, 33),\n",
       " (14, 34),\n",
       " (14, 35),\n",
       " (14, 36),\n",
       " (14, 37),\n",
       " (14, 38),\n",
       " (14, 39),\n",
       " (14, 40),\n",
       " (14, 41),\n",
       " (14, 42),\n",
       " (14, 43),\n",
       " (14, 44),\n",
       " (14, 45),\n",
       " (14, 46),\n",
       " (14, 47),\n",
       " (14, 48),\n",
       " (14, 49),\n",
       " (14, 50),\n",
       " (14, 51),\n",
       " (14, 52),\n",
       " (14, 53),\n",
       " (14, 54),\n",
       " (14, 55),\n",
       " (14, 56),\n",
       " (14, 57),\n",
       " (14, 58),\n",
       " (14, 59),\n",
       " (15, 16),\n",
       " (15, 17),\n",
       " (15, 18),\n",
       " (15, 19),\n",
       " (15, 20),\n",
       " (15, 21),\n",
       " (15, 22),\n",
       " (15, 23),\n",
       " (15, 24),\n",
       " (15, 25),\n",
       " (15, 26),\n",
       " (15, 27),\n",
       " (15, 28),\n",
       " (15, 29),\n",
       " (15, 30),\n",
       " (15, 31),\n",
       " (15, 32),\n",
       " (15, 33),\n",
       " (15, 34),\n",
       " (15, 35),\n",
       " (15, 36),\n",
       " (15, 37),\n",
       " (15, 38),\n",
       " (15, 39),\n",
       " (15, 40),\n",
       " (15, 41),\n",
       " (15, 42),\n",
       " (15, 43),\n",
       " (15, 44),\n",
       " (15, 45),\n",
       " (15, 46),\n",
       " (15, 47),\n",
       " (15, 48),\n",
       " (15, 49),\n",
       " (15, 50),\n",
       " (15, 51),\n",
       " (15, 52),\n",
       " (15, 53),\n",
       " (15, 54),\n",
       " (15, 55),\n",
       " (15, 56),\n",
       " (15, 57),\n",
       " (15, 58),\n",
       " (15, 59),\n",
       " (16, 17),\n",
       " (16, 18),\n",
       " (16, 19),\n",
       " (16, 20),\n",
       " (16, 21),\n",
       " (16, 22),\n",
       " (16, 23),\n",
       " (16, 24),\n",
       " (16, 25),\n",
       " (16, 26),\n",
       " (16, 27),\n",
       " (16, 28),\n",
       " (16, 29),\n",
       " (16, 30),\n",
       " (16, 31),\n",
       " (16, 32),\n",
       " (16, 33),\n",
       " (16, 34),\n",
       " (16, 35),\n",
       " (16, 36),\n",
       " (16, 37),\n",
       " (16, 38),\n",
       " (16, 39),\n",
       " (16, 40),\n",
       " (16, 41),\n",
       " (16, 42),\n",
       " (16, 43),\n",
       " (16, 44),\n",
       " (16, 45),\n",
       " (16, 46),\n",
       " (16, 47),\n",
       " (16, 48),\n",
       " (16, 49),\n",
       " (16, 50),\n",
       " (16, 51),\n",
       " (16, 52),\n",
       " (16, 53),\n",
       " (16, 54),\n",
       " (16, 55),\n",
       " (16, 56),\n",
       " (16, 57),\n",
       " (16, 58),\n",
       " (16, 59),\n",
       " (17, 18),\n",
       " (17, 19),\n",
       " (17, 20),\n",
       " (17, 21),\n",
       " (17, 22),\n",
       " (17, 23),\n",
       " (17, 24),\n",
       " (17, 25),\n",
       " (17, 26),\n",
       " (17, 27),\n",
       " (17, 28),\n",
       " (17, 29),\n",
       " (17, 30),\n",
       " (17, 31),\n",
       " (17, 32),\n",
       " (17, 33),\n",
       " (17, 34),\n",
       " (17, 35),\n",
       " (17, 36),\n",
       " (17, 37),\n",
       " (17, 38),\n",
       " (17, 39),\n",
       " (17, 40),\n",
       " (17, 41),\n",
       " (17, 42),\n",
       " (17, 43),\n",
       " (17, 44),\n",
       " (17, 45),\n",
       " (17, 46),\n",
       " (17, 47),\n",
       " (17, 48),\n",
       " (17, 49),\n",
       " (17, 50),\n",
       " (17, 51),\n",
       " (17, 52),\n",
       " (17, 53),\n",
       " (17, 54),\n",
       " (17, 55),\n",
       " (17, 56),\n",
       " (17, 57),\n",
       " (17, 58),\n",
       " (17, 59),\n",
       " (18, 19),\n",
       " (18, 20),\n",
       " (18, 21),\n",
       " (18, 22),\n",
       " (18, 23),\n",
       " (18, 24),\n",
       " (18, 25),\n",
       " (18, 26),\n",
       " (18, 27),\n",
       " (18, 28),\n",
       " (18, 29),\n",
       " (18, 30),\n",
       " (18, 31),\n",
       " (18, 32),\n",
       " (18, 33),\n",
       " (18, 34),\n",
       " (18, 35),\n",
       " (18, 36),\n",
       " (18, 37),\n",
       " (18, 38),\n",
       " (18, 39),\n",
       " (18, 40),\n",
       " (18, 41),\n",
       " (18, 42),\n",
       " (18, 43),\n",
       " (18, 44),\n",
       " (18, 45),\n",
       " (18, 46),\n",
       " (18, 47),\n",
       " (18, 48),\n",
       " (18, 49),\n",
       " (18, 50),\n",
       " (18, 51),\n",
       " (18, 52),\n",
       " (18, 53),\n",
       " (18, 54),\n",
       " (18, 55),\n",
       " (18, 56),\n",
       " (18, 57),\n",
       " (18, 58),\n",
       " (18, 59),\n",
       " (19, 20),\n",
       " (19, 21),\n",
       " (19, 22),\n",
       " (19, 23),\n",
       " (19, 24),\n",
       " (19, 25),\n",
       " (19, 26),\n",
       " (19, 27),\n",
       " (19, 28),\n",
       " (19, 29),\n",
       " (19, 30),\n",
       " (19, 31),\n",
       " (19, 32),\n",
       " (19, 33),\n",
       " (19, 34),\n",
       " (19, 35),\n",
       " (19, 36),\n",
       " (19, 37),\n",
       " (19, 38),\n",
       " (19, 39),\n",
       " (19, 40),\n",
       " (19, 41),\n",
       " (19, 42),\n",
       " (19, 43),\n",
       " (19, 44),\n",
       " (19, 45),\n",
       " (19, 46),\n",
       " (19, 47),\n",
       " (19, 48),\n",
       " (19, 49),\n",
       " (19, 50),\n",
       " (19, 51),\n",
       " (19, 52),\n",
       " (19, 53),\n",
       " (19, 54),\n",
       " (19, 55),\n",
       " (19, 56),\n",
       " (19, 57),\n",
       " (19, 58),\n",
       " (19, 59),\n",
       " (20, 21),\n",
       " (20, 22),\n",
       " (20, 23),\n",
       " (20, 24),\n",
       " (20, 25),\n",
       " (20, 26),\n",
       " (20, 27),\n",
       " (20, 28),\n",
       " (20, 29),\n",
       " (20, 30),\n",
       " ...]"
      ]
     },
     "execution_count": 281,
     "metadata": {},
     "output_type": "execute_result"
    }
   ],
   "source": [
    "row_combinations"
   ]
  },
  {
   "cell_type": "code",
   "execution_count": 288,
   "metadata": {},
   "outputs": [
    {
     "data": {
      "text/plain": [
       "0.29289321881345254"
      ]
     },
     "execution_count": 288,
     "metadata": {},
     "output_type": "execute_result"
    }
   ],
   "source": [
    "def middle_cos_sim_distances(X, Y=None):\n",
    "    if Y is None:\n",
    "        #Xだけが入力されていて、Xが2d-arrayの場合\n",
    "        row_combinations = list(combinations(range(0, len(X)), 2))\n",
    "        cos_sim_set = [sub_cos_sim_distances(X, index_set_tuple[0], index_set_tuple[1]) for index_set_tuple in row_combinations]\n",
    "\n",
    "        data = [t[0] for t in cos_sim_set]\n",
    "        row = [t[1] for t in cos_sim_set]\n",
    "        col = [t[2] for t in cos_sim_set]\n",
    "\n",
    "        distance_matrix = np.zeros((X.shape[0], X.shape[0]))\n",
    "        distance_matrix[row, col] = data\n",
    "        return distance_matrix+distance_matrix.T\n",
    "    \n",
    "    #不明なため一旦中断\n",
    "    \n",
    "    elif len(X.shape)==1 and len(Y.shape)==2:\n",
    "        cos_sim_set = np.array([cos_sim_distances(X, Y[y_sample_index]) for y_sample_index in range(0, Y.shape[0])])\n",
    "        return np.array(cos_sim_set)\n",
    "    \n",
    "    elif  len(X.shape)==2 and len(Y.shape)==2:\n",
    "        cos_sim_x_and_all_y = lambda XX, YY: np.array([cos_sim_distances(XX, YY[y_sample_index]) for y_sample_index in range(0, YY.shape[0])])\n",
    "        cos_sim_divergence_set = np.array([cos_sim_x_and_all_y(X[x_i], Y) for x_i in range(0, X.shape[0])])\n",
    "        return np.array(cos_sim_divergence_set)\n",
    "    \n",
    "    else:\n",
    "        raise Exception(\"Exception case caused\")"
   ]
  },
  {
   "cell_type": "code",
   "execution_count": 289,
   "metadata": {},
   "outputs": [],
   "source": [
    "cos_sim_set = [sub_cos_sim_distances(X, index_set_tuple[0], index_set_tuple[1]) for index_set_tuple in row_combinations]"
   ]
  },
  {
   "cell_type": "code",
   "execution_count": 309,
   "metadata": {},
   "outputs": [],
   "source": [
    "X=np.array([[0,1],[1,1], [1,0]])"
   ]
  },
  {
   "cell_type": "code",
   "execution_count": 310,
   "metadata": {},
   "outputs": [],
   "source": [
    "row_combinations = list(combinations(range(0, len(X)), 2))"
   ]
  },
  {
   "cell_type": "code",
   "execution_count": 311,
   "metadata": {},
   "outputs": [],
   "source": [
    "cos_sim_set = [sub_cos_sim_distances(X, index_set_tuple[0], index_set_tuple[1]) for index_set_tuple in row_combinations]"
   ]
  },
  {
   "cell_type": "code",
   "execution_count": 312,
   "metadata": {
    "scrolled": true
   },
   "outputs": [
    {
     "data": {
      "text/plain": [
       "[(0.29289321881345254, 0, 1), (1.0, 0, 2), (0.29289321881345254, 1, 2)]"
      ]
     },
     "execution_count": 312,
     "metadata": {},
     "output_type": "execute_result"
    }
   ],
   "source": [
    "cos_sim_set"
   ]
  },
  {
   "cell_type": "code",
   "execution_count": 317,
   "metadata": {},
   "outputs": [],
   "source": [
    "row = [t[1] for t in cos_sim_set]\n",
    "col = [t[2] for t in cos_sim_set]\n",
    "data = [t[0] for t in cos_sim_set]"
   ]
  },
  {
   "cell_type": "code",
   "execution_count": 314,
   "metadata": {},
   "outputs": [],
   "source": [
    "a = np.zeros((X.shape[0], X.shape[0]))"
   ]
  },
  {
   "cell_type": "code",
   "execution_count": 321,
   "metadata": {},
   "outputs": [],
   "source": [
    "a[row, col] = data"
   ]
  },
  {
   "cell_type": "code",
   "execution_count": 335,
   "metadata": {},
   "outputs": [],
   "source": [
    "Z = np.array([[2,0],[10,10],[-2,0]])"
   ]
  },
  {
   "cell_type": "code",
   "execution_count": 337,
   "metadata": {},
   "outputs": [
    {
     "data": {
      "text/plain": [
       "array([[0.        , 0.29289322, 2.        ],\n",
       "       [0.29289322, 0.        , 1.70710678],\n",
       "       [2.        , 1.70710678, 0.        ]])"
      ]
     },
     "execution_count": 337,
     "metadata": {},
     "output_type": "execute_result"
    }
   ],
   "source": []
  }
 ],
 "metadata": {
  "kernelspec": {
   "display_name": "Python 3",
   "language": "python",
   "name": "python3"
  },
  "language_info": {
   "codemirror_mode": {
    "name": "ipython",
    "version": 3
   },
   "file_extension": ".py",
   "mimetype": "text/x-python",
   "name": "python",
   "nbconvert_exporter": "python",
   "pygments_lexer": "ipython3",
   "version": "3.8.5"
  }
 },
 "nbformat": 4,
 "nbformat_minor": 4
}
