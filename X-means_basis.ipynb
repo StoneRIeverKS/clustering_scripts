{
 "cells": [
  {
   "cell_type": "markdown",
   "metadata": {},
   "source": [
    "# import"
   ]
  },
  {
   "cell_type": "code",
   "execution_count": 1,
   "metadata": {},
   "outputs": [],
   "source": [
    "import numpy as np\n",
    "from scipy import stats #高度な科学技術計算を行うためのモジュール\n",
    "from sklearn.cluster import KMeans \n",
    "import matplotlib.pyplot as plt \n",
    "from IPython.display import display, HTML # 画像表示などを行うためのモジュール\n",
    "%matplotlib inline"
   ]
  },
  {
   "cell_type": "markdown",
   "metadata": {},
   "source": [
    "# X-meansを行うクラスの定義"
   ]
  },
  {
   "cell_type": "code",
   "execution_count": 2,
   "metadata": {},
   "outputs": [],
   "source": [
    "class XMeans:\n",
    "    \"\"\"\n",
    "    x-means法を行うクラス\n",
    "    \"\"\"\n",
    "\n",
    "    def __init__(self, k_init = 2, **k_means_args):\n",
    "        \"\"\"\n",
    "        k_init : The initial number of clusters applied to KMeans()\n",
    "        \"\"\"\n",
    "        self.k_init = k_init\n",
    "        self.k_means_args = k_means_args\n",
    "\n",
    "    def fit(self, X):\n",
    "        \"\"\"\n",
    "        x-means法を使ってデータXをクラスタリングする\n",
    "        X : array-like or sparse matrix, shape=(n_samples, n_features)\n",
    "        \"\"\"\n",
    "        self.__clusters = [] \n",
    "\n",
    "        clusters = self.Cluster.build(X, KMeans(self.k_init, **self.k_means_args).fit(X))\n",
    "        self.__recursively_split(clusters)\n",
    "\n",
    "        self.labels_ = np.empty(X.shape[0], dtype = np.intp)\n",
    "        for i, c in enumerate(self.__clusters):\n",
    "            self.labels_[c.index] = i\n",
    "\n",
    "        self.cluster_centers_ = np.array([c.center for c in self.__clusters])\n",
    "        self.cluster_log_likelihoods_ = np.array([c.log_likelihood() for c in self.__clusters])\n",
    "        self.cluster_sizes_ = np.array([c.size for c in self.__clusters])\n",
    "\n",
    "        return self\n",
    "\n",
    "    def __recursively_split(self, clusters):\n",
    "        \"\"\"\n",
    "        引数のclustersを再帰的に分割する\n",
    "        clusters : list-like object, which contains instances of 'XMeans.Cluster'\n",
    "        'XMeans.Cluster'のインスタンスを含むリスト型オブジェクト\n",
    "        \"\"\"\n",
    "        for cluster in clusters:\n",
    "            if cluster.size <= 3:\n",
    "                self.__clusters.append(cluster)\n",
    "                continue\n",
    "\n",
    "            k_means = KMeans(2, **self.k_means_args).fit(cluster.data)\n",
    "            c1, c2 = self.Cluster.build(cluster.data, k_means, cluster.index)\n",
    "\n",
    "            beta = np.linalg.norm(c1.center - c2.center) / np.sqrt(np.linalg.det(c1.cov) + np.linalg.det(c2.cov))\n",
    "            alpha = 0.5 / stats.norm.cdf(beta)\n",
    "            bic = -2 * (cluster.size * np.log(alpha) + c1.log_likelihood() + c2.log_likelihood()) + 2 * cluster.df * np.log(cluster.size)\n",
    "\n",
    "            if bic < cluster.bic():\n",
    "                self.__recursively_split([c1, c2])\n",
    "            else:\n",
    "                self.__clusters.append(cluster)\n",
    "\n",
    "    class Cluster:\n",
    "        \"\"\"\n",
    "        k-means法によって生成されたクラスタに関する情報を持ち、尤度やBICの計算を行うクラス\n",
    "        \"\"\"\n",
    "\n",
    "        @classmethod\n",
    "        def build(cls, X, k_means, index = None): \n",
    "            if index is None:\n",
    "                index = np.array(range(0, X.shape[0]))\n",
    "            labels = range(0, k_means.get_params()[\"n_clusters\"])  \n",
    "\n",
    "            return tuple(cls(X, index, k_means, label) for label in labels) \n",
    "\n",
    "        # index: Xの各行におけるサンプルが元データの何行目のものかを示すベクトル\n",
    "        def __init__(self, X, index, k_means, label):\n",
    "            self.data = X[k_means.labels_ == label]\n",
    "            self.index = index[k_means.labels_ == label]\n",
    "            self.size = self.data.shape[0]\n",
    "            self.df = self.data.shape[1] * (self.data.shape[1] + 3) / 2\n",
    "            self.center = k_means.cluster_centers_[label]\n",
    "            self.cov = np.cov(self.data.T)\n",
    "\n",
    "        def log_likelihood(self):\n",
    "            return sum(stats.multivariate_normal.logpdf(x, self.center, self.cov) for x in self.data)\n",
    "\n",
    "        def bic(self):\n",
    "            return -2 * self.log_likelihood() + self.df * np.log(self.size)"
   ]
  },
  {
   "cell_type": "markdown",
   "metadata": {},
   "source": [
    "# X-meansを実行"
   ]
  },
  {
   "cell_type": "markdown",
   "metadata": {},
   "source": [
    "## 重心が十分離れているパターン"
   ]
  },
  {
   "cell_type": "code",
   "execution_count": 16,
   "metadata": {
    "scrolled": true
   },
   "outputs": [
    {
     "name": "stderr",
     "output_type": "stream",
     "text": [
      "No handles with labels found to put in legend.\n",
      "findfont: Font family ['Hiragino Kaku Gothic Pro'] not found. Falling back to DejaVu Sans.\n",
      "findfont: Font family ['Hiragino Kaku Gothic Pro'] not found. Falling back to DejaVu Sans.\n"
     ]
    },
    {
     "name": "stdout",
     "output_type": "stream",
     "text": [
      "[0 0 0 0 0 0 0 0 0 0 0 0 0 0 0 0 0 0 0 0 2 2 2 2 2 2 2 2 2 2 2 2 2 2 2 2 2\n",
      " 2 2 2 1 1 1 1 1 1 1 1 1 1 1 1 1 1 1 1 1 1 1 1 3 3 3 3 3 3 3 3 3 3 3 3 3 3\n",
      " 3 3 3 3 3 3]\n",
      "[[0.99442311 0.99420664]\n",
      " [1.98832853 0.96354417]\n",
      " [1.04762256 2.00897396]\n",
      " [1.97294061 2.00550766]]\n",
      "[37.4476668  34.30040191 39.35161283 40.15939492]\n",
      "[20 20 20 20]\n"
     ]
    },
    {
     "data": {
      "image/png": "[encoded data removed]",
      "text/plain": [
       "<Figure size 432x288 with 1 Axes>"
      ]
     },
     "metadata": {
      "needs_background": "light"
     },
     "output_type": "display_data"
    }
   ],
   "source": [
    "if __name__ == \"__main__\":\n",
    "    import matplotlib.pyplot as plt\n",
    "\n",
    "    # データの準備\n",
    "    x = np.array([np.random.normal(loc, 0.1, 20) for loc in np.repeat([1,2], 2)]).flatten() #ランダムな80個の数を生成\n",
    "    y = np.array([np.random.normal(loc, 0.1, 20) for loc in np.tile([1,2], 2)]).flatten() #ランダムな80個の数を生成\n",
    "        #np.repeat([1, 2], 2)の出力結果は1,1,2,2\n",
    "        #np.tile([1, 2], 2)の出力結果は1,2,1,2\n",
    "        #np.random.normal(平均, 標準偏差, 出力配列のサイズ)        \n",
    "    \n",
    "    # クラスタリングの実行\n",
    "    x_means = XMeans(random_state = 1).fit(np.c_[x,y])  \n",
    "    print(x_means.labels_)\n",
    "    print(x_means.cluster_centers_)\n",
    "    print(x_means.cluster_log_likelihoods_)\n",
    "    print(x_means.cluster_sizes_)\n",
    "\n",
    "    # 結果をプロット\n",
    "    plt.rcParams[\"font.family\"] = \"Hiragino Kaku Gothic Pro\"\n",
    "    plt.scatter(x, y, c = x_means.labels_, s = 30)\n",
    "    plt.scatter(x_means.cluster_centers_[:,0], x_means.cluster_centers_[:,1], c = \"r\", marker = \"+\", s = 100)\n",
    "    plt.xlim(0, 3)\n",
    "    plt.ylim(0, 3)\n",
    "    plt.title(\"x-means_test1\")\n",
    "    plt.legend()\n",
    "    plt.grid()\n",
    "    plt.show()"
   ]
  },
  {
   "cell_type": "markdown",
   "metadata": {},
   "source": [
    "## クラスタ数が多いパターン(クラスタ数=100)"
   ]
  },
  {
   "cell_type": "code",
   "execution_count": 15,
   "metadata": {},
   "outputs": [
    {
     "name": "stderr",
     "output_type": "stream",
     "text": [
      "No handles with labels found to put in legend.\n",
      "findfont: Font family ['Hiragino Kaku Gothic Pro'] not found. Falling back to DejaVu Sans.\n",
      "findfont: Font family ['Hiragino Kaku Gothic Pro'] not found. Falling back to DejaVu Sans.\n"
     ]
    },
    {
     "name": "stdout",
     "output_type": "stream",
     "text": [
      "[0 0 0 0 0 0 0 0 0 0 0 0 0 0 0 0 0 0 0 0 0 0 0 0 0 0 0 0 0 0 0 0 0 0 0 0 0\n",
      " 0 0 0 0 0 0 0 0 0 0 0 0 0 0 0 0 0 0 0 0 0 0 0 0 0 0 0 0 0 0 0 0 0 0 0 0 0\n",
      " 0 0 0 0 0 0 0 0 0 0 0 0 0 0 0 0 0 0 0 0 0 0 0 0 0 0 0 0 0 0 0 0 0 0 0 0 0\n",
      " 0 0 0 0 0 0 0 0 0 5 5 5 5 5 5 5 5 5 5 5 5 5 5 5 5 5 5 5 5 6 6 6 6 6 6 6 6\n",
      " 6 6 6 6 6 6 6 6 6 6 6 6 7 7 7 7 7 7 7 7 7 7 7 7 7 7 7 7 7 7 7 7 8 8 8 8 8\n",
      " 8 8 8 8 8 8 8 8 8 8 8 8 8 8 8 1 1 1 1 1 1 1 1 1 1 1 1 1 1 1 1 1 1 1 1 2 2\n",
      " 2 2 2 2 2 2 2 2 2 2 2 2 2 2 2 2 2 2 3 3 3 3 3 3 3 3 3 3 3 3 3 3 3 3 3 3 3\n",
      " 3 4 4 4 4 4 4 4 4 4 4 4 4 4 4 4 4 4 4 4 4 9 9 9 9 9 9 9 9 9 9 9 9 9 9 9 9\n",
      " 9 9 9 9 9 9 9 9 9 9 9 9 9 9 9 9 9 9 9 9 9 9 9 9 9 9 9 9 9 9 9 9 9 9 9 9 9\n",
      " 9 9 9 9 9 9 9 9 9 9 9 9 9 9 9 9 9 9 9 9 9 9 9 9 9 9 9 9 9 9 9 9 9 9 9 9 9\n",
      " 9 9 9 9 9 9 9 9 9 9 9 9 9 9 9 9 9 9 9 9 9 9 9 9 9 9 9 9 9 9]\n",
      "[[ 2.00022741  3.50631497]\n",
      " [ 6.00597206  1.01263096]\n",
      " [ 6.04527536  1.98210798]\n",
      " [ 7.00815969  3.04990966]\n",
      " [ 6.97162784  4.02608134]\n",
      " [ 4.0026246   7.0034486 ]\n",
      " [ 4.00363168  7.99671576]\n",
      " [ 4.96699804  9.02264634]\n",
      " [ 5.0221368  10.00988222]\n",
      " [ 9.01029159  7.49397559]]\n",
      "[-247.59840599   45.03496836   42.33667961   34.2843134    33.45406228\n",
      "   39.37087952   39.14853457   37.49656292   40.22549187 -243.18858127]\n",
      "[120  20  20  20  20  20  20  20  20 120]\n"
     ]
    },
    {
     "data": {
      "image/png": "[encoded data removed]",
      "text/plain": [
       "<Figure size 432x288 with 1 Axes>"
      ]
     },
     "metadata": {
      "needs_background": "light"
     },
     "output_type": "display_data"
    }
   ],
   "source": [
    "if __name__ == \"__main__\":\n",
    "    import matplotlib.pyplot as plt\n",
    "\n",
    "    # データの準備\n",
    "    x = np.array([np.random.normal(loc, 0.1, 20) for loc in np.repeat(range(1,11,1), 2)]).flatten() #ランダムな2000個の数を生成\n",
    "    y = np.array([np.random.normal(loc, 0.1, 20) for loc in np.tile(range(1,11,1), 2)]).flatten() #ランダムな2000個の数を生成\n",
    "        #np.repeat([1, 2], 2)の出力結果は1,1,2,2\n",
    "        #np.tile([1, 2], 2)の出力結果は1,2,1,2\n",
    "        #np.random.normal(平均, 標準偏差, 出力配列のサイズ)      \n",
    "        #flattenは多次元配列を1次元に直すメソッド\n",
    "\n",
    "        \n",
    "    # クラスタリングの実行\n",
    "    x_means = XMeans(random_state = 1).fit(np.c_[x,y])  \n",
    "    print(x_means.labels_)\n",
    "    print(x_means.cluster_centers_)\n",
    "    print(x_means.cluster_log_likelihoods_)\n",
    "    print(x_means.cluster_sizes_)\n",
    "\n",
    "    # 結果をプロット\n",
    "    plt.rcParams[\"font.family\"] = \"Hiragino Kaku Gothic Pro\"\n",
    "    plt.scatter(x, y, c = x_means.labels_, s = 30)\n",
    "    plt.scatter(x_means.cluster_centers_[:,0], x_means.cluster_centers_[:,1], c = \"r\", marker = \"+\", s = 100)\n",
    "    plt.xlim(0, 3)\n",
    "    plt.ylim(0, 3)\n",
    "    plt.title(\"x-means_test1\")\n",
    "    plt.legend()\n",
    "    plt.grid()\n",
    "    plt.show()"
   ]
  },
  {
   "cell_type": "code",
   "execution_count": 14,
   "metadata": {},
   "outputs": [
    {
     "name": "stderr",
     "output_type": "stream",
     "text": [
      "<ipython-input-14-4734bbe12621>:11: UserWarning: Matplotlib is currently using module://ipykernel.pylab.backend_inline, which is a non-GUI backend, so cannot show the figure.\n",
      "  fig.show()\n"
     ]
    },
    {
     "data": {
      "image/png": "[encoded data removed]",
      "text/plain": [
       "<Figure size 432x288 with 1 Axes>"
      ]
     },
     "metadata": {
      "needs_background": "light"
     },
     "output_type": "display_data"
    }
   ],
   "source": [
    "fig = plt.figure()\n",
    "\n",
    "ax = fig.add_subplot(1,1,1)\n",
    "\n",
    "ax.scatter(x,y)\n",
    "\n",
    "ax.set_title('first scatter plot')\n",
    "ax.set_xlabel('x')\n",
    "ax.set_ylabel('y')\n",
    "\n",
    "fig.show()"
   ]
  },
  {
   "cell_type": "code",
   "execution_count": 6,
   "metadata": {},
   "outputs": [
    {
     "data": {
      "text/plain": [
       "array([ 1,  1,  1,  1,  1,  1,  1,  1,  1,  1,  2,  2,  2,  2,  2,  2,  2,\n",
       "        2,  2,  2,  3,  3,  3,  3,  3,  3,  3,  3,  3,  3,  4,  4,  4,  4,\n",
       "        4,  4,  4,  4,  4,  4,  5,  5,  5,  5,  5,  5,  5,  5,  5,  5,  6,\n",
       "        6,  6,  6,  6,  6,  6,  6,  6,  6,  7,  7,  7,  7,  7,  7,  7,  7,\n",
       "        7,  7,  8,  8,  8,  8,  8,  8,  8,  8,  8,  8,  9,  9,  9,  9,  9,\n",
       "        9,  9,  9,  9,  9, 10, 10, 10, 10, 10, 10, 10, 10, 10, 10])"
      ]
     },
     "execution_count": 6,
     "metadata": {},
     "output_type": "execute_result"
    }
   ],
   "source": [
    "    "
   ]
  }
 ],
 "metadata": {
  "kernelspec": {
   "display_name": "Python 3",
   "language": "python",
   "name": "python3"
  },
  "language_info": {
   "codemirror_mode": {
    "name": "ipython",
    "version": 3
   },
   "file_extension": ".py",
   "mimetype": "text/x-python",
   "name": "python",
   "nbconvert_exporter": "python",
   "pygments_lexer": "ipython3",
   "version": "3.8.5"
  }
 },
 "nbformat": 4,
 "nbformat_minor": 4
}
