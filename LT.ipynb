{
 "cells": [
  {
   "cell_type": "markdown",
   "metadata": {},
   "source": [
    "# import"
   ]
  },
  {
   "cell_type": "code",
   "execution_count": 1,
   "metadata": {},
   "outputs": [],
   "source": [
    "import numpy as np\n",
    "from scipy import stats #高度な科学技術計算を行うためのモジュール\n",
    "from sklearn.cluster import KMeans \n",
    "import matplotlib.pyplot as plt \n",
    "from IPython.display import display, HTML # 画像表示などを行うためのモジュール\n",
    "from mpl_toolkits.mplot3d import Axes3D\n",
    "%matplotlib inline"
   ]
  },
  {
   "cell_type": "markdown",
   "metadata": {},
   "source": [
    "# メソッドの定義"
   ]
  },
  {
   "cell_type": "code",
   "execution_count": 22,
   "metadata": {},
   "outputs": [],
   "source": [
    "def log_likelihood(data, center, cov):\n",
    "            return sum(stats.multivariate_normal.logpdf(x, center, cov) for x in data)"
   ]
  },
  {
   "cell_type": "code",
   "execution_count": 29,
   "metadata": {},
   "outputs": [],
   "source": [
    "def bic(data, center, cov):\n",
    "            return -2 * log_likelihood(data, center, cov) + 2 * np.log(data.size)"
   ]
  },
  {
   "cell_type": "markdown",
   "metadata": {},
   "source": [
    "# Xmeansのクラス"
   ]
  },
  {
   "cell_type": "code",
   "execution_count": 41,
   "metadata": {},
   "outputs": [],
   "source": [
    "class XMeans:\n",
    "    \"\"\"\n",
    "    x-means法を行うクラス\n",
    "    \"\"\"\n",
    "\n",
    "    def __init__(self, k_init = 2, **k_means_args):\n",
    "        \"\"\"\n",
    "        k_init : The initial number of clusters applied to KMeans()\n",
    "        \"\"\"\n",
    "        self.k_init = k_init\n",
    "        self.k_means_args = k_means_args\n",
    "\n",
    "    def fit(self, X):\n",
    "        \"\"\"\n",
    "        x-means法を使ってデータXをクラスタリングする\n",
    "        X : array-like or sparse matrix, shape=(n_samples, n_features)\n",
    "        \"\"\"\n",
    "        self.__clusters = [] #clustersにはもうこれ以上分割しないデータが格納される\n",
    "\n",
    "        clusters = self.Cluster.build(X, KMeans(self.k_init, **self.k_means_args).fit(X))\n",
    "        self.__recursively_split(clusters)\n",
    "\n",
    "        self.labels_ = np.empty(X.shape[0], dtype = np.intp)\n",
    "        for i, c in enumerate(self.__clusters):\n",
    "            self.labels_[c.index] = i\n",
    "\n",
    "        self.cluster_centers_ = np.array([c.center for c in self.__clusters])\n",
    "        self.cluster_log_likelihoods_ = np.array([c.log_likelihood() for c in self.__clusters])\n",
    "        self.cluster_sizes_ = np.array([c.size for c in self.__clusters])\n",
    "\n",
    "        return self\n",
    "\n",
    "    def __recursively_split(self, clusters):\n",
    "        \"\"\"\n",
    "        引数のclustersを再帰的に分割する\n",
    "        clusters : list-like object, which contains instances of 'XMeans.Cluster'\n",
    "        'XMeans.Cluster'のインスタンスを含むリスト型オブジェクト\n",
    "        \"\"\"\n",
    "        for cluster in clusters:\n",
    "            if cluster.size <= 3:\n",
    "                self.__clusters.append(cluster) #仮説：クラスタに含まれるデータの個数が3個以内の場合はこれ以上分割しない\n",
    "                continue #cluster.size<=3だったら次のループへいく。そうではなかったら次の処理へ進む\n",
    "\n",
    "            k_means = KMeans(2, **self.k_means_args).fit(cluster.data)\n",
    "            c1, c2 = self.Cluster.build(cluster.data, k_means, cluster.index)\n",
    "\n",
    "            beta = np.linalg.norm(c1.center - c2.center) / np.sqrt(np.linalg.det(c1.cov) + np.linalg.det(c2.cov))\n",
    "            alpha = 0.5 / stats.norm.cdf(beta)\n",
    "            bic = -2 * (cluster.size * np.log(alpha) + c1.log_likelihood() + c2.log_likelihood()) + 2 * cluster.df * np.log(cluster.size)\n",
    "                      \n",
    "            if bic < cluster.bic():\n",
    "                self.__recursively_split([c1, c2]) #更なる分割を行う\n",
    "            else:\n",
    "                self.__clusters.append(cluster) #これ以上分割しない\n",
    "\n",
    "    class Cluster:\n",
    "        \"\"\"\n",
    "        k-means法によって生成されたクラスタに関する情報を持ち、尤度やBICの計算を行うクラス\n",
    "        \"\"\"\n",
    "\n",
    "        @classmethod\n",
    "        def build(cls, X, k_means, index = None): \n",
    "            if index is None:\n",
    "                index = np.array(range(0, X.shape[0]))\n",
    "            labels = range(0, k_means.get_params()[\"n_clusters\"])  \n",
    "\n",
    "            return tuple(cls(X, index, k_means, label) for label in labels) #ここでクラスター結果を入れたインスタンスを生成し、クラスタ数分の「インスタンスを返す\n",
    "        \n",
    "\n",
    "        # index: Xの各行におけるサンプルが元データの何行目のものかを示すベクトル\n",
    "        def __init__(self, X, index, k_means, label):\n",
    "            self.data = X[k_means.labels_ == label]\n",
    "            self.index = index[k_means.labels_ == label]\n",
    "            self.size = self.data.shape[0]\n",
    "            self.df = self.data.shape[1] * (self.data.shape[1] + 3) / 2\n",
    "            self.center = k_means.cluster_centers_[label]\n",
    "            self.cov = np.cov(self.data.T)\n",
    "\n",
    "        def log_likelihood(self):\n",
    "            return sum(stats.multivariate_normal.logpdf(x, self.center, self.cov) for x in self.data)\n",
    "\n",
    "        def bic(self):\n",
    "            return -2 * self.log_likelihood() + self.df * np.log(self.size)"
   ]
  },
  {
   "cell_type": "markdown",
   "metadata": {},
   "source": [
    "# シミュレーションデータ作成"
   ]
  },
  {
   "cell_type": "code",
   "execution_count": 74,
   "metadata": {},
   "outputs": [
    {
     "name": "stderr",
     "output_type": "stream",
     "text": [
      "No handles with labels found to put in legend.\n"
     ]
    },
    {
     "data": {
      "image/png": "[encoded data removed]",
      "text/plain": [
       "<Figure size 432x288 with 1 Axes>"
      ]
     },
     "metadata": {
      "needs_background": "light"
     },
     "output_type": "display_data"
    }
   ],
   "source": [
    "#シミュレーションデータ作成\n",
    "x = np.array([np.random.normal(loc, 0.3, 20) for loc in [3, 1, -1]]).flatten() #ランダムな80個の数を生成\n",
    "y = np.array([np.random.normal(loc, 0.3, 20) for loc in [1, 3, -1]]).flatten() #ランダムな80個の数を生成\n",
    "data = np.c_[x, y]\n",
    "\n",
    "plt.scatter(x, y)\n",
    "plt.xlim(-2, 4)\n",
    "plt.ylim(-2, 4)\n",
    "plt.legend()\n",
    "plt.grid()\n",
    "plt.show()"
   ]
  },
  {
   "cell_type": "markdown",
   "metadata": {},
   "source": [
    "# kmeansの実行"
   ]
  },
  {
   "cell_type": "code",
   "execution_count": 80,
   "metadata": {
    "scrolled": false
   },
   "outputs": [
    {
     "name": "stderr",
     "output_type": "stream",
     "text": [
      "No handles with labels found to put in legend.\n"
     ]
    },
    {
     "data": {
      "image/png": "[encoded data removed]",
      "text/plain": [
       "<Figure size 432x288 with 1 Axes>"
      ]
     },
     "metadata": {
      "needs_background": "light"
     },
     "output_type": "display_data"
    }
   ],
   "source": [
    "#kmeansを実装\n",
    "km_model_cos_sim = KMeans(\n",
    "    n_clusters = 2,\n",
    "    random_state = 10,\n",
    "    init = \"random\"\n",
    "    )\n",
    "\n",
    "#モデルへのあてはめ\n",
    "y_km_cos_sim = km_model_cos_sim.fit(data)\n",
    "\n",
    "#結果をプロット\n",
    "plt.rcParams[\"font.family\"] = \"Hiragino Kaku Gothic Pro\"\n",
    "plt.scatter(x, y, c = y_km_cos_sim.labels_, s = 30)\n",
    "plt.xlim(-2, 4)\n",
    "plt.ylim(-2, 4)\n",
    "plt.legend()\n",
    "plt.grid()\n",
    "plt.show()"
   ]
  },
  {
   "cell_type": "markdown",
   "metadata": {},
   "source": [
    "# xmeansの実行"
   ]
  },
  {
   "cell_type": "code",
   "execution_count": 77,
   "metadata": {},
   "outputs": [
    {
     "name": "stderr",
     "output_type": "stream",
     "text": [
      "No handles with labels found to put in legend.\n"
     ]
    },
    {
     "data": {
      "image/png": "[encoded data removed]",
      "text/plain": [
       "<Figure size 432x288 with 1 Axes>"
      ]
     },
     "metadata": {
      "needs_background": "light"
     },
     "output_type": "display_data"
    }
   ],
   "source": [
    "#x-means実行\n",
    "x_means = XMeans(random_state = 1).fit(data)\n",
    "\n",
    "#結果をプロット\n",
    "plt.rcParams[\"font.family\"] = \"Hiragino Kaku Gothic Pro\"\n",
    "plt.scatter(x, y, c = x_means.labels_, s = 30)\n",
    "plt.xlim(-2, 4)\n",
    "plt.ylim(-2, 4)\n",
    "plt.title(\"x_means\")\n",
    "plt.legend()\n",
    "plt.grid()\n",
    "plt.show()"
   ]
  },
  {
   "cell_type": "code",
   "execution_count": 57,
   "metadata": {},
   "outputs": [
    {
     "data": {
      "text/plain": [
       "array([0, 0, 0, 0, 0, 0, 0, 0, 0, 0, 0, 0, 0, 0, 0, 0, 0, 0, 0, 0, 0, 0,\n",
       "       0, 0, 0, 0, 0, 0, 0, 0, 0, 0, 0, 0, 0, 0, 0, 0, 0, 0, 1, 1, 1, 1,\n",
       "       1, 1, 1, 1, 1, 1, 1, 1, 1, 1, 1, 1, 1, 1, 1, 1], dtype=int64)"
      ]
     },
     "execution_count": 57,
     "metadata": {},
     "output_type": "execute_result"
    }
   ],
   "source": [
    "x_means.labels_"
   ]
  },
  {
   "cell_type": "markdown",
   "metadata": {},
   "source": [
    "# BICの計算"
   ]
  },
  {
   "cell_type": "code",
   "execution_count": 81,
   "metadata": {},
   "outputs": [
    {
     "name": "stdout",
     "output_type": "stream",
     "text": [
      "453.95056102333285\n"
     ]
    }
   ],
   "source": [
    "#0回分割\n",
    "mean_x = np.mean(x)\n",
    "mean_y = np.mean(y)\n",
    "data_cov = np.cov(data.T)\n",
    "\n",
    "#BIC\n",
    "print(bic(data=data, center=[mean_x, mean_y], cov=data_cov))"
   ]
  },
  {
   "cell_type": "code",
   "execution_count": 78,
   "metadata": {},
   "outputs": [],
   "source": [
    "#1回分割\n",
    "#クラスタをごとにデータを分ける\n",
    "x1 = x[0:20]\n",
    "x2 = x[20:60]\n",
    "y1 = y[0:20]\n",
    "y2 = y[20:60]\n",
    "\n",
    "data1 = np.c_[x1, y1]\n",
    "data2 = np.c_[x2, y2]\n",
    "\n",
    "#各クラスタの平均\n",
    "mean_x1 = np.mean(x1)\n",
    "mean_y1 = np.mean(y1)\n",
    "mean_x2 = np.mean(x2)\n",
    "mean_y2 = np.mean(y2)\n",
    "\n",
    "#共変量を計算\n",
    "data1_cov = np.cov(data1.T)\n",
    "data2_cov = np.cov(data2.T)"
   ]
  },
  {
   "cell_type": "code",
   "execution_count": 50,
   "metadata": {},
   "outputs": [
    {
     "name": "stdout",
     "output_type": "stream",
     "text": [
      "25.1328666145827\n",
      "189.5000637328615\n"
     ]
    }
   ],
   "source": [
    "#1回分割したクラスタのBIC\n",
    "print(bic(data=data1, center=[mean_x1, mean_y1], cov=data1_cov))\n",
    "print(bic(data=data2, center=[mean_x2, mean_y2], cov=data2_cov))"
   ]
  },
  {
   "cell_type": "code",
   "execution_count": 79,
   "metadata": {},
   "outputs": [],
   "source": [
    "#2回分割\n",
    "#クラスタをごとにデータを分ける\n",
    "x1 = x[0:20]\n",
    "x2 = x[20:40]\n",
    "x3 = x[40:60]\n",
    "y1 = y[0:20]\n",
    "y2 = y[20:40]\n",
    "y3 = y[40:60]\n",
    "\n",
    "\n",
    "data1 = np.c_[x1, y1]\n",
    "data2 = np.c_[x2, y2]\n",
    "data3 = np.c_[x3, y3]\n",
    "\n",
    "#各クラスタの平均\n",
    "mean_x1 = np.mean(x1)\n",
    "mean_y1 = np.mean(y1)\n",
    "mean_x2 = np.mean(x2)\n",
    "mean_y2 = np.mean(y2)\n",
    "mean_x3 = np.mean(x3)\n",
    "mean_y3 = np.mean(y3)\n",
    "\n",
    "#共変量を計算\n",
    "data1_cov = np.cov(data1.T)\n",
    "data2_cov = np.cov(data2.T)\n",
    "data3_cov = np.cov(data3.T)"
   ]
  },
  {
   "cell_type": "code",
   "execution_count": 52,
   "metadata": {
    "scrolled": true
   },
   "outputs": [
    {
     "name": "stdout",
     "output_type": "stream",
     "text": [
      "25.1328666145827\n",
      "48.2848894883386\n"
     ]
    }
   ],
   "source": [
    "#2回分割したクラスタのBIC\n",
    "print(bic(data=data1, center=[mean_x1, mean_y1], cov=data1_cov))\n",
    "print(bic(data=data2, center=[mean_x2, mean_y2], cov=data2_cov)+bic(data=data3, center=[mean_x3, mean_y3], cov=data3_cov))"
   ]
  }
 ],
 "metadata": {
  "kernelspec": {
   "display_name": "Python 3",
   "language": "python",
   "name": "python3"
  },
  "language_info": {
   "codemirror_mode": {
    "name": "ipython",
    "version": 3
   },
   "file_extension": ".py",
   "mimetype": "text/x-python",
   "name": "python",
   "nbconvert_exporter": "python",
   "pygments_lexer": "ipython3",
   "version": "3.8.5"
  }
 },
 "nbformat": 4,
 "nbformat_minor": 4
}
